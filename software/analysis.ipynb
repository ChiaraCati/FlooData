{
 "cells": [
  {
   "cell_type": "code",
   "execution_count": null,
   "metadata": {},
   "outputs": [],
   "source": []
  },
  {
   "cell_type": "code",
   "execution_count": 39,
   "metadata": {},
   "outputs": [],
   "source": [
    "import pandas as pd \n",
    "import numpy as nm \n",
    "import pandas_profiling as pp"
   ]
  },
  {
   "cell_type": "code",
   "execution_count": 40,
   "metadata": {},
   "outputs": [
    {
     "data": {
      "text/html": [
       "<div>\n",
       "<style scoped>\n",
       "    .dataframe tbody tr th:only-of-type {\n",
       "        vertical-align: middle;\n",
       "    }\n",
       "\n",
       "    .dataframe tbody tr th {\n",
       "        vertical-align: top;\n",
       "    }\n",
       "\n",
       "    .dataframe thead th {\n",
       "        text-align: right;\n",
       "    }\n",
       "</style>\n",
       "<table border=\"1\" class=\"dataframe\">\n",
       "  <thead>\n",
       "    <tr style=\"text-align: right;\">\n",
       "      <th></th>\n",
       "      <th>prov_name</th>\n",
       "      <th>prov_code</th>\n",
       "      <th>area (kmq)</th>\n",
       "      <th>high_hydraulic_risk_area_p3 (%)</th>\n",
       "      <th>medium_hydraulic_risk_area_p2 (%)</th>\n",
       "      <th>low_hydraulic_risk_area_p1 (%)</th>\n",
       "      <th>very_high_landslide_risk_area_p4 (%)</th>\n",
       "      <th>high_landslide_risk_area_p3 (%)</th>\n",
       "      <th>medium_landslide_risk_area_p2 (%)</th>\n",
       "      <th>low_landslide_risk_area_p1 (%)</th>\n",
       "      <th>...</th>\n",
       "      <th>attention_enterprise (%)</th>\n",
       "      <th>cultural_heritage (n)</th>\n",
       "      <th>high_hydraulic_risk_cultural_heritage_p3 (%)</th>\n",
       "      <th>medium_hydraulic_risk_cultural_heritage_p2 (%)</th>\n",
       "      <th>low_hydraulic_risk_cultural_heritage_p1 (%)</th>\n",
       "      <th>very_high_landslide_risk_cultural_heritage_p4 (%)</th>\n",
       "      <th>high_landslide_risk_cultural_heritage_p3 (%)</th>\n",
       "      <th>medium_landslide_risk_cultural_heritage_p2 (%)</th>\n",
       "      <th>low_landslide_risk_cultural_heritage_p1 (%)</th>\n",
       "      <th>attention_cultural_heritage (%)</th>\n",
       "    </tr>\n",
       "  </thead>\n",
       "  <tbody>\n",
       "    <tr>\n",
       "      <th>0</th>\n",
       "      <td>Piacenza</td>\n",
       "      <td>PC</td>\n",
       "      <td>2585.765</td>\n",
       "      <td>7.111</td>\n",
       "      <td>23.284</td>\n",
       "      <td>24.885</td>\n",
       "      <td>3.876</td>\n",
       "      <td>13.674</td>\n",
       "      <td>0.185</td>\n",
       "      <td>0.000</td>\n",
       "      <td>...</td>\n",
       "      <td>0.000</td>\n",
       "      <td>2251</td>\n",
       "      <td>3.554</td>\n",
       "      <td>48.290</td>\n",
       "      <td>52.999</td>\n",
       "      <td>0.355</td>\n",
       "      <td>4.531</td>\n",
       "      <td>1.111</td>\n",
       "      <td>0.000</td>\n",
       "      <td>0.000</td>\n",
       "    </tr>\n",
       "    <tr>\n",
       "      <th>1</th>\n",
       "      <td>Parma</td>\n",
       "      <td>PR</td>\n",
       "      <td>3447.400</td>\n",
       "      <td>10.092</td>\n",
       "      <td>25.140</td>\n",
       "      <td>27.911</td>\n",
       "      <td>6.228</td>\n",
       "      <td>11.544</td>\n",
       "      <td>3.036</td>\n",
       "      <td>0.001</td>\n",
       "      <td>...</td>\n",
       "      <td>0.000</td>\n",
       "      <td>2654</td>\n",
       "      <td>12.773</td>\n",
       "      <td>54.446</td>\n",
       "      <td>61.869</td>\n",
       "      <td>2.751</td>\n",
       "      <td>3.014</td>\n",
       "      <td>0.904</td>\n",
       "      <td>0.000</td>\n",
       "      <td>0.000</td>\n",
       "    </tr>\n",
       "    <tr>\n",
       "      <th>2</th>\n",
       "      <td>Reggio Emilia</td>\n",
       "      <td>RE</td>\n",
       "      <td>2291.145</td>\n",
       "      <td>5.977</td>\n",
       "      <td>46.257</td>\n",
       "      <td>50.943</td>\n",
       "      <td>5.896</td>\n",
       "      <td>7.913</td>\n",
       "      <td>0.137</td>\n",
       "      <td>0.007</td>\n",
       "      <td>...</td>\n",
       "      <td>0.000</td>\n",
       "      <td>4074</td>\n",
       "      <td>6.873</td>\n",
       "      <td>65.415</td>\n",
       "      <td>93.274</td>\n",
       "      <td>0.393</td>\n",
       "      <td>1.006</td>\n",
       "      <td>0.074</td>\n",
       "      <td>0.000</td>\n",
       "      <td>0.000</td>\n",
       "    </tr>\n",
       "    <tr>\n",
       "      <th>3</th>\n",
       "      <td>Modena</td>\n",
       "      <td>MO</td>\n",
       "      <td>2687.882</td>\n",
       "      <td>6.118</td>\n",
       "      <td>41.264</td>\n",
       "      <td>45.580</td>\n",
       "      <td>3.222</td>\n",
       "      <td>10.251</td>\n",
       "      <td>1.859</td>\n",
       "      <td>0.163</td>\n",
       "      <td>...</td>\n",
       "      <td>0.047</td>\n",
       "      <td>1812</td>\n",
       "      <td>6.236</td>\n",
       "      <td>56.512</td>\n",
       "      <td>79.746</td>\n",
       "      <td>0.331</td>\n",
       "      <td>3.422</td>\n",
       "      <td>1.656</td>\n",
       "      <td>0.662</td>\n",
       "      <td>0.166</td>\n",
       "    </tr>\n",
       "    <tr>\n",
       "      <th>4</th>\n",
       "      <td>Bologna</td>\n",
       "      <td>BO</td>\n",
       "      <td>3702.249</td>\n",
       "      <td>13.417</td>\n",
       "      <td>50.047</td>\n",
       "      <td>50.254</td>\n",
       "      <td>0.925</td>\n",
       "      <td>12.067</td>\n",
       "      <td>0.569</td>\n",
       "      <td>2.339</td>\n",
       "      <td>...</td>\n",
       "      <td>4.687</td>\n",
       "      <td>3923</td>\n",
       "      <td>9.865</td>\n",
       "      <td>41.346</td>\n",
       "      <td>42.034</td>\n",
       "      <td>0.331</td>\n",
       "      <td>1.937</td>\n",
       "      <td>0.433</td>\n",
       "      <td>4.129</td>\n",
       "      <td>8.055</td>\n",
       "    </tr>\n",
       "    <tr>\n",
       "      <th>5</th>\n",
       "      <td>Ferrara</td>\n",
       "      <td>FE</td>\n",
       "      <td>2627.377</td>\n",
       "      <td>23.908</td>\n",
       "      <td>99.904</td>\n",
       "      <td>99.909</td>\n",
       "      <td>0.000</td>\n",
       "      <td>0.000</td>\n",
       "      <td>0.000</td>\n",
       "      <td>0.000</td>\n",
       "      <td>...</td>\n",
       "      <td>0.000</td>\n",
       "      <td>2519</td>\n",
       "      <td>11.473</td>\n",
       "      <td>102.541</td>\n",
       "      <td>102.541</td>\n",
       "      <td>0.000</td>\n",
       "      <td>0.000</td>\n",
       "      <td>0.000</td>\n",
       "      <td>0.000</td>\n",
       "      <td>0.000</td>\n",
       "    </tr>\n",
       "    <tr>\n",
       "      <th>6</th>\n",
       "      <td>Ravenna</td>\n",
       "      <td>RA</td>\n",
       "      <td>1859.392</td>\n",
       "      <td>22.243</td>\n",
       "      <td>79.949</td>\n",
       "      <td>79.954</td>\n",
       "      <td>1.528</td>\n",
       "      <td>4.981</td>\n",
       "      <td>0.400</td>\n",
       "      <td>0.206</td>\n",
       "      <td>...</td>\n",
       "      <td>0.159</td>\n",
       "      <td>2191</td>\n",
       "      <td>8.352</td>\n",
       "      <td>68.279</td>\n",
       "      <td>68.279</td>\n",
       "      <td>1.050</td>\n",
       "      <td>3.149</td>\n",
       "      <td>0.867</td>\n",
       "      <td>0.228</td>\n",
       "      <td>0.958</td>\n",
       "    </tr>\n",
       "    <tr>\n",
       "      <th>7</th>\n",
       "      <td>Forlì-Cesena</td>\n",
       "      <td>FC</td>\n",
       "      <td>2378.318</td>\n",
       "      <td>6.239</td>\n",
       "      <td>20.564</td>\n",
       "      <td>20.591</td>\n",
       "      <td>16.314</td>\n",
       "      <td>14.572</td>\n",
       "      <td>4.803</td>\n",
       "      <td>2.731</td>\n",
       "      <td>...</td>\n",
       "      <td>0.000</td>\n",
       "      <td>1843</td>\n",
       "      <td>9.278</td>\n",
       "      <td>41.725</td>\n",
       "      <td>41.725</td>\n",
       "      <td>5.317</td>\n",
       "      <td>9.929</td>\n",
       "      <td>6.131</td>\n",
       "      <td>3.635</td>\n",
       "      <td>0.000</td>\n",
       "    </tr>\n",
       "    <tr>\n",
       "      <th>8</th>\n",
       "      <td>Rimini</td>\n",
       "      <td>RN</td>\n",
       "      <td>865.014</td>\n",
       "      <td>9.203</td>\n",
       "      <td>16.694</td>\n",
       "      <td>18.239</td>\n",
       "      <td>10.825</td>\n",
       "      <td>10.990</td>\n",
       "      <td>0.130</td>\n",
       "      <td>0.005</td>\n",
       "      <td>...</td>\n",
       "      <td>0.000</td>\n",
       "      <td>1178</td>\n",
       "      <td>4.160</td>\n",
       "      <td>10.187</td>\n",
       "      <td>14.856</td>\n",
       "      <td>5.093</td>\n",
       "      <td>15.874</td>\n",
       "      <td>0.255</td>\n",
       "      <td>0.000</td>\n",
       "      <td>0.000</td>\n",
       "    </tr>\n",
       "  </tbody>\n",
       "</table>\n",
       "<p>9 rows × 56 columns</p>\n",
       "</div>"
      ],
      "text/plain": [
       "       prov_name prov_code  area (kmq)  high_hydraulic_risk_area_p3 (%)  \\\n",
       "0       Piacenza        PC    2585.765                            7.111   \n",
       "1          Parma        PR    3447.400                           10.092   \n",
       "2  Reggio Emilia        RE    2291.145                            5.977   \n",
       "3         Modena        MO    2687.882                            6.118   \n",
       "4        Bologna        BO    3702.249                           13.417   \n",
       "5        Ferrara        FE    2627.377                           23.908   \n",
       "6        Ravenna        RA    1859.392                           22.243   \n",
       "7   Forlì-Cesena        FC    2378.318                            6.239   \n",
       "8         Rimini        RN     865.014                            9.203   \n",
       "\n",
       "   medium_hydraulic_risk_area_p2 (%)  low_hydraulic_risk_area_p1 (%)  \\\n",
       "0                             23.284                          24.885   \n",
       "1                             25.140                          27.911   \n",
       "2                             46.257                          50.943   \n",
       "3                             41.264                          45.580   \n",
       "4                             50.047                          50.254   \n",
       "5                             99.904                          99.909   \n",
       "6                             79.949                          79.954   \n",
       "7                             20.564                          20.591   \n",
       "8                             16.694                          18.239   \n",
       "\n",
       "   very_high_landslide_risk_area_p4 (%)  high_landslide_risk_area_p3 (%)  \\\n",
       "0                                 3.876                           13.674   \n",
       "1                                 6.228                           11.544   \n",
       "2                                 5.896                            7.913   \n",
       "3                                 3.222                           10.251   \n",
       "4                                 0.925                           12.067   \n",
       "5                                 0.000                            0.000   \n",
       "6                                 1.528                            4.981   \n",
       "7                                16.314                           14.572   \n",
       "8                                10.825                           10.990   \n",
       "\n",
       "   medium_landslide_risk_area_p2 (%)  low_landslide_risk_area_p1 (%)  ...  \\\n",
       "0                              0.185                           0.000  ...   \n",
       "1                              3.036                           0.001  ...   \n",
       "2                              0.137                           0.007  ...   \n",
       "3                              1.859                           0.163  ...   \n",
       "4                              0.569                           2.339  ...   \n",
       "5                              0.000                           0.000  ...   \n",
       "6                              0.400                           0.206  ...   \n",
       "7                              4.803                           2.731  ...   \n",
       "8                              0.130                           0.005  ...   \n",
       "\n",
       "   attention_enterprise (%)  cultural_heritage (n)  \\\n",
       "0                     0.000                   2251   \n",
       "1                     0.000                   2654   \n",
       "2                     0.000                   4074   \n",
       "3                     0.047                   1812   \n",
       "4                     4.687                   3923   \n",
       "5                     0.000                   2519   \n",
       "6                     0.159                   2191   \n",
       "7                     0.000                   1843   \n",
       "8                     0.000                   1178   \n",
       "\n",
       "   high_hydraulic_risk_cultural_heritage_p3 (%)  \\\n",
       "0                                         3.554   \n",
       "1                                        12.773   \n",
       "2                                         6.873   \n",
       "3                                         6.236   \n",
       "4                                         9.865   \n",
       "5                                        11.473   \n",
       "6                                         8.352   \n",
       "7                                         9.278   \n",
       "8                                         4.160   \n",
       "\n",
       "   medium_hydraulic_risk_cultural_heritage_p2 (%)  \\\n",
       "0                                          48.290   \n",
       "1                                          54.446   \n",
       "2                                          65.415   \n",
       "3                                          56.512   \n",
       "4                                          41.346   \n",
       "5                                         102.541   \n",
       "6                                          68.279   \n",
       "7                                          41.725   \n",
       "8                                          10.187   \n",
       "\n",
       "   low_hydraulic_risk_cultural_heritage_p1 (%)  \\\n",
       "0                                       52.999   \n",
       "1                                       61.869   \n",
       "2                                       93.274   \n",
       "3                                       79.746   \n",
       "4                                       42.034   \n",
       "5                                      102.541   \n",
       "6                                       68.279   \n",
       "7                                       41.725   \n",
       "8                                       14.856   \n",
       "\n",
       "   very_high_landslide_risk_cultural_heritage_p4 (%)  \\\n",
       "0                                              0.355   \n",
       "1                                              2.751   \n",
       "2                                              0.393   \n",
       "3                                              0.331   \n",
       "4                                              0.331   \n",
       "5                                              0.000   \n",
       "6                                              1.050   \n",
       "7                                              5.317   \n",
       "8                                              5.093   \n",
       "\n",
       "   high_landslide_risk_cultural_heritage_p3 (%)  \\\n",
       "0                                         4.531   \n",
       "1                                         3.014   \n",
       "2                                         1.006   \n",
       "3                                         3.422   \n",
       "4                                         1.937   \n",
       "5                                         0.000   \n",
       "6                                         3.149   \n",
       "7                                         9.929   \n",
       "8                                        15.874   \n",
       "\n",
       "   medium_landslide_risk_cultural_heritage_p2 (%)  \\\n",
       "0                                           1.111   \n",
       "1                                           0.904   \n",
       "2                                           0.074   \n",
       "3                                           1.656   \n",
       "4                                           0.433   \n",
       "5                                           0.000   \n",
       "6                                           0.867   \n",
       "7                                           6.131   \n",
       "8                                           0.255   \n",
       "\n",
       "   low_landslide_risk_cultural_heritage_p1 (%)  \\\n",
       "0                                        0.000   \n",
       "1                                        0.000   \n",
       "2                                        0.000   \n",
       "3                                        0.662   \n",
       "4                                        4.129   \n",
       "5                                        0.000   \n",
       "6                                        0.228   \n",
       "7                                        3.635   \n",
       "8                                        0.000   \n",
       "\n",
       "   attention_cultural_heritage (%)  \n",
       "0                            0.000  \n",
       "1                            0.000  \n",
       "2                            0.000  \n",
       "3                            0.166  \n",
       "4                            8.055  \n",
       "5                            0.000  \n",
       "6                            0.958  \n",
       "7                            0.000  \n",
       "8                            0.000  \n",
       "\n",
       "[9 rows x 56 columns]"
      ]
     },
     "execution_count": 40,
     "metadata": {},
     "output_type": "execute_result"
    }
   ],
   "source": [
    "df = pd.read_csv('final_dataset/MD4.csv')\n",
    "df.reset_index(drop=True)\n",
    "df.drop(columns = df.columns[0], axis = 1, inplace= True)\n",
    "df.dropna()\n"
   ]
  },
  {
   "cell_type": "code",
   "execution_count": 41,
   "metadata": {},
   "outputs": [
    {
     "data": {
      "text/plain": [
       "{'Bologna',\n",
       " 'Ferrara',\n",
       " 'Forlì-Cesena',\n",
       " 'Modena',\n",
       " 'Parma',\n",
       " 'Piacenza',\n",
       " 'Ravenna',\n",
       " 'Reggio Emilia',\n",
       " 'Rimini'}"
      ]
     },
     "execution_count": 41,
     "metadata": {},
     "output_type": "execute_result"
    }
   ],
   "source": [
    "set(df.prov_name)"
   ]
  },
  {
   "cell_type": "markdown",
   "metadata": {},
   "source": [
    "# 1. Financing line chart (MD1) - provinces "
   ]
  },
  {
   "cell_type": "code",
   "execution_count": 65,
   "metadata": {},
   "outputs": [
    {
     "data": {
      "text/html": [
       "<div>\n",
       "<style scoped>\n",
       "    .dataframe tbody tr th:only-of-type {\n",
       "        vertical-align: middle;\n",
       "    }\n",
       "\n",
       "    .dataframe tbody tr th {\n",
       "        vertical-align: top;\n",
       "    }\n",
       "\n",
       "    .dataframe thead th {\n",
       "        text-align: right;\n",
       "    }\n",
       "</style>\n",
       "<table border=\"1\" class=\"dataframe\">\n",
       "  <thead>\n",
       "    <tr style=\"text-align: right;\">\n",
       "      <th></th>\n",
       "      <th>prov_name</th>\n",
       "      <th>prov_code</th>\n",
       "      <th>date</th>\n",
       "      <th>latitude</th>\n",
       "      <th>longitude</th>\n",
       "      <th>tot_action_financing</th>\n",
       "    </tr>\n",
       "  </thead>\n",
       "  <tbody>\n",
       "    <tr>\n",
       "      <th>0</th>\n",
       "      <td>Bologna</td>\n",
       "      <td>BO</td>\n",
       "      <td>1996</td>\n",
       "      <td>44.353074</td>\n",
       "      <td>11.714156</td>\n",
       "      <td>3000000.00</td>\n",
       "    </tr>\n",
       "    <tr>\n",
       "      <th>122</th>\n",
       "      <td>Ravenna</td>\n",
       "      <td>RA</td>\n",
       "      <td>1996</td>\n",
       "      <td>44.417225</td>\n",
       "      <td>12.199139</td>\n",
       "      <td>1435306.30</td>\n",
       "    </tr>\n",
       "    <tr>\n",
       "      <th>81</th>\n",
       "      <td>Parma</td>\n",
       "      <td>PR</td>\n",
       "      <td>1999</td>\n",
       "      <td>1028.359865</td>\n",
       "      <td>230.569877</td>\n",
       "      <td>4622289.24</td>\n",
       "    </tr>\n",
       "    <tr>\n",
       "      <th>123</th>\n",
       "      <td>Ravenna</td>\n",
       "      <td>RA</td>\n",
       "      <td>1999</td>\n",
       "      <td>1151.107749</td>\n",
       "      <td>307.566162</td>\n",
       "      <td>2272410.36</td>\n",
       "    </tr>\n",
       "    <tr>\n",
       "      <th>61</th>\n",
       "      <td>Modena</td>\n",
       "      <td>MO</td>\n",
       "      <td>1999</td>\n",
       "      <td>1994.300864</td>\n",
       "      <td>486.550866</td>\n",
       "      <td>5482813.09</td>\n",
       "    </tr>\n",
       "    <tr>\n",
       "      <th>...</th>\n",
       "      <td>...</td>\n",
       "      <td>...</td>\n",
       "      <td>...</td>\n",
       "      <td>...</td>\n",
       "      <td>...</td>\n",
       "      <td>...</td>\n",
       "    </tr>\n",
       "    <tr>\n",
       "      <th>141</th>\n",
       "      <td>Ravenna</td>\n",
       "      <td>RA</td>\n",
       "      <td>2022</td>\n",
       "      <td>399.933211</td>\n",
       "      <td>109.475271</td>\n",
       "      <td>489169.01</td>\n",
       "    </tr>\n",
       "    <tr>\n",
       "      <th>40</th>\n",
       "      <td>Ferrara</td>\n",
       "      <td>FE</td>\n",
       "      <td>2022</td>\n",
       "      <td>537.422883</td>\n",
       "      <td>139.678631</td>\n",
       "      <td>855717.26</td>\n",
       "    </tr>\n",
       "    <tr>\n",
       "      <th>161</th>\n",
       "      <td>Reggio Emilia</td>\n",
       "      <td>RE</td>\n",
       "      <td>2022</td>\n",
       "      <td>715.407712</td>\n",
       "      <td>170.168119</td>\n",
       "      <td>1577147.16</td>\n",
       "    </tr>\n",
       "    <tr>\n",
       "      <th>60</th>\n",
       "      <td>Forlì-Cesena</td>\n",
       "      <td>FC</td>\n",
       "      <td>2022</td>\n",
       "      <td>529.877633</td>\n",
       "      <td>145.976972</td>\n",
       "      <td>885197.54</td>\n",
       "    </tr>\n",
       "    <tr>\n",
       "      <th>182</th>\n",
       "      <td>Rimini</td>\n",
       "      <td>RN</td>\n",
       "      <td>2022</td>\n",
       "      <td>484.232632</td>\n",
       "      <td>138.379790</td>\n",
       "      <td>911397.29</td>\n",
       "    </tr>\n",
       "  </tbody>\n",
       "</table>\n",
       "<p>183 rows × 6 columns</p>\n",
       "</div>"
      ],
      "text/plain": [
       "         prov_name prov_code  date     latitude   longitude  \\\n",
       "0          Bologna        BO  1996    44.353074   11.714156   \n",
       "122        Ravenna        RA  1996    44.417225   12.199139   \n",
       "81           Parma        PR  1999  1028.359865  230.569877   \n",
       "123        Ravenna        RA  1999  1151.107749  307.566162   \n",
       "61          Modena        MO  1999  1994.300864  486.550866   \n",
       "..             ...       ...   ...          ...         ...   \n",
       "141        Ravenna        RA  2022   399.933211  109.475271   \n",
       "40         Ferrara        FE  2022   537.422883  139.678631   \n",
       "161  Reggio Emilia        RE  2022   715.407712  170.168119   \n",
       "60    Forlì-Cesena        FC  2022   529.877633  145.976972   \n",
       "182         Rimini        RN  2022   484.232632  138.379790   \n",
       "\n",
       "     tot_action_financing  \n",
       "0              3000000.00  \n",
       "122            1435306.30  \n",
       "81             4622289.24  \n",
       "123            2272410.36  \n",
       "61             5482813.09  \n",
       "..                    ...  \n",
       "141             489169.01  \n",
       "40              855717.26  \n",
       "161            1577147.16  \n",
       "60              885197.54  \n",
       "182             911397.29  \n",
       "\n",
       "[183 rows x 6 columns]"
      ]
     },
     "execution_count": 65,
     "metadata": {},
     "output_type": "execute_result"
    }
   ],
   "source": [
    "df = pd.read_csv('./final_dataset/MD1.csv')\n",
    "df = df.drop(['Unnamed: 0'], axis=1)\n",
    "df['date'] = df['date'].apply(lambda x: x.split('/')[2])\n",
    "df =df[df['date'] != 'nan']\n",
    "df['tot_action_financing']= df['tot_action_financing'].astype('str')\n",
    "df['tot_action_financing']= df['tot_action_financing'].apply(lambda x: x.split(','))\n",
    "df['tot_action_financing']= df['tot_action_financing'].apply(lambda x: '.'.join(x))\n",
    "df['tot_action_financing']= df['tot_action_financing'].astype('float64')\n",
    "df =df[df['tot_action_financing'] != 'NaN']\n",
    "df = df.groupby(['prov_name', 'prov_code', 'date'], as_index=False).sum('tot_action_financing')\n",
    "df = df.sort_values(by=\"date\")\n",
    "df\n"
   ]
  },
  {
   "cell_type": "code",
   "execution_count": 66,
   "metadata": {},
   "outputs": [
    {
     "data": {
      "text/plain": [
       "5098356716.49"
      ]
     },
     "execution_count": 66,
     "metadata": {},
     "output_type": "execute_result"
    }
   ],
   "source": [
    "df.tot_action_financing.sum()"
   ]
  },
  {
   "cell_type": "code",
   "execution_count": 43,
   "metadata": {},
   "outputs": [
    {
     "data": {
      "text/plain": [
       "array([2.85177826e+07, 4.15000000e+07, 3.06649490e+07, 2.66200000e+06,\n",
       "       3.96000000e+06, 2.89019917e+07, 9.54350550e+07, 2.18282807e+08,\n",
       "       2.10403095e+08, 7.69794208e+07, 7.26440130e+07, 9.84902316e+07,\n",
       "       8.13473205e+07, 1.50193757e+08, 1.26029993e+08, 2.29355658e+08,\n",
       "       1.66281925e+08, 1.10385626e+08, 1.25514942e+08, 9.16943960e+07])"
      ]
     },
     "execution_count": 43,
     "metadata": {},
     "output_type": "execute_result"
    }
   ],
   "source": [
    "sub = df[df.prov_name == 'Bologna'].reset_index(drop=True)\n",
    "sub['date'] = sub['date'].astype(int)\n",
    "sub = sub[(sub.date>=2002) & (sub.date <= 2021)]\n",
    "sub.reset_index(drop=True)\n",
    "sub.tot_action_financing.values"
   ]
  },
  {
   "cell_type": "code",
   "execution_count": 44,
   "metadata": {},
   "outputs": [
    {
     "data": {
      "text/plain": [
       "array([ 1084559.49,        0.  ,        0.  ,   400000.  ,   658600.  ,\n",
       "       11037222.74, 11380524.21, 35204576.08, 29287034.97,  8469372.34,\n",
       "       21856183.72, 34847310.98, 19401867.24, 32552589.17, 75252312.78,\n",
       "       41425812.45, 44230528.95, 41746481.37, 57971032.87, 26982286.77])"
      ]
     },
     "execution_count": 44,
     "metadata": {},
     "output_type": "execute_result"
    }
   ],
   "source": [
    "modena = df[df.prov_name == 'Modena'].reset_index(drop=True)\n",
    "modena['date'] = modena['date'].astype(int)\n",
    "modena = modena[(modena.date>=2002) & (modena.date <= 2021)]\n",
    "modena.loc[len(modena)+1] = ['Modena', 'MO', 2003, 0, 0, 0]\n",
    "modena.loc[len(modena)+2] = ['Modena', 'MO', 2004, 0, 0, 0]\n",
    "modena = modena.sort_values(by=\"date\").reset_index(drop=True)\n",
    "modena.tot_action_financing.values"
   ]
  },
  {
   "cell_type": "code",
   "execution_count": 45,
   "metadata": {},
   "outputs": [
    {
     "data": {
      "text/plain": [
       "array([       0.  ,        0.  ,        0.  ,        0.  ,        0.  ,\n",
       "        4231670.55,  9773041.54, 19395406.2 , 36514783.19, 14948755.89,\n",
       "        5925099.11, 10012497.  , 14984965.8 , 30241281.74, 49942968.51,\n",
       "       30712033.61, 18616359.55, 22168686.26, 22582511.33, 15401565.74])"
      ]
     },
     "execution_count": 45,
     "metadata": {},
     "output_type": "execute_result"
    }
   ],
   "source": [
    "ferrara = df[df.prov_name == 'Ferrara'].reset_index(drop=True)\n",
    "ferrara['date'] = ferrara['date'].astype(int)\n",
    "ferrara = ferrara[(ferrara.date>=2002) & (ferrara.date <= 2021)]\n",
    "ferrara.loc[len(ferrara)+1] = ['Ferrara', 'FE', 2002, 0, 0, 0]\n",
    "ferrara.loc[len(ferrara)+2] = ['Ferrara', 'FE', 2003, 0, 0, 0]\n",
    "ferrara.loc[len(ferrara)+3] = ['Ferrara', 'FE', 2004, 0, 0, 0]\n",
    "ferrara.loc[len(ferrara)+4] = ['Ferrara', 'FE', 2005, 0, 0, 0]\n",
    "ferrara.loc[len(ferrara)+6] = ['Ferrara', 'FE', 2006, 0, 0, 0]\n",
    "ferrara = ferrara.sort_values(by=\"date\").reset_index(drop=True)\n",
    "ferrara.tot_action_financing.values"
   ]
  },
  {
   "cell_type": "code",
   "execution_count": 46,
   "metadata": {},
   "outputs": [
    {
     "data": {
      "text/plain": [
       "array([ 1527976.73,        0.  ,        0.  ,  2373000.  ,  3008600.  ,\n",
       "        8001304.81,  8418660.92, 14990082.82, 32393062.67, 14179905.96,\n",
       "       15249619.96, 11149787.99,  6949342.47, 19626904.19, 41285001.84,\n",
       "       23239100.59, 26589379.06, 19246743.39, 16170932.43, 19294181.69])"
      ]
     },
     "execution_count": 46,
     "metadata": {},
     "output_type": "execute_result"
    }
   ],
   "source": [
    "forli_cesena = df[df.prov_name == 'Forlì-Cesena'].reset_index(drop=True)\n",
    "forli_cesena['date'] = forli_cesena['date'].astype(int)\n",
    "forli_cesena = forli_cesena[(forli_cesena.date>=2002) & (forli_cesena.date <= 2021)]\n",
    "forli_cesena.loc[len(forli_cesena)+1] = ['Forlì-Cesena', 'FC', 2003, 0, 0, 0]\n",
    "forli_cesena.loc[len(forli_cesena)+2] = ['Forlì-Cesena', 'FC', 2004, 0, 0, 0]\n",
    "forli_cesena = forli_cesena.sort_values(by=\"date\").reset_index(drop=True)\n",
    "forli_cesena.tot_action_financing.values"
   ]
  },
  {
   "cell_type": "code",
   "execution_count": 47,
   "metadata": {},
   "outputs": [
    {
     "data": {
      "text/plain": [
       "array([ 9521538.84,        0.  ,  9996600.  ,        0.  ,  5150000.  ,\n",
       "       13888677.27, 18487330.98, 17202572.4 , 28654806.16, 16685313.1 ,\n",
       "        8832395.26, 12215418.7 ,  4831124.4 , 26887851.59, 57485838.63,\n",
       "       37805906.25, 81259762.43, 30998172.02, 44395106.39, 19530454.42])"
      ]
     },
     "execution_count": 47,
     "metadata": {},
     "output_type": "execute_result"
    }
   ],
   "source": [
    "parma = df[df.prov_name == 'Parma'].reset_index(drop=True)\n",
    "parma['date'] = parma['date'].astype(int)\n",
    "parma = parma[(parma.date>=2002) & (parma.date <= 2021)]\n",
    "parma.loc[len(parma)+1] = ['Parma', 'PR', 2003, 0, 0, 0]\n",
    "parma.loc[len(parma)+2] = ['Parma', 'PR', 2005, 0, 0, 0]\n",
    "parma = parma.sort_values(by=\"date\").reset_index(drop=True)\n",
    "parma.tot_action_financing.values"
   ]
  },
  {
   "cell_type": "code",
   "execution_count": 48,
   "metadata": {},
   "outputs": [
    {
     "data": {
      "text/plain": [
       "array([2.78886726e+06, 0.00000000e+00, 1.00000000e+06, 9.00000000e+05,\n",
       "       3.20061309e+06, 5.23454919e+06, 1.60378146e+07, 2.34326682e+07,\n",
       "       3.39327289e+07, 1.60977396e+07, 1.10046216e+07, 1.08669678e+07,\n",
       "       4.40952353e+06, 3.23400474e+07, 4.70991283e+07, 1.01179022e+08,\n",
       "       3.42682986e+07, 2.20544587e+07, 2.96477040e+07, 1.80307608e+07])"
      ]
     },
     "execution_count": 48,
     "metadata": {},
     "output_type": "execute_result"
    }
   ],
   "source": [
    "piacenza = df[df.prov_name == 'Piacenza'].reset_index(drop=True)\n",
    "piacenza['date'] = piacenza['date'].astype(int)\n",
    "piacenza = piacenza[(piacenza.date>=2002) & (piacenza.date <= 2021)]\n",
    "piacenza.loc[len(piacenza)+1] = ['Piacenza', 'PC', 2003, 0, 0, 0]\n",
    "piacenza = piacenza.sort_values(by=\"date\").reset_index(drop=True)\n",
    "piacenza.tot_action_financing.values"
   ]
  },
  {
   "cell_type": "code",
   "execution_count": 49,
   "metadata": {},
   "outputs": [
    {
     "data": {
      "text/plain": [
       "array([ 5109297.41,        0.  ,  2000000.  ,  1754281.  ,  1743000.  ,\n",
       "       13507120.87,  9884436.83, 11425099.25, 25750616.56, 10408982.25,\n",
       "       10257944.07, 11541697.92, 35229290.11, 20925667.8 , 33801820.52,\n",
       "       55265183.11, 45530857.13, 34526924.18,  8363784.6 , 15069892.59])"
      ]
     },
     "execution_count": 49,
     "metadata": {},
     "output_type": "execute_result"
    }
   ],
   "source": [
    "rimini = df[df.prov_name == 'Rimini'].reset_index(drop=True)\n",
    "rimini['date'] = rimini['date'].astype(int)\n",
    "rimini = rimini[(rimini.date>=2002) & (rimini.date <= 2021)]\n",
    "rimini.loc[len(rimini)+1] = ['Rimini', 'RN', 2003, 0, 0, 0]\n",
    "rimini = rimini.sort_values(by=\"date\").reset_index(drop=True)\n",
    "rimini.tot_action_financing.values"
   ]
  },
  {
   "cell_type": "code",
   "execution_count": 50,
   "metadata": {},
   "outputs": [
    {
     "data": {
      "text/plain": [
       "array([2.46371126e+06, 0.00000000e+00, 0.00000000e+00, 3.50000000e+04,\n",
       "       0.00000000e+00, 7.65557800e+06, 1.12184967e+07, 1.60226271e+07,\n",
       "       3.05743612e+07, 9.79108572e+06, 1.18922252e+07, 1.73383396e+07,\n",
       "       6.49951286e+06, 1.74740376e+07, 5.26963954e+07, 3.89779793e+07,\n",
       "       2.48532802e+07, 1.61235898e+07, 6.54452857e+07, 1.49206940e+07])"
      ]
     },
     "execution_count": 50,
     "metadata": {},
     "output_type": "execute_result"
    }
   ],
   "source": [
    "ravenna = df[df.prov_name == 'Ravenna'].reset_index(drop=True)\n",
    "ravenna['date'] = ravenna['date'].astype(int)\n",
    "ravenna = ravenna[(ravenna.date>=2002) & (ravenna.date <= 2021)]\n",
    "ravenna = ravenna.sort_values(by=\"date\").reset_index(drop=True)\n",
    "ravenna.loc[len(ravenna)+1] = ['Ravenna', 'RA', 2003, 0, 0, 0]\n",
    "ravenna.loc[len(ravenna)+2] = ['Ravenna', 'RA', 2004, 0, 0, 0]\n",
    "ravenna.loc[len(ravenna)+3] = ['Ravenna', 'RA', 2006, 0, 0, 0]\n",
    "ravenna = ravenna.sort_values(by=\"date\").reset_index(drop=True)\n",
    "ravenna.tot_action_financing.values"
   ]
  },
  {
   "cell_type": "code",
   "execution_count": 51,
   "metadata": {},
   "outputs": [
    {
     "data": {
      "text/plain": [
       "array([ 2036205.18,        0.  ,        0.  ,        0.  ,  4345915.68,\n",
       "        8012668.77, 19629226.79, 48884116.3 , 21920274.09, 11556428.36,\n",
       "       14275137.25, 25391040.06,  7835046.21, 22882087.07, 63333588.09,\n",
       "       57952931.15, 25371891.36, 23728830.12, 28413815.41, 19245123.36])"
      ]
     },
     "execution_count": 51,
     "metadata": {},
     "output_type": "execute_result"
    }
   ],
   "source": [
    "reggioemilia = df[df.prov_name == 'Reggio Emilia'].reset_index(drop=True)\n",
    "reggioemilia['date'] = reggioemilia['date'].astype(int)\n",
    "reggioemilia = reggioemilia[(reggioemilia.date>=2002) & (reggioemilia.date <= 2021)]\n",
    "reggioemilia = reggioemilia.sort_values(by=\"date\").reset_index(drop=True)\n",
    "reggioemilia.loc[len(reggioemilia)+1] = ['Reggio Emilia', 'RE', 2003, 0, 0, 0]\n",
    "reggioemilia.loc[len(reggioemilia)+2] = ['Reggio Emilia', 'RE', 2004, 0, 0, 0]\n",
    "reggioemilia.loc[len(reggioemilia)+3] = ['Reggio Emilia', 'RE', 2005, 0, 0, 0]\n",
    "reggioemilia = reggioemilia.sort_values(by=\"date\").reset_index(drop=True)\n",
    "reggioemilia.tot_action_financing.values"
   ]
  },
  {
   "cell_type": "markdown",
   "metadata": {},
   "source": [
    "# 2. Financing bar chart (MD1) - provinces "
   ]
  },
  {
   "cell_type": "code",
   "execution_count": 71,
   "metadata": {},
   "outputs": [
    {
     "data": {
      "text/html": [
       "<div>\n",
       "<style scoped>\n",
       "    .dataframe tbody tr th:only-of-type {\n",
       "        vertical-align: middle;\n",
       "    }\n",
       "\n",
       "    .dataframe tbody tr th {\n",
       "        vertical-align: top;\n",
       "    }\n",
       "\n",
       "    .dataframe thead th {\n",
       "        text-align: right;\n",
       "    }\n",
       "</style>\n",
       "<table border=\"1\" class=\"dataframe\">\n",
       "  <thead>\n",
       "    <tr style=\"text-align: right;\">\n",
       "      <th></th>\n",
       "      <th>prov_name</th>\n",
       "      <th>prov_code</th>\n",
       "      <th>action_type</th>\n",
       "      <th>latitude</th>\n",
       "      <th>longitude</th>\n",
       "      <th>tot_action_financing</th>\n",
       "    </tr>\n",
       "  </thead>\n",
       "  <tbody>\n",
       "    <tr>\n",
       "      <th>0</th>\n",
       "      <td>Bologna</td>\n",
       "      <td>BO</td>\n",
       "      <td>preventive measures</td>\n",
       "      <td>468175.059047</td>\n",
       "      <td>119552.035401</td>\n",
       "      <td>1.923157e+09</td>\n",
       "    </tr>\n",
       "    <tr>\n",
       "      <th>1</th>\n",
       "      <td>Bologna</td>\n",
       "      <td>BO</td>\n",
       "      <td>reparatory intervention</td>\n",
       "      <td>13919.395132</td>\n",
       "      <td>3535.047982</td>\n",
       "      <td>1.011151e+08</td>\n",
       "    </tr>\n",
       "    <tr>\n",
       "      <th>2</th>\n",
       "      <td>Ferrara</td>\n",
       "      <td>FE</td>\n",
       "      <td>preventive measures</td>\n",
       "      <td>174198.484131</td>\n",
       "      <td>45340.625972</td>\n",
       "      <td>2.499887e+08</td>\n",
       "    </tr>\n",
       "    <tr>\n",
       "      <th>3</th>\n",
       "      <td>Ferrara</td>\n",
       "      <td>FE</td>\n",
       "      <td>reparatory intervention</td>\n",
       "      <td>1299.255808</td>\n",
       "      <td>340.979664</td>\n",
       "      <td>5.638143e+07</td>\n",
       "    </tr>\n",
       "    <tr>\n",
       "      <th>4</th>\n",
       "      <td>Forlì-Cesena</td>\n",
       "      <td>FC</td>\n",
       "      <td>preventive measures</td>\n",
       "      <td>175570.775518</td>\n",
       "      <td>48350.268925</td>\n",
       "      <td>2.483070e+08</td>\n",
       "    </tr>\n",
       "    <tr>\n",
       "      <th>5</th>\n",
       "      <td>Forlì-Cesena</td>\n",
       "      <td>FC</td>\n",
       "      <td>reparatory intervention</td>\n",
       "      <td>7882.252982</td>\n",
       "      <td>2170.372863</td>\n",
       "      <td>4.031565e+07</td>\n",
       "    </tr>\n",
       "    <tr>\n",
       "      <th>6</th>\n",
       "      <td>Modena</td>\n",
       "      <td>MO</td>\n",
       "      <td>preventive measures</td>\n",
       "      <td>296968.661997</td>\n",
       "      <td>72658.359811</td>\n",
       "      <td>4.648135e+08</td>\n",
       "    </tr>\n",
       "    <tr>\n",
       "      <th>7</th>\n",
       "      <td>Modena</td>\n",
       "      <td>MO</td>\n",
       "      <td>reparatory intervention</td>\n",
       "      <td>5456.724839</td>\n",
       "      <td>1326.765449</td>\n",
       "      <td>3.752266e+07</td>\n",
       "    </tr>\n",
       "    <tr>\n",
       "      <th>9</th>\n",
       "      <td>Parma</td>\n",
       "      <td>PR</td>\n",
       "      <td>reparatory intervention</td>\n",
       "      <td>6264.216684</td>\n",
       "      <td>1413.591807</td>\n",
       "      <td>1.199072e+08</td>\n",
       "    </tr>\n",
       "    <tr>\n",
       "      <th>8</th>\n",
       "      <td>Parma</td>\n",
       "      <td>PR</td>\n",
       "      <td>preventive measures</td>\n",
       "      <td>148614.237150</td>\n",
       "      <td>34031.323151</td>\n",
       "      <td>3.297571e+08</td>\n",
       "    </tr>\n",
       "    <tr>\n",
       "      <th>10</th>\n",
       "      <td>Piacenza</td>\n",
       "      <td>PC</td>\n",
       "      <td>preventive measures</td>\n",
       "      <td>159262.828076</td>\n",
       "      <td>34149.257656</td>\n",
       "      <td>3.703573e+08</td>\n",
       "    </tr>\n",
       "    <tr>\n",
       "      <th>11</th>\n",
       "      <td>Piacenza</td>\n",
       "      <td>PC</td>\n",
       "      <td>reparatory intervention</td>\n",
       "      <td>9453.877021</td>\n",
       "      <td>2015.334652</td>\n",
       "      <td>4.751908e+07</td>\n",
       "    </tr>\n",
       "    <tr>\n",
       "      <th>12</th>\n",
       "      <td>Ravenna</td>\n",
       "      <td>RA</td>\n",
       "      <td>preventive measures</td>\n",
       "      <td>201154.499698</td>\n",
       "      <td>54775.463864</td>\n",
       "      <td>3.127353e+08</td>\n",
       "    </tr>\n",
       "    <tr>\n",
       "      <th>13</th>\n",
       "      <td>Ravenna</td>\n",
       "      <td>RA</td>\n",
       "      <td>reparatory intervention</td>\n",
       "      <td>3725.101354</td>\n",
       "      <td>1002.264053</td>\n",
       "      <td>3.588970e+07</td>\n",
       "    </tr>\n",
       "    <tr>\n",
       "      <th>14</th>\n",
       "      <td>Reggio Emilia</td>\n",
       "      <td>RE</td>\n",
       "      <td>preventive measures</td>\n",
       "      <td>97562.991441</td>\n",
       "      <td>23172.116349</td>\n",
       "      <td>3.825708e+08</td>\n",
       "    </tr>\n",
       "    <tr>\n",
       "      <th>15</th>\n",
       "      <td>Reggio Emilia</td>\n",
       "      <td>RE</td>\n",
       "      <td>reparatory intervention</td>\n",
       "      <td>4051.863012</td>\n",
       "      <td>962.673497</td>\n",
       "      <td>3.192376e+07</td>\n",
       "    </tr>\n",
       "    <tr>\n",
       "      <th>16</th>\n",
       "      <td>Rimini</td>\n",
       "      <td>RN</td>\n",
       "      <td>preventive measures</td>\n",
       "      <td>163106.151320</td>\n",
       "      <td>46558.821110</td>\n",
       "      <td>3.064678e+08</td>\n",
       "    </tr>\n",
       "    <tr>\n",
       "      <th>17</th>\n",
       "      <td>Rimini</td>\n",
       "      <td>RN</td>\n",
       "      <td>reparatory intervention</td>\n",
       "      <td>7120.303499</td>\n",
       "      <td>2013.524678</td>\n",
       "      <td>4.711104e+07</td>\n",
       "    </tr>\n",
       "  </tbody>\n",
       "</table>\n",
       "</div>"
      ],
      "text/plain": [
       "        prov_name prov_code              action_type       latitude  \\\n",
       "0         Bologna        BO      preventive measures  468175.059047   \n",
       "1         Bologna        BO  reparatory intervention   13919.395132   \n",
       "2         Ferrara        FE      preventive measures  174198.484131   \n",
       "3         Ferrara        FE  reparatory intervention    1299.255808   \n",
       "4    Forlì-Cesena        FC      preventive measures  175570.775518   \n",
       "5    Forlì-Cesena        FC  reparatory intervention    7882.252982   \n",
       "6          Modena        MO      preventive measures  296968.661997   \n",
       "7          Modena        MO  reparatory intervention    5456.724839   \n",
       "9           Parma        PR  reparatory intervention    6264.216684   \n",
       "8           Parma        PR      preventive measures  148614.237150   \n",
       "10       Piacenza        PC      preventive measures  159262.828076   \n",
       "11       Piacenza        PC  reparatory intervention    9453.877021   \n",
       "12        Ravenna        RA      preventive measures  201154.499698   \n",
       "13        Ravenna        RA  reparatory intervention    3725.101354   \n",
       "14  Reggio Emilia        RE      preventive measures   97562.991441   \n",
       "15  Reggio Emilia        RE  reparatory intervention    4051.863012   \n",
       "16         Rimini        RN      preventive measures  163106.151320   \n",
       "17         Rimini        RN  reparatory intervention    7120.303499   \n",
       "\n",
       "        longitude  tot_action_financing  \n",
       "0   119552.035401          1.923157e+09  \n",
       "1     3535.047982          1.011151e+08  \n",
       "2    45340.625972          2.499887e+08  \n",
       "3      340.979664          5.638143e+07  \n",
       "4    48350.268925          2.483070e+08  \n",
       "5     2170.372863          4.031565e+07  \n",
       "6    72658.359811          4.648135e+08  \n",
       "7     1326.765449          3.752266e+07  \n",
       "9     1413.591807          1.199072e+08  \n",
       "8    34031.323151          3.297571e+08  \n",
       "10   34149.257656          3.703573e+08  \n",
       "11    2015.334652          4.751908e+07  \n",
       "12   54775.463864          3.127353e+08  \n",
       "13    1002.264053          3.588970e+07  \n",
       "14   23172.116349          3.825708e+08  \n",
       "15     962.673497          3.192376e+07  \n",
       "16   46558.821110          3.064678e+08  \n",
       "17    2013.524678          4.711104e+07  "
      ]
     },
     "execution_count": 71,
     "metadata": {},
     "output_type": "execute_result"
    }
   ],
   "source": [
    "df2 = pd.read_csv('./final_dataset/MD1.csv')\n",
    "df2 = df2.drop(['Unnamed: 0'], axis=1)\n",
    "df2['tot_action_financing']= df2['tot_action_financing'].astype('str')\n",
    "df2['tot_action_financing']= df2['tot_action_financing'].apply(lambda x: x.split(','))\n",
    "df2['tot_action_financing']= df2['tot_action_financing'].apply(lambda x: '.'.join(x))\n",
    "df2['tot_action_financing']= df2['tot_action_financing'].astype('float64')\n",
    "df2 =df2[df2['tot_action_financing'] != 'NaN']\n",
    "df2 = df2.groupby(['prov_name', 'prov_code', 'action_type'], as_index=False).sum('tot_action_financing')\n",
    "df2 = df2.sort_values(by=\"prov_name\")\n",
    "df2"
   ]
  },
  {
   "cell_type": "code",
   "execution_count": 73,
   "metadata": {},
   "outputs": [
    {
     "data": {
      "text/plain": [
       "(array(['Bologna', 'Ferrara', 'Forlì-Cesena', 'Modena', 'Parma',\n",
       "        'Piacenza', 'Ravenna', 'Reggio Emilia', 'Rimini'], dtype=object),\n",
       " array([1.92315691e+09, 2.49988718e+08, 2.48306967e+08, 4.64813494e+08,\n",
       "        3.29757098e+08, 3.70357333e+08, 3.12735264e+08, 3.82570784e+08,\n",
       "        3.06467836e+08]))"
      ]
     },
     "execution_count": 73,
     "metadata": {},
     "output_type": "execute_result"
    }
   ],
   "source": [
    "preventive = df2[df2.action_type == 'preventive measures']\n",
    "preventive['prov_name'].values, preventive['tot_action_financing'].values"
   ]
  },
  {
   "cell_type": "code",
   "execution_count": 74,
   "metadata": {},
   "outputs": [
    {
     "data": {
      "text/plain": [
       "(array(['Bologna', 'Ferrara', 'Forlì-Cesena', 'Modena', 'Parma',\n",
       "        'Piacenza', 'Ravenna', 'Reggio Emilia', 'Rimini'], dtype=object),\n",
       " array([1.01115056e+08, 5.63814256e+07, 4.03156537e+07, 3.75226643e+07,\n",
       "        1.19907178e+08, 4.75190759e+07, 3.58897010e+07, 3.19237634e+07,\n",
       "        4.71110397e+07]))"
      ]
     },
     "execution_count": 74,
     "metadata": {},
     "output_type": "execute_result"
    }
   ],
   "source": [
    "reparatory = df2[df2.action_type != 'preventive measures']\n",
    "reparatory['prov_name'].values, reparatory['tot_action_financing'].values"
   ]
  },
  {
   "cell_type": "markdown",
   "metadata": {},
   "source": [
    "# 3. Financing suburst chart per action (MD1) - provinces "
   ]
  },
  {
   "cell_type": "code",
   "execution_count": 75,
   "metadata": {},
   "outputs": [
    {
     "data": {
      "text/plain": [
       "5105839965.66"
      ]
     },
     "execution_count": 75,
     "metadata": {},
     "output_type": "execute_result"
    }
   ],
   "source": [
    "df.tot_action_financing.sum()"
   ]
  },
  {
   "cell_type": "code",
   "execution_count": 76,
   "metadata": {},
   "outputs": [
    {
     "data": {
      "text/plain": [
       "2024271969.91"
      ]
     },
     "execution_count": 76,
     "metadata": {},
     "output_type": "execute_result"
    }
   ],
   "source": [
    "bologna = df2[df2.prov_name == 'Bologna'].reset_index(drop=True)\n",
    "bologna.tot_action_financing.sum()\n"
   ]
  },
  {
   "cell_type": "code",
   "execution_count": 81,
   "metadata": {},
   "outputs": [
    {
     "data": {
      "text/plain": [
       "502336158.26"
      ]
     },
     "execution_count": 81,
     "metadata": {},
     "output_type": "execute_result"
    }
   ],
   "source": [
    "modena = df2[df2.prov_name == 'Modena'].reset_index(drop=True)\n",
    "modena.tot_action_financing.sum()\n"
   ]
  },
  {
   "cell_type": "code",
   "execution_count": 82,
   "metadata": {},
   "outputs": [
    {
     "data": {
      "text/plain": [
       "306370143.28000003"
      ]
     },
     "execution_count": 82,
     "metadata": {},
     "output_type": "execute_result"
    }
   ],
   "source": [
    "ferrara = df2[df2.prov_name == 'Ferrara'].reset_index(drop=True)\n",
    "ferrara.tot_action_financing.sum()"
   ]
  },
  {
   "cell_type": "code",
   "execution_count": 83,
   "metadata": {},
   "outputs": [
    {
     "data": {
      "text/plain": [
       "288622621.01"
      ]
     },
     "execution_count": 83,
     "metadata": {},
     "output_type": "execute_result"
    }
   ],
   "source": [
    "forli_cesena = df2[df2.prov_name == 'Forlì-Cesena'].reset_index(drop=True)\n",
    "forli_cesena.tot_action_financing.sum()"
   ]
  },
  {
   "cell_type": "code",
   "execution_count": 84,
   "metadata": {},
   "outputs": [
    {
     "data": {
      "text/plain": [
       "449664275.59999996"
      ]
     },
     "execution_count": 84,
     "metadata": {},
     "output_type": "execute_result"
    }
   ],
   "source": [
    "parma = df2[df2.prov_name == 'Parma'].reset_index(drop=True)\n",
    "parma.tot_action_financing.sum()"
   ]
  },
  {
   "cell_type": "code",
   "execution_count": 85,
   "metadata": {},
   "outputs": [
    {
     "data": {
      "text/plain": [
       "417876409.12"
      ]
     },
     "execution_count": 85,
     "metadata": {},
     "output_type": "execute_result"
    }
   ],
   "source": [
    "piacenza = df2[df2.prov_name == 'Piacenza'].reset_index(drop=True)\n",
    "piacenza.tot_action_financing.sum()"
   ]
  },
  {
   "cell_type": "code",
   "execution_count": 86,
   "metadata": {},
   "outputs": [
    {
     "data": {
      "text/plain": [
       "353578875.41"
      ]
     },
     "execution_count": 86,
     "metadata": {},
     "output_type": "execute_result"
    }
   ],
   "source": [
    "rimini= df2[df2.prov_name == 'Rimini'].reset_index(drop=True)\n",
    "rimini.tot_action_financing.sum()"
   ]
  },
  {
   "cell_type": "code",
   "execution_count": 87,
   "metadata": {},
   "outputs": [
    {
     "data": {
      "text/plain": [
       "348624965.31"
      ]
     },
     "execution_count": 87,
     "metadata": {},
     "output_type": "execute_result"
    }
   ],
   "source": [
    "ravenna= df2[df2.prov_name == 'Ravenna'].reset_index(drop=True)\n",
    "ravenna.tot_action_financing.sum()"
   ]
  },
  {
   "cell_type": "code",
   "execution_count": 88,
   "metadata": {},
   "outputs": [
    {
     "data": {
      "text/plain": [
       "414494547.76"
      ]
     },
     "execution_count": 88,
     "metadata": {},
     "output_type": "execute_result"
    }
   ],
   "source": [
    "reggioemilia = df2[df2.prov_name == 'Reggio Emilia'].reset_index(drop=True)\n",
    "reggioemilia.tot_action_financing.sum()"
   ]
  },
  {
   "cell_type": "code",
   "execution_count": 112,
   "metadata": {},
   "outputs": [
    {
     "data": {
      "text/html": [
       "<div>\n",
       "<style scoped>\n",
       "    .dataframe tbody tr th:only-of-type {\n",
       "        vertical-align: middle;\n",
       "    }\n",
       "\n",
       "    .dataframe tbody tr th {\n",
       "        vertical-align: top;\n",
       "    }\n",
       "\n",
       "    .dataframe thead th {\n",
       "        text-align: right;\n",
       "    }\n",
       "</style>\n",
       "<table border=\"1\" class=\"dataframe\">\n",
       "  <thead>\n",
       "    <tr style=\"text-align: right;\">\n",
       "      <th></th>\n",
       "      <th>prov_name</th>\n",
       "      <th>prov_code</th>\n",
       "      <th>action_description</th>\n",
       "      <th>latitude</th>\n",
       "      <th>longitude</th>\n",
       "      <th>tot_action_financing</th>\n",
       "    </tr>\n",
       "  </thead>\n",
       "  <tbody>\n",
       "    <tr>\n",
       "      <th>0</th>\n",
       "      <td>Bologna</td>\n",
       "      <td>BO</td>\n",
       "      <td>Actions for raising the quality of life in urb...</td>\n",
       "      <td>177.977467</td>\n",
       "      <td>45.366883</td>\n",
       "      <td>233035.82</td>\n",
       "    </tr>\n",
       "    <tr>\n",
       "      <th>106</th>\n",
       "      <td>Bologna</td>\n",
       "      <td>BO</td>\n",
       "      <td>Parking and exchange systems</td>\n",
       "      <td>44.494367</td>\n",
       "      <td>11.341721</td>\n",
       "      <td>200000.00</td>\n",
       "    </tr>\n",
       "    <tr>\n",
       "      <th>107</th>\n",
       "      <td>Bologna</td>\n",
       "      <td>BO</td>\n",
       "      <td>Parks and reserves protected areas</td>\n",
       "      <td>44.492238</td>\n",
       "      <td>11.218183</td>\n",
       "      <td>1188000.00</td>\n",
       "    </tr>\n",
       "    <tr>\n",
       "      <th>108</th>\n",
       "      <td>Bologna</td>\n",
       "      <td>BO</td>\n",
       "      <td>Permanent training professional and technical ...</td>\n",
       "      <td>20068.753251</td>\n",
       "      <td>5116.044615</td>\n",
       "      <td>4982114.60</td>\n",
       "    </tr>\n",
       "    <tr>\n",
       "      <th>109</th>\n",
       "      <td>Bologna</td>\n",
       "      <td>BO</td>\n",
       "      <td>Plants and machinery for trade and services</td>\n",
       "      <td>223.152543</td>\n",
       "      <td>55.876962</td>\n",
       "      <td>49026840.52</td>\n",
       "    </tr>\n",
       "    <tr>\n",
       "      <th>...</th>\n",
       "      <td>...</td>\n",
       "      <td>...</td>\n",
       "      <td>...</td>\n",
       "      <td>...</td>\n",
       "      <td>...</td>\n",
       "      <td>...</td>\n",
       "    </tr>\n",
       "    <tr>\n",
       "      <th>1090</th>\n",
       "      <td>Rimini</td>\n",
       "      <td>RN</td>\n",
       "      <td>IFTS (Higher Technical Education and Training)</td>\n",
       "      <td>881.218017</td>\n",
       "      <td>251.312590</td>\n",
       "      <td>2652746.00</td>\n",
       "    </tr>\n",
       "    <tr>\n",
       "      <th>1089</th>\n",
       "      <td>Rimini</td>\n",
       "      <td>RN</td>\n",
       "      <td>IFTS (Higher Technical Education and Training ...</td>\n",
       "      <td>220.304504</td>\n",
       "      <td>62.828148</td>\n",
       "      <td>602150.00</td>\n",
       "    </tr>\n",
       "    <tr>\n",
       "      <th>1088</th>\n",
       "      <td>Rimini</td>\n",
       "      <td>RN</td>\n",
       "      <td>Hotels</td>\n",
       "      <td>1056.100037</td>\n",
       "      <td>303.339273</td>\n",
       "      <td>3158589.84</td>\n",
       "    </tr>\n",
       "    <tr>\n",
       "      <th>1102</th>\n",
       "      <td>Rimini</td>\n",
       "      <td>RN</td>\n",
       "      <td>Kindergartens</td>\n",
       "      <td>308.048219</td>\n",
       "      <td>87.701120</td>\n",
       "      <td>395483.80</td>\n",
       "    </tr>\n",
       "    <tr>\n",
       "      <th>1186</th>\n",
       "      <td>Rimini</td>\n",
       "      <td>RN</td>\n",
       "      <td>Waterways</td>\n",
       "      <td>131.964457</td>\n",
       "      <td>37.912649</td>\n",
       "      <td>653702.80</td>\n",
       "    </tr>\n",
       "  </tbody>\n",
       "</table>\n",
       "<p>1187 rows × 6 columns</p>\n",
       "</div>"
      ],
      "text/plain": [
       "     prov_name prov_code                                 action_description  \\\n",
       "0      Bologna        BO  Actions for raising the quality of life in urb...   \n",
       "106    Bologna        BO                       Parking and exchange systems   \n",
       "107    Bologna        BO                 Parks and reserves protected areas   \n",
       "108    Bologna        BO  Permanent training professional and technical ...   \n",
       "109    Bologna        BO        Plants and machinery for trade and services   \n",
       "...        ...       ...                                                ...   \n",
       "1090    Rimini        RN     IFTS (Higher Technical Education and Training)   \n",
       "1089    Rimini        RN  IFTS (Higher Technical Education and Training ...   \n",
       "1088    Rimini        RN                                             Hotels   \n",
       "1102    Rimini        RN                                      Kindergartens   \n",
       "1186    Rimini        RN                                          Waterways   \n",
       "\n",
       "          latitude    longitude  tot_action_financing  \n",
       "0       177.977467    45.366883             233035.82  \n",
       "106      44.494367    11.341721             200000.00  \n",
       "107      44.492238    11.218183            1188000.00  \n",
       "108   20068.753251  5116.044615            4982114.60  \n",
       "109     223.152543    55.876962           49026840.52  \n",
       "...            ...          ...                   ...  \n",
       "1090    881.218017   251.312590            2652746.00  \n",
       "1089    220.304504    62.828148             602150.00  \n",
       "1088   1056.100037   303.339273            3158589.84  \n",
       "1102    308.048219    87.701120             395483.80  \n",
       "1186    131.964457    37.912649             653702.80  \n",
       "\n",
       "[1187 rows x 6 columns]"
      ]
     },
     "execution_count": 112,
     "metadata": {},
     "output_type": "execute_result"
    }
   ],
   "source": [
    "df3 = pd.read_csv('./final_dataset/MD1.csv')\n",
    "df3 = df3.drop(['Unnamed: 0'], axis=1)\n",
    "df3['tot_action_financing']= df3['tot_action_financing'].astype('str')\n",
    "df3['tot_action_financing']= df3['tot_action_financing'].apply(lambda x: x.split(','))\n",
    "df3['tot_action_financing']= df3['tot_action_financing'].apply(lambda x: '.'.join(x))\n",
    "df3['tot_action_financing']= df3['tot_action_financing'].astype('float64')\n",
    "df3 =df3[df3['tot_action_financing'] != 'NaN']\n",
    "df3 = df3.groupby(['prov_name', 'prov_code', 'action_description'], as_index=False).sum('tot_action_financing')\n",
    "df3 = df3.sort_values(by=\"prov_name\")\n",
    "df3"
   ]
  },
  {
   "cell_type": "code",
   "execution_count": 98,
   "metadata": {},
   "outputs": [],
   "source": [
    "categories = {'Beaches', 'Coastal', 'Contaminated and/or degraded sites', 'Control and protection of the Earth and Marino environment',\n",
    " 'Cragical defense', 'Defense port area', 'Detached longitudinal defense', 'Environmental safeguarding technologies',\n",
    "'Flood', 'Fluvia infrastructures/infrastructures/infrastructures/structures',  'Landslide', 'Port area', 'Water adjustment', 'Waterways', 'Urban water networks',}"
   ]
  },
  {
   "cell_type": "code",
   "execution_count": 110,
   "metadata": {},
   "outputs": [
    {
     "name": "stdout",
     "output_type": "stream",
     "text": [
      "Cragical defense 0.0\n",
      "Environmental safeguarding technologies 11831375.68\n",
      "Urban water networks 1430000.0\n",
      "Detached longitudinal defense 0.0\n",
      "Contaminated and/or degraded sites 3364855.0\n",
      "Coastal 0.0\n",
      "Defense port area 0.0\n",
      "Control and protection of the Earth and Marino environment 22380.68\n",
      "Fluvia infrastructures/infrastructures/infrastructures/structures 0.0\n",
      "Water adjustment 26002685.0\n",
      "Waterways 1135091.3599999999\n",
      "Port area 0.0\n",
      "Beaches 0.0\n",
      "Landslide 15187218.44\n",
      "Flood 80522290.32\n",
      "others= 1884776073.43\n"
     ]
    }
   ],
   "source": [
    "bologna3 = df3[df3.prov_name == 'Bologna'].reset_index(drop=True)\n",
    "tot_fin= 0\n",
    "for cat in categories:\n",
    "    support = bologna3[bologna3.action_description == cat]\n",
    "    tot_fin+=support.tot_action_financing.sum()\n",
    "    print(cat, support.tot_action_financing.sum())\n",
    "\n",
    "\n",
    "others = bologna3.tot_action_financing.sum()-tot_fin\n",
    "print('others=', others)"
   ]
  },
  {
   "cell_type": "code",
   "execution_count": 114,
   "metadata": {},
   "outputs": [
    {
     "name": "stdout",
     "output_type": "stream",
     "text": [
      "Cragical defense 0.0\n",
      "Environmental safeguarding technologies 4339314.98\n",
      "Urban water networks 2189800.0\n",
      "Detached longitudinal defense 0.0\n",
      "Contaminated and/or degraded sites 0.0\n",
      "Coastal 0.0\n",
      "Defense port area 0.0\n",
      "Control and protection of the Earth and Marino environment 0.0\n",
      "Fluvia infrastructures/infrastructures/infrastructures/structures 0.0\n",
      "Water adjustment 180118.75\n",
      "Waterways 2239500.0\n",
      "Port area 0.0\n",
      "Beaches 0.0\n",
      "Landslide 12717202.63\n",
      "Flood 21796861.65\n",
      "others= 458873360.25\n"
     ]
    }
   ],
   "source": [
    "modena3 = df3[df3.prov_name == 'Modena'].reset_index(drop=True)\n",
    "tot_fin= 0\n",
    "for cat in categories:\n",
    "    support = modena3[modena3.action_description == cat]\n",
    "    tot_fin+=support.tot_action_financing.sum()\n",
    "    print(cat, support.tot_action_financing.sum())\n",
    "\n",
    "\n",
    "others = modena3.tot_action_financing.sum()-tot_fin\n",
    "print('others=', others)\n"
   ]
  },
  {
   "cell_type": "code",
   "execution_count": 115,
   "metadata": {},
   "outputs": [
    {
     "name": "stdout",
     "output_type": "stream",
     "text": [
      "Cragical defense 0.0\n",
      "Environmental safeguarding technologies 4339314.98\n",
      "Urban water networks 2189800.0\n",
      "Detached longitudinal defense 0.0\n",
      "Contaminated and/or degraded sites 0.0\n",
      "Coastal 0.0\n",
      "Defense port area 0.0\n",
      "Control and protection of the Earth and Marino environment 0.0\n",
      "Fluvia infrastructures/infrastructures/infrastructures/structures 0.0\n",
      "Water adjustment 180118.75\n",
      "Waterways 2239500.0\n",
      "Port area 0.0\n",
      "Beaches 0.0\n",
      "Landslide 12717202.63\n",
      "Flood 21796861.65\n",
      "others= 458873360.25\n"
     ]
    }
   ],
   "source": [
    "ferrara3 = df3[df3.prov_name == 'Modena'].reset_index(drop=True)\n",
    "tot_fin= 0\n",
    "for cat in categories:\n",
    "    support = ferrara3[ferrara3.action_description == cat]\n",
    "    tot_fin+=support.tot_action_financing.sum()\n",
    "    print(cat, support.tot_action_financing.sum())\n",
    "\n",
    "\n",
    "others = ferrara3.tot_action_financing.sum()-tot_fin\n",
    "print('others=', others)"
   ]
  },
  {
   "cell_type": "code",
   "execution_count": 116,
   "metadata": {},
   "outputs": [
    {
     "name": "stdout",
     "output_type": "stream",
     "text": [
      "Cragical defense 0.0\n",
      "Environmental safeguarding technologies 1186130.12\n",
      "Urban water networks 800000.0\n",
      "Detached longitudinal defense 0.0\n",
      "Contaminated and/or degraded sites 0.0\n",
      "Coastal 225855.75\n",
      "Defense port area 0.0\n",
      "Control and protection of the Earth and Marino environment 0.0\n",
      "Fluvia infrastructures/infrastructures/infrastructures/structures 300000.0\n",
      "Water adjustment 150000.0\n",
      "Waterways 607914.0\n",
      "Port area 0.0\n",
      "Beaches 215855.75\n",
      "Landslide 13626347.08\n",
      "Flood 23248450.9\n",
      "others= 248262067.41\n"
     ]
    }
   ],
   "source": [
    "forli_cesena = df3[df3.prov_name == 'Forlì-Cesena'].reset_index(drop=True)\n",
    "tot_fin= 0\n",
    "for cat in categories:\n",
    "    support = forli_cesena[forli_cesena.action_description == cat]\n",
    "    tot_fin+=support.tot_action_financing.sum()\n",
    "    print(cat, support.tot_action_financing.sum())\n",
    "\n",
    "\n",
    "others = forli_cesena.tot_action_financing.sum()-tot_fin\n",
    "print('others=', others)"
   ]
  },
  {
   "cell_type": "code",
   "execution_count": 117,
   "metadata": {},
   "outputs": [
    {
     "name": "stdout",
     "output_type": "stream",
     "text": [
      "Cragical defense 0.0\n",
      "Environmental safeguarding technologies 1179898.92\n",
      "Urban water networks 3206538.51\n",
      "Detached longitudinal defense 0.0\n",
      "Contaminated and/or degraded sites 5817142.65\n",
      "Coastal 0.0\n",
      "Defense port area 0.0\n",
      "Control and protection of the Earth and Marino environment 0.0\n",
      "Fluvia infrastructures/infrastructures/infrastructures/structures 0.0\n",
      "Water adjustment 0.0\n",
      "Waterways 9816100.0\n",
      "Port area 0.0\n",
      "Beaches 0.0\n",
      "Landslide 18370147.85\n",
      "Flood 99987030.23\n",
      "others= 311287417.44000006\n"
     ]
    }
   ],
   "source": [
    "parma3 = df3[df3.prov_name == 'Parma'].reset_index(drop=True)\n",
    "tot_fin= 0\n",
    "for cat in categories:\n",
    "    support = parma3[parma3.action_description == cat]\n",
    "    tot_fin+=support.tot_action_financing.sum()\n",
    "    print(cat, support.tot_action_financing.sum())\n",
    "\n",
    "\n",
    "others = parma3.tot_action_financing.sum()-tot_fin\n",
    "print('others=', others)"
   ]
  },
  {
   "cell_type": "code",
   "execution_count": 118,
   "metadata": {},
   "outputs": [
    {
     "name": "stdout",
     "output_type": "stream",
     "text": [
      "Cragical defense 0.0\n",
      "Environmental safeguarding technologies 676525.37\n",
      "Urban water networks 4043316.53\n",
      "Detached longitudinal defense 0.0\n",
      "Contaminated and/or degraded sites 0.0\n",
      "Coastal 0.0\n",
      "Defense port area 0.0\n",
      "Control and protection of the Earth and Marino environment 0.0\n",
      "Fluvia infrastructures/infrastructures/infrastructures/structures 0.0\n",
      "Water adjustment 1336086.37\n",
      "Waterways 135439.32\n",
      "Port area 0.0\n",
      "Beaches 0.0\n",
      "Landslide 14050175.030000001\n",
      "Flood 30518900.89\n",
      "others= 367115965.61\n"
     ]
    }
   ],
   "source": [
    "piacenza3 = df3[df3.prov_name == 'Piacenza'].reset_index(drop=True)\n",
    "tot_fin= 0\n",
    "for cat in categories:\n",
    "    support = piacenza3[piacenza3.action_description == cat]\n",
    "    tot_fin+=support.tot_action_financing.sum()\n",
    "    print(cat, support.tot_action_financing.sum())\n",
    "\n",
    "\n",
    "others = piacenza3.tot_action_financing.sum()-tot_fin\n",
    "print('others=', others)"
   ]
  },
  {
   "cell_type": "code",
   "execution_count": 123,
   "metadata": {},
   "outputs": [
    {
     "name": "stdout",
     "output_type": "stream",
     "text": [
      "Cragical defense 0.0\n",
      "Environmental safeguarding technologies 1772732.1\n",
      "Urban water networks 870000.0\n",
      "Detached longitudinal defense 0.0\n",
      "Contaminated and/or degraded sites 0.0\n",
      "Coastal 8495524.7\n",
      "Defense port area 0.0\n",
      "Control and protection of the Earth and Marino environment 0.0\n",
      "Fluvia infrastructures/infrastructures/infrastructures/structures 0.0\n",
      "Water adjustment 200000.0\n",
      "Waterways 653702.8\n",
      "Port area 0.0\n",
      "Beaches 175124.7\n",
      "Landslide 12768970.27\n",
      "Flood 20304063.76\n",
      "others= 308338757.08000004\n"
     ]
    }
   ],
   "source": [
    "rimini3= df3[df3.prov_name == 'Rimini'].reset_index(drop=True)\n",
    "tot_fin= 0\n",
    "for cat in categories:\n",
    "    support = rimini3[rimini3.action_description == cat]\n",
    "    tot_fin+=support.tot_action_financing.sum()\n",
    "    print(cat, support.tot_action_financing.sum())\n",
    "\n",
    "\n",
    "others = rimini3.tot_action_financing.sum()-tot_fin\n",
    "print('others=', others)"
   ]
  },
  {
   "cell_type": "code",
   "execution_count": 127,
   "metadata": {},
   "outputs": [
    {
     "name": "stdout",
     "output_type": "stream",
     "text": [
      "Cragical defense 0.0\n",
      "Environmental safeguarding technologies 3474685.75\n",
      "Urban water networks 800000.0\n",
      "Detached longitudinal defense 0.0\n",
      "Contaminated and/or degraded sites 0.0\n",
      "Coastal 0.0\n",
      "Defense port area 0.0\n",
      "Control and protection of the Earth and Marino environment 0.0\n",
      "Fluvia infrastructures/infrastructures/infrastructures/structures 0.0\n",
      "Water adjustment 2850000.0\n",
      "Waterways 724464.0\n",
      "Port area 0.0\n",
      "Beaches 500000.0\n",
      "Landslide 1436617.8800000001\n",
      "Flood 33953083.12\n",
      "others= 304886114.56\n"
     ]
    },
    {
     "data": {
      "text/plain": [
       "348624965.31"
      ]
     },
     "execution_count": 127,
     "metadata": {},
     "output_type": "execute_result"
    }
   ],
   "source": [
    "ravenna3= df3[df3.prov_name == 'Ravenna'].reset_index(drop=True)\n",
    "tot_fin= 0\n",
    "for cat in categories:\n",
    "    support = ravenna3[ravenna3.action_description == cat]\n",
    "    tot_fin+=support.tot_action_financing.sum()\n",
    "    print(cat, support.tot_action_financing.sum())\n",
    "\n",
    "\n",
    "others = ravenna3.tot_action_financing.sum()-tot_fin\n",
    "print('others=', others)\n",
    "ravenna3.tot_action_financing.sum()"
   ]
  },
  {
   "cell_type": "code",
   "execution_count": 125,
   "metadata": {},
   "outputs": [
    {
     "name": "stdout",
     "output_type": "stream",
     "text": [
      "Cragical defense 0.0\n",
      "Environmental safeguarding technologies 4867623.59\n",
      "Urban water networks 1740000.0\n",
      "Detached longitudinal defense 0.0\n",
      "Contaminated and/or degraded sites 0.0\n",
      "Coastal 0.0\n",
      "Defense port area 0.0\n",
      "Control and protection of the Earth and Marino environment 0.0\n",
      "Fluvia infrastructures/infrastructures/infrastructures/structures 0.0\n",
      "Water adjustment 0.0\n",
      "Waterways 6350000.0\n",
      "Port area 0.0\n",
      "Beaches 0.0\n",
      "Landslide 15727261.7\n",
      "Flood 14225701.74\n",
      "others= 371583960.73\n"
     ]
    }
   ],
   "source": [
    "reggioemilia3 = df3[df3.prov_name == 'Reggio Emilia'].reset_index(drop=True)\n",
    "tot_fin= 0\n",
    "for cat in categories:\n",
    "    support = reggioemilia3[reggioemilia3.action_description == cat]\n",
    "    tot_fin+=support.tot_action_financing.sum()\n",
    "    print(cat, support.tot_action_financing.sum())\n",
    "\n",
    "\n",
    "others = reggioemilia3.tot_action_financing.sum()-tot_fin\n",
    "print('others=', others)"
   ]
  },
  {
   "cell_type": "markdown",
   "metadata": {},
   "source": [
    "# 4. Disruption subburst chart per type (MD1) - provinces "
   ]
  },
  {
   "cell_type": "code",
   "execution_count": 153,
   "metadata": {},
   "outputs": [
    {
     "data": {
      "text/html": [
       "<div>\n",
       "<style scoped>\n",
       "    .dataframe tbody tr th:only-of-type {\n",
       "        vertical-align: middle;\n",
       "    }\n",
       "\n",
       "    .dataframe tbody tr th {\n",
       "        vertical-align: top;\n",
       "    }\n",
       "\n",
       "    .dataframe thead th {\n",
       "        text-align: right;\n",
       "    }\n",
       "</style>\n",
       "<table border=\"1\" class=\"dataframe\">\n",
       "  <thead>\n",
       "    <tr style=\"text-align: right;\">\n",
       "      <th></th>\n",
       "      <th>id</th>\n",
       "      <th>type</th>\n",
       "      <th>municipality</th>\n",
       "      <th>prov_code</th>\n",
       "      <th>latitude</th>\n",
       "      <th>longitude</th>\n",
       "      <th>Date</th>\n",
       "    </tr>\n",
       "  </thead>\n",
       "  <tbody>\n",
       "    <tr>\n",
       "      <th>0</th>\n",
       "      <td>Erosion-0</td>\n",
       "      <td>Coast erosion</td>\n",
       "      <td>comacchio</td>\n",
       "      <td>FE</td>\n",
       "      <td>44.69462384</td>\n",
       "      <td>12.18387254</td>\n",
       "      <td>Unknown</td>\n",
       "    </tr>\n",
       "    <tr>\n",
       "      <th>1</th>\n",
       "      <td>Erosion-1</td>\n",
       "      <td>Coast erosion</td>\n",
       "      <td>comacchio</td>\n",
       "      <td>FE</td>\n",
       "      <td>44.69462384</td>\n",
       "      <td>12.18387254</td>\n",
       "      <td>Unknown</td>\n",
       "    </tr>\n",
       "    <tr>\n",
       "      <th>2</th>\n",
       "      <td>Erosion-2</td>\n",
       "      <td>Coast erosion</td>\n",
       "      <td>comacchio</td>\n",
       "      <td>FE</td>\n",
       "      <td>44.69462384</td>\n",
       "      <td>12.18387254</td>\n",
       "      <td>Unknown</td>\n",
       "    </tr>\n",
       "    <tr>\n",
       "      <th>3</th>\n",
       "      <td>Erosion-3</td>\n",
       "      <td>Coast erosion</td>\n",
       "      <td>comacchio</td>\n",
       "      <td>FE</td>\n",
       "      <td>44.69462384</td>\n",
       "      <td>12.18387254</td>\n",
       "      <td>Unknown</td>\n",
       "    </tr>\n",
       "    <tr>\n",
       "      <th>4</th>\n",
       "      <td>Erosion-4</td>\n",
       "      <td>Coast erosion</td>\n",
       "      <td>comacchio</td>\n",
       "      <td>FE</td>\n",
       "      <td>44.69462384</td>\n",
       "      <td>12.18387254</td>\n",
       "      <td>Unknown</td>\n",
       "    </tr>\n",
       "    <tr>\n",
       "      <th>...</th>\n",
       "      <td>...</td>\n",
       "      <td>...</td>\n",
       "      <td>...</td>\n",
       "      <td>...</td>\n",
       "      <td>...</td>\n",
       "      <td>...</td>\n",
       "      <td>...</td>\n",
       "    </tr>\n",
       "    <tr>\n",
       "      <th>514</th>\n",
       "      <td>Sign-7979</td>\n",
       "      <td>Wells with hot water</td>\n",
       "      <td>finale emilia</td>\n",
       "      <td>MO</td>\n",
       "      <td>44.83221342</td>\n",
       "      <td>11.2957332</td>\n",
       "      <td>1/1/2014</td>\n",
       "    </tr>\n",
       "    <tr>\n",
       "      <th>515</th>\n",
       "      <td>Sign-7979</td>\n",
       "      <td>Wells with hot water</td>\n",
       "      <td>medolla</td>\n",
       "      <td>MO</td>\n",
       "      <td>44.84894472</td>\n",
       "      <td>11.07147687</td>\n",
       "      <td>1/10/2017</td>\n",
       "    </tr>\n",
       "    <tr>\n",
       "      <th>516</th>\n",
       "      <td>Sign-7979</td>\n",
       "      <td>Gas leaks from wells for water and / or from t...</td>\n",
       "      <td>medolla</td>\n",
       "      <td>MO</td>\n",
       "      <td>44.84894472</td>\n",
       "      <td>11.07147687</td>\n",
       "      <td>1/9/2014</td>\n",
       "    </tr>\n",
       "    <tr>\n",
       "      <th>517</th>\n",
       "      <td>Sign-7979</td>\n",
       "      <td>Wells with hot water</td>\n",
       "      <td>medolla</td>\n",
       "      <td>MO</td>\n",
       "      <td>44.84894472</td>\n",
       "      <td>11.07147687</td>\n",
       "      <td>1/10/2015</td>\n",
       "    </tr>\n",
       "    <tr>\n",
       "      <th>518</th>\n",
       "      <td>Sign-7979</td>\n",
       "      <td>Wells with hot water</td>\n",
       "      <td>medolla</td>\n",
       "      <td>MO</td>\n",
       "      <td>44.84894472</td>\n",
       "      <td>11.07147687</td>\n",
       "      <td>1/10/2015</td>\n",
       "    </tr>\n",
       "  </tbody>\n",
       "</table>\n",
       "<p>514 rows × 7 columns</p>\n",
       "</div>"
      ],
      "text/plain": [
       "            id                                               type  \\\n",
       "0    Erosion-0                                      Coast erosion   \n",
       "1    Erosion-1                                      Coast erosion   \n",
       "2    Erosion-2                                      Coast erosion   \n",
       "3    Erosion-3                                      Coast erosion   \n",
       "4    Erosion-4                                      Coast erosion   \n",
       "..         ...                                                ...   \n",
       "514  Sign-7979                               Wells with hot water   \n",
       "515  Sign-7979                               Wells with hot water   \n",
       "516  Sign-7979  Gas leaks from wells for water and / or from t...   \n",
       "517  Sign-7979                               Wells with hot water   \n",
       "518  Sign-7979                               Wells with hot water   \n",
       "\n",
       "      municipality prov_code     latitude    longitude       Date  \n",
       "0        comacchio        FE  44.69462384  12.18387254    Unknown  \n",
       "1        comacchio        FE  44.69462384  12.18387254    Unknown  \n",
       "2        comacchio        FE  44.69462384  12.18387254    Unknown  \n",
       "3        comacchio        FE  44.69462384  12.18387254    Unknown  \n",
       "4        comacchio        FE  44.69462384  12.18387254    Unknown  \n",
       "..             ...       ...          ...          ...        ...  \n",
       "514  finale emilia        MO  44.83221342   11.2957332   1/1/2014  \n",
       "515        medolla        MO  44.84894472  11.07147687  1/10/2017  \n",
       "516        medolla        MO  44.84894472  11.07147687   1/9/2014  \n",
       "517        medolla        MO  44.84894472  11.07147687  1/10/2015  \n",
       "518        medolla        MO  44.84894472  11.07147687  1/10/2015  \n",
       "\n",
       "[514 rows x 7 columns]"
      ]
     },
     "execution_count": 153,
     "metadata": {},
     "output_type": "execute_result"
    }
   ],
   "source": [
    "df4 = pd.read_csv('./final_dataset/MD2.csv')\n",
    "df4 = df4.drop(['Unnamed: 0'], axis=1)\n",
    "df4 = df4[df4['prov_code'] != 'missing']\n",
    "df4 = df4[df4['prov_code'] != 'MN']\n",
    "\n",
    "df4\n"
   ]
  },
  {
   "cell_type": "code",
   "execution_count": 145,
   "metadata": {},
   "outputs": [],
   "source": [
    "provs = set(df4.prov_code)"
   ]
  },
  {
   "cell_type": "code",
   "execution_count": 155,
   "metadata": {},
   "outputs": [
    {
     "name": "stdout",
     "output_type": "stream",
     "text": [
      "RE 39\n",
      "PC 55\n",
      "MO 76\n",
      "RN 56\n",
      "BO 114\n",
      "PR 42\n",
      "RA 44\n",
      "FC 50\n",
      "FE 38\n"
     ]
    }
   ],
   "source": [
    "for province in provs:\n",
    "    support = df4[df4.prov_code == province].values\n",
    "    print(province,len(support))"
   ]
  },
  {
   "cell_type": "code",
   "execution_count": 154,
   "metadata": {},
   "outputs": [
    {
     "data": {
      "text/plain": [
       "{'Coast erosion',\n",
       " 'Coastal Disruption',\n",
       " 'Gas leaks from wells for water and / or from the ground',\n",
       " 'Idraulico',\n",
       " 'Landslide',\n",
       " 'Presence of fractures and / or sinking into the ground',\n",
       " 'Unknown',\n",
       " 'Volcanoes of mud and / or sand',\n",
       " 'Wells with hot water'}"
      ]
     },
     "execution_count": 154,
     "metadata": {},
     "output_type": "execute_result"
    }
   ],
   "source": [
    "disruptions = set(df4.type)\n",
    "disruptions"
   ]
  },
  {
   "cell_type": "code",
   "execution_count": 161,
   "metadata": {},
   "outputs": [
    {
     "name": "stdout",
     "output_type": "stream",
     "text": [
      "RE\n",
      "Unknown 0\n",
      "Coastal Disruption 0\n",
      "Coast erosion 0\n",
      "Wells with hot water 5\n",
      "Gas leaks from wells for water and / or from the ground 1\n",
      "Presence of fractures and / or sinking into the ground 0\n",
      "Idraulico 7\n",
      "Volcanoes of mud and / or sand 4\n",
      "Landslide 22\n",
      "PC\n",
      "Unknown 0\n",
      "Coastal Disruption 0\n",
      "Coast erosion 0\n",
      "Wells with hot water 0\n",
      "Gas leaks from wells for water and / or from the ground 0\n",
      "Presence of fractures and / or sinking into the ground 0\n",
      "Idraulico 32\n",
      "Volcanoes of mud and / or sand 0\n",
      "Landslide 23\n",
      "MO\n",
      "Unknown 2\n",
      "Coastal Disruption 0\n",
      "Coast erosion 0\n",
      "Wells with hot water 30\n",
      "Gas leaks from wells for water and / or from the ground 11\n",
      "Presence of fractures and / or sinking into the ground 3\n",
      "Idraulico 9\n",
      "Volcanoes of mud and / or sand 2\n",
      "Landslide 19\n",
      "RN\n",
      "Unknown 0\n",
      "Coastal Disruption 5\n",
      "Coast erosion 8\n",
      "Wells with hot water 1\n",
      "Gas leaks from wells for water and / or from the ground 0\n",
      "Presence of fractures and / or sinking into the ground 0\n",
      "Idraulico 15\n",
      "Volcanoes of mud and / or sand 0\n",
      "Landslide 27\n",
      "BO\n",
      "Unknown 1\n",
      "Coastal Disruption 0\n",
      "Coast erosion 0\n",
      "Wells with hot water 10\n",
      "Gas leaks from wells for water and / or from the ground 7\n",
      "Presence of fractures and / or sinking into the ground 1\n",
      "Idraulico 42\n",
      "Volcanoes of mud and / or sand 0\n",
      "Landslide 53\n",
      "PR\n",
      "Unknown 0\n",
      "Coastal Disruption 0\n",
      "Coast erosion 0\n",
      "Wells with hot water 0\n",
      "Gas leaks from wells for water and / or from the ground 0\n",
      "Presence of fractures and / or sinking into the ground 0\n",
      "Idraulico 27\n",
      "Volcanoes of mud and / or sand 0\n",
      "Landslide 15\n",
      "RA\n",
      "Unknown 0\n",
      "Coastal Disruption 0\n",
      "Coast erosion 13\n",
      "Wells with hot water 2\n",
      "Gas leaks from wells for water and / or from the ground 2\n",
      "Presence of fractures and / or sinking into the ground 0\n",
      "Idraulico 22\n",
      "Volcanoes of mud and / or sand 0\n",
      "Landslide 5\n",
      "FC\n",
      "Unknown 0\n",
      "Coastal Disruption 1\n",
      "Coast erosion 5\n",
      "Wells with hot water 1\n",
      "Gas leaks from wells for water and / or from the ground 1\n",
      "Presence of fractures and / or sinking into the ground 0\n",
      "Idraulico 10\n",
      "Volcanoes of mud and / or sand 0\n",
      "Landslide 32\n",
      "FE\n",
      "Unknown 1\n",
      "Coastal Disruption 2\n",
      "Coast erosion 12\n",
      "Wells with hot water 3\n",
      "Gas leaks from wells for water and / or from the ground 10\n",
      "Presence of fractures and / or sinking into the ground 4\n",
      "Idraulico 4\n",
      "Volcanoes of mud and / or sand 2\n",
      "Landslide 0\n"
     ]
    }
   ],
   "source": [
    "for province in provs:\n",
    "    print(province)\n",
    "    support = df4[df4.prov_code == province]\n",
    "    for disruption in disruptions:\n",
    "        support2 = support[support.type == disruption]\n",
    "        print(disruption,len(support2))\n",
    "    "
   ]
  },
  {
   "cell_type": "code",
   "execution_count": null,
   "metadata": {},
   "outputs": [],
   "source": []
  }
 ],
 "metadata": {
  "kernelspec": {
   "display_name": "Python 3.9.4 64-bit",
   "language": "python",
   "name": "python3"
  },
  "language_info": {
   "codemirror_mode": {
    "name": "ipython",
    "version": 3
   },
   "file_extension": ".py",
   "mimetype": "text/x-python",
   "name": "python",
   "nbconvert_exporter": "python",
   "pygments_lexer": "ipython3",
   "version": "3.9.4"
  },
  "orig_nbformat": 4,
  "vscode": {
   "interpreter": {
    "hash": "aee8b7b246df8f9039afb4144a1f6fd8d2ca17a180786b69acc140d282b71a49"
   }
  }
 },
 "nbformat": 4,
 "nbformat_minor": 2
}
