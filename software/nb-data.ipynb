{
 "cells": [
  {
   "cell_type": "markdown",
   "metadata": {},
   "source": [
    "# Rendmi\n",
    "\n",
    "Datadump used updated untl 06/07/2022\n",
    "Source: http://dati.isprambiente.it/accesso-ai-dati/download/\n",
    "\n"
   ]
  }
 ],
 "metadata": {
  "language_info": {
   "name": "python"
  },
  "orig_nbformat": 4
 },
 "nbformat": 4,
 "nbformat_minor": 2
}
