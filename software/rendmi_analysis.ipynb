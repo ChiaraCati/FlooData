{
 "cells": [
  {
   "cell_type": "markdown",
   "metadata": {},
   "source": [
    "# Rendmi\n",
    "\n",
    "Datadump used updated untl 06/07/2022\n",
    "\n",
    "Source: http://dati.isprambiente.it/accesso-ai-dati/download/\n",
    "\n",
    "In order to analyze tyhe dataset, gather all the data needed and turn it into a .json file we will use rdflib to query the graph."
   ]
  },
  {
   "cell_type": "code",
   "execution_count": 3,
   "metadata": {},
   "outputs": [],
   "source": [
    "# all imports\n",
    "import pprint\n",
    "import rdflib\n",
    "from rdflib import URIRef, Literal, Namespace\n",
    "from rdflib.namespace import XSD, RDFS, DCTERMS\n",
    "from rdflib import Literal"
   ]
  },
  {
   "cell_type": "markdown",
   "metadata": {},
   "source": [
    "Data had some errors that needed to be manualy corrected in order to maake the parser work.\n",
    "\n",
    "**Specifically**:\n",
    "\n",
    "Invalid lines sucH as *-schema#label>\"[ sometext ]\".*  were changed into *-schema#label> \"[ sometext ]\".* "
   ]
  },
  {
   "cell_type": "code",
   "execution_count": 4,
   "metadata": {},
   "outputs": [],
   "source": [
    " # create an empty Graph for the rendmi dataset\n",
    "g = rdflib.Graph()\n",
    "\n",
    "# parse a local RDF file by specifying the format into the graph\n",
    "result = g.parse(\"../datasets/originals/dissesto_07_06_2022.nt\", format='nt')"
   ]
  },
  {
   "cell_type": "markdown",
   "metadata": {},
   "source": [
    "WEe also downloaded the locations graph made available by ispra in order to get the region of provenance of each intervention and selecto only those happening in Emilia Romagna."
   ]
  },
  {
   "cell_type": "code",
   "execution_count": 5,
   "metadata": {},
   "outputs": [],
   "source": [
    " # create an empty Graph for places dataset\n",
    "places_data = rdflib.Graph()\n",
    "\n",
    "# parse a local RDF file by specifying the format into the graph\n",
    "result_places = places_data.parse(\"../datasets/originals/luoghi.nt\", format='nt')"
   ]
  },
  {
   "cell_type": "markdown",
   "metadata": {},
   "source": [
    "Looks abit weird as 50 entries are missing w.r.t. the original .nt file"
   ]
  },
  {
   "cell_type": "markdown",
   "metadata": {},
   "source": [
    "## General Analysis\n",
    "\n",
    "The first thing we wanna do is to undersatand the types of entries contained in this dataset.\n",
    "\n",
    "\n",
    "Thus we previously gathered a [list](http://dati.isprambiente.it/sparql?default-graph-uri=&query=select+distinct+%3Fp+%3Fplabel%0D%0Awhere+%7B%0D%0A%3Fs+%3Fp+%3Fo.%0D%0A%3Fp+rdfs%3Alabel+%3Fplabel.%0D%0Afilter%28lang%28%3Fplabel%29+%3D+%27en%27%29%7D%0D%0A&format=text%2Fhtml&timeout=0&debug=on) of all predicates in the dataset and individuated http://www.w3.org/1999/02/22-rdf-syntax-ns#type as a startng point, as it is the predicate referring to the type of an entry"
   ]
  },
  {
   "cell_type": "code",
   "execution_count": 6,
   "metadata": {},
   "outputs": [
    {
     "name": "stdout",
     "output_type": "stream",
     "text": [
      "{rdflib.term.URIRef('http://purl.org/goodrelations/v1#BusinessEntity'), rdflib.term.URIRef('http://dati.isprambiente.it/ontology/core#LotStep'), rdflib.term.URIRef('http://dati.isprambiente.it/ontology/core#EconomicIndicator'), rdflib.term.URIRef('http://dati.isprambiente.it/ontology/core#Repair'), rdflib.term.URIRef('http://purl.org/procurement/public-contracts#FrameworkAgreement'), rdflib.term.URIRef('http://dati.isprambiente.it/ontology/core#Instability'), rdflib.term.URIRef('http://dati.isprambiente.it/ontology/core#AuthorityKind'), rdflib.term.URIRef('http://dati.isprambiente.it/ontology/core#Contract'), rdflib.term.URIRef('http://www.w3.org/2004/02/skos/core#ConceptScheme'), rdflib.term.URIRef('http://dati.isprambiente.it/ontology/core#Lithology'), rdflib.term.URIRef('http://www.w3.org/2004/02/skos/core#Concept'), rdflib.term.URIRef('http://dati.isprambiente.it/ontology/core#Intervention')}\n"
     ]
    }
   ],
   "source": [
    "#look for types\n",
    "\n",
    "types = set()\n",
    "\n",
    "type = URIRef('http://www.w3.org/1999/02/22-rdf-syntax-ns#type') \n",
    "instability = '<http://dati.isprambiente.it/ontology/core#Instability>'\n",
    "\n",
    "for s, p, o in result.triples((None, type, None)):\n",
    "    types.add(o)\n",
    "\n",
    "print(types)"
   ]
  },
  {
   "cell_type": "markdown",
   "metadata": {},
   "source": [
    "The result shows the main types of entities recorded in the graph.\n",
    "At the moment the interesting fieldsfor us are Intervention, Instability and repair  interesting for us here. \n",
    "\n",
    "Lets see which predicateds are used with each one of them, keeping in mind weneed to find their geo loction, entity, etc. "
   ]
  },
  {
   "cell_type": "code",
   "execution_count": 7,
   "metadata": {},
   "outputs": [
    {
     "name": "stdout",
     "output_type": "stream",
     "text": [
      "http://dati.isprambiente.it/id/ihi/intervention/224/09\n"
     ]
    }
   ],
   "source": [
    "#Intervention\n",
    "\n",
    "interventions = set()\n",
    "type = URIRef('http://www.w3.org/1999/02/22-rdf-syntax-ns#type') \n",
    "intervention = URIRef('http://dati.isprambiente.it/ontology/core#Intervention') \n",
    "\n",
    "for s, p, o in result.triples((None, type, intervention)):\n",
    "    interventions.add(s)\n",
    "\n",
    "print(list(interventions)[0])"
   ]
  },
  {
   "cell_type": "code",
   "execution_count": 8,
   "metadata": {},
   "outputs": [
    {
     "name": "stdout",
     "output_type": "stream",
     "text": [
      "{rdflib.term.URIRef('http://purl.org/dc/terms/publisher'), rdflib.term.URIRef('http://purl.org/dc/terms/isPartOf'), rdflib.term.URIRef('http://dati.isprambiente.it/ontology/core#hasAgreement'), rdflib.term.URIRef('http://www.w3.org/1999/02/22-rdf-syntax-ns#type'), rdflib.term.URIRef('http://dati.isprambiente.it/ontology/core#primaryGeographicalFeature'), rdflib.term.URIRef('http://dati.isprambiente.it/ontology/core#officialInstabilityType'), rdflib.term.URIRef('http://purl.org/dc/terms/isReferencedBy'), rdflib.term.URIRef('http://www.w3.org/2000/01/rdf-schema#label'), rdflib.term.URIRef('http://www.w3.org/2003/01/geo/wgs84_pos#location'), rdflib.term.URIRef('http://dati.isprambiente.it/ontology/core#contractingAuthority'), rdflib.term.URIRef('http://dati.isprambiente.it/ontology/core#amountFinanced')}\n"
     ]
    }
   ],
   "source": [
    "#predicates\n",
    "preds_interventions = set()\n",
    "intervention = URIRef('http://dati.isprambiente.it/id/ihi/intervention/232/02') \n",
    "\n",
    "for s, p, o in result.triples((intervention, None, None)):\n",
    "    preds_interventions.add(p)\n",
    "\n",
    "print(preds_interventions)"
   ]
  },
  {
   "cell_type": "code",
   "execution_count": 9,
   "metadata": {},
   "outputs": [],
   "source": [
    "#test\n",
    "\n",
    "for intervention_uri in interventions:\n",
    "    intervention_this = URIRef(intervention_uri) \n",
    "    pred_this = set()\n",
    "\n",
    "    for s, p, o in result.triples((intervention, None, None)):\n",
    "        pred_this.add(p)\n",
    "    \n",
    "    if pred_this != preds_interventions:\n",
    "        print(intervention_this, 'has different predicates')"
   ]
  },
  {
   "cell_type": "code",
   "execution_count": 10,
   "metadata": {},
   "outputs": [
    {
     "name": "stdout",
     "output_type": "stream",
     "text": [
      "http://dati.isprambiente.it/id/ihi/instability/183/0823di-5\n"
     ]
    }
   ],
   "source": [
    "#Instability\n",
    "\n",
    "instabilities = set()\n",
    "type = URIRef('http://www.w3.org/1999/02/22-rdf-syntax-ns#type') \n",
    "instability = URIRef('http://dati.isprambiente.it/ontology/core#Instability') \n",
    "\n",
    "for s, p, o in result.triples((None, type, instability)):\n",
    "    instabilities.add(s)\n",
    "\n",
    "print(list(instabilities)[0])"
   ]
  },
  {
   "cell_type": "code",
   "execution_count": 11,
   "metadata": {},
   "outputs": [
    {
     "name": "stdout",
     "output_type": "stream",
     "text": [
      "{rdflib.term.URIRef('http://dati.isprambiente.it/ontology/core#instabilityRelatedTo'), rdflib.term.URIRef('http://www.w3.org/1999/02/22-rdf-syntax-ns#type'), rdflib.term.URIRef('http://www.w3.org/2000/01/rdf-schema#label'), rdflib.term.URIRef('http://dati.isprambiente.it/ontology/core#instabilityType'), rdflib.term.URIRef('http://dati.isprambiente.it/ontology/core#instabilityGroup')}\n"
     ]
    }
   ],
   "source": [
    "# predicates\n",
    "preds_instability = set()\n",
    "instability = URIRef('http://dati.isprambiente.it/id/ihi/instability/108/082di-6') \n",
    "\n",
    "for s, p, o in result.triples((instability, None, None)):\n",
    "    preds_instability.add(p)\n",
    "\n",
    "print(preds_instability)"
   ]
  },
  {
   "cell_type": "code",
   "execution_count": 12,
   "metadata": {},
   "outputs": [],
   "source": [
    "#test\n",
    "\n",
    "for intervention_uri in instabilities:\n",
    "    instability_this = URIRef(intervention_uri) \n",
    "    preds_this = set()\n",
    "\n",
    "    for s, p, o in result.triples((instability_this, None, None)):\n",
    "        preds_this.add(p)\n",
    "    \n",
    "    if preds_this != preds_instability:\n",
    "        print(instability_this, 'has different predicates')"
   ]
  },
  {
   "cell_type": "code",
   "execution_count": 13,
   "metadata": {},
   "outputs": [
    {
     "name": "stdout",
     "output_type": "stream",
     "text": [
      "http://dati.isprambiente.it/id/ihi/repair/108/082si-33\n"
     ]
    }
   ],
   "source": [
    "#Repair\n",
    "\n",
    "repairs = set()\n",
    "type = URIRef('http://www.w3.org/1999/02/22-rdf-syntax-ns#type') \n",
    "repair = URIRef('http://dati.isprambiente.it/ontology/core#Repair') \n",
    "\n",
    "for s, p, o in result.triples((None, type, repair)):\n",
    "    repairs.add(s)\n",
    "\n",
    "print(list(repairs)[0])"
   ]
  },
  {
   "cell_type": "code",
   "execution_count": 14,
   "metadata": {},
   "outputs": [
    {
     "name": "stdout",
     "output_type": "stream",
     "text": [
      "{rdflib.term.URIRef('http://www.w3.org/1999/02/22-rdf-syntax-ns#type'), rdflib.term.URIRef('http://www.w3.org/2000/01/rdf-schema#label'), rdflib.term.URIRef('http://dati.isprambiente.it/ontology/core#repairType'), rdflib.term.URIRef('http://dati.isprambiente.it/ontology/core#repairRelatedTo')}\n"
     ]
    }
   ],
   "source": [
    " # predicates\n",
    "preds_repairs = set()\n",
    "repair = URIRef('http://dati.isprambiente.it/id/ihi/repair/036/061sf-32') \n",
    "\n",
    "for s, p, o in result.triples((repair, None, None)):\n",
    "    preds_repairs.add(p)\n",
    "\n",
    "print(preds_repairs)"
   ]
  },
  {
   "cell_type": "code",
   "execution_count": 15,
   "metadata": {},
   "outputs": [
    {
     "name": "stdout",
     "output_type": "stream",
     "text": [
      "4447\n",
      "12600\n"
     ]
    }
   ],
   "source": [
    "#test\n",
    "x= 0\n",
    "for repair_uri in repairs:\n",
    "    repair_this = URIRef(repair_uri) \n",
    "    preds_thiss = set()\n",
    "\n",
    "    for s, p, o in result.triples((repair_this, None, None)):\n",
    "        preds_thiss.add(p)\n",
    "    \n",
    "    if preds_thiss != preds_repairs:\n",
    "        x +=1\n",
    "        # print(repair_this, 'has different predicates', preds_thiss)\n",
    "\n",
    "print(x)\n",
    "print(len(repairs))"
   ]
  },
  {
   "cell_type": "markdown",
   "metadata": {},
   "source": [
    "**Test Results:**\n",
    "4447 repair entries out of 12600 have an additional preposition, i.e., rdflib.term.URIRef('http://dati.isprambiente.it/ontology/core#repairCategory')}"
   ]
  },
  {
   "cell_type": "markdown",
   "metadata": {},
   "source": [
    "## Interventions analysis"
   ]
  },
  {
   "cell_type": "code",
   "execution_count": 16,
   "metadata": {},
   "outputs": [
    {
     "data": {
      "text/plain": [
       "{rdflib.term.URIRef('http://dati.isprambiente.it/ontology/core#amountFinanced'),\n",
       " rdflib.term.URIRef('http://dati.isprambiente.it/ontology/core#contractingAuthority'),\n",
       " rdflib.term.URIRef('http://dati.isprambiente.it/ontology/core#hasAgreement'),\n",
       " rdflib.term.URIRef('http://dati.isprambiente.it/ontology/core#officialInstabilityType'),\n",
       " rdflib.term.URIRef('http://dati.isprambiente.it/ontology/core#primaryGeographicalFeature'),\n",
       " rdflib.term.URIRef('http://purl.org/dc/terms/isPartOf'),\n",
       " rdflib.term.URIRef('http://purl.org/dc/terms/isReferencedBy'),\n",
       " rdflib.term.URIRef('http://purl.org/dc/terms/publisher'),\n",
       " rdflib.term.URIRef('http://www.w3.org/1999/02/22-rdf-syntax-ns#type'),\n",
       " rdflib.term.URIRef('http://www.w3.org/2000/01/rdf-schema#label'),\n",
       " rdflib.term.URIRef('http://www.w3.org/2003/01/geo/wgs84_pos#location')}"
      ]
     },
     "execution_count": 16,
     "metadata": {},
     "output_type": "execute_result"
    }
   ],
   "source": [
    "preds_interventions"
   ]
  },
  {
   "cell_type": "code",
   "execution_count": 17,
   "metadata": {},
   "outputs": [
    {
     "name": "stdout",
     "output_type": "stream",
     "text": [
      "508\n"
     ]
    }
   ],
   "source": [
    "#find locality of interventions and \n",
    "er_interventions = set()\n",
    "geo_feature = URIRef('http://dati.isprambiente.it/ontology/core#primaryGeographicalFeature')\n",
    "parent1 = URIRef('http://www.geonames.org/ontology#parentADM1')\n",
    "emro = URIRef('http://dati.isprambiente.it/id/place/emilia-romagna')\n",
    "\n",
    "for interv in interventions:\n",
    "    for s, p, o in result.triples((interv, geo_feature, None)):\n",
    "        for place, p2, o2 in result_places.triples((o, parent1, None)):\n",
    "          if o2 == emro:\n",
    "            er_interventions.add(str(s))\n",
    "\n",
    "print(len(er_interventions))\n",
    "\n"
   ]
  },
  {
   "cell_type": "markdown",
   "metadata": {},
   "source": [
    "Now that we got all 508 interventions happening in Emilia-Romagna, we want to gather theier labels to make it more comprehensive "
   ]
  },
  {
   "cell_type": "code",
   "execution_count": 32,
   "metadata": {},
   "outputs": [
    {
     "name": "stdout",
     "output_type": "stream",
     "text": [
      "508\n",
      "192\n"
     ]
    }
   ],
   "source": [
    "intervention_locations = list()\n",
    "location = URIRef('http://dati.isprambiente.it/ontology/core#primaryGeographicalFeature')\n",
    "for inter in er_interventions:\n",
    "    inter = URIRef(inter)\n",
    "    for s, p, o in result.triples((inter, location, None)):\n",
    "        this_label = str(o)\n",
    "\n",
    "        intervention_locations.append(this_label)\n",
    "\n",
    "print(len('tot interventions in Emilia_Romagna',intervention_locations))\n",
    "intervention_locations = set(intervention_locations)\n",
    "print(len('tot places in which interventions happen', intervention_locations))"
   ]
  },
  {
   "cell_type": "code",
   "execution_count": 40,
   "metadata": {},
   "outputs": [
    {
     "name": "stdout",
     "output_type": "stream",
     "text": [
      "{rdflib.term.URIRef('http://www.geonames.org/ontology#parentADM1'), rdflib.term.URIRef('http://www.w3.org/2002/07/owl#sameAs'), rdflib.term.URIRef('http://www.w3.org/2003/01/geo/wgs84_pos#long'), rdflib.term.URIRef('http://www.w3.org/1999/02/22-rdf-syntax-ns#type'), rdflib.term.URIRef('http://www.w3.org/2003/01/geo/wgs84_pos#lat'), rdflib.term.URIRef('http://www.geonames.org/ontology#featureCode'), rdflib.term.URIRef('http://datiopen.istat.it/odi/ontologia/territorio/haCodIstat'), rdflib.term.URIRef('http://www.w3.org/2000/01/rdf-schema#label'), rdflib.term.URIRef('http://www.geonames.org/ontology#featureClass'), rdflib.term.URIRef('http://www.geonames.org/ontology#name'), rdflib.term.URIRef('http://www.geonames.org/ontology#parentADM2'), rdflib.term.URIRef('http://www.opengis.net/ont/gml#polygon')}\n"
     ]
    }
   ],
   "source": [
    "luoghi_preds = set()\n",
    "\n",
    "\n",
    "for s, p, o in result_places.triples((None, None, None)):\n",
    "    luoghi_preds.add(p)\n",
    "\n",
    "print(luoghi_preds)"
   ]
  },
  {
   "cell_type": "code",
   "execution_count": 41,
   "metadata": {},
   "outputs": [
    {
     "name": "stdout",
     "output_type": "stream",
     "text": [
      "{'http://dati.isprambiente.it/id/place/40032': 'Predappio', 'http://dati.isprambiente.it/id/place/37040': 'Monghidoro', 'http://dati.isprambiente.it/id/place/37037': 'Medicina', 'http://dati.isprambiente.it/id/place/35044': 'Viano', 'http://dati.isprambiente.it/id/place/33042': 'Sarmato', 'http://dati.isprambiente.it/id/place/37013': \"Castel d'Aiano\", 'http://dati.isprambiente.it/id/place/34034': 'Sissa', 'http://dati.isprambiente.it/id/place/36029': 'Palagano', 'http://dati.isprambiente.it/id/place/37047': 'Pianoro', 'http://dati.isprambiente.it/id/place/40012': 'Forlì', 'http://dati.isprambiente.it/id/place/99013': 'Riccione', 'http://dati.isprambiente.it/id/place/34046': 'Varsi', 'http://dati.isprambiente.it/id/place/40005': 'Castrocaro Terme e Terra del Sole', 'http://dati.isprambiente.it/id/place/99017': 'San Giovanni in Marignano', 'http://dati.isprambiente.it/id/place/37048': 'Pieve di Cento', 'http://dati.isprambiente.it/id/place/33005': 'Bobbio', 'http://dati.isprambiente.it/id/place/37026': 'Fontanelice', 'http://dati.isprambiente.it/id/place/37017': \"Castello d'Argile\", 'http://dati.isprambiente.it/id/place/99016': 'San Clemente', 'http://dati.isprambiente.it/id/place/36037': 'San Felice sul Panaro', 'http://dati.isprambiente.it/id/place/39012': 'Lugo', 'http://dati.isprambiente.it/id/place/37041': 'Monterenzio', 'http://dati.isprambiente.it/id/place/33045': 'Vigolzone', 'http://dati.isprambiente.it/id/place/37008': 'Budrio', 'http://dati.isprambiente.it/id/place/36046': 'Vignola', 'http://dati.isprambiente.it/id/place/39014': 'Ravenna', 'http://dati.isprambiente.it/id/place/36032': 'Polinago', 'http://dati.isprambiente.it/id/place/33002': 'Alseno', 'http://dati.isprambiente.it/id/place/37057': 'Sasso Marconi', 'http://dati.isprambiente.it/id/place/36026': 'Montese', 'http://dati.isprambiente.it/id/place/36019': 'Maranello', 'http://dati.isprambiente.it/id/place/38003': 'Bondeno', 'http://dati.isprambiente.it/id/place/40050': 'Verghereto', 'http://dati.isprambiente.it/id/place/39005': 'Casola Valsenio', 'http://dati.isprambiente.it/id/place/37022': 'Castiglione dei Pepoli', 'http://dati.isprambiente.it/id/place/33018': 'Cortemaggiore', 'http://dati.isprambiente.it/id/place/33008': 'Calendasco', 'http://dati.isprambiente.it/id/place/34020': 'Medesano', 'http://dati.isprambiente.it/id/place/37005': 'Bentivoglio', 'http://dati.isprambiente.it/id/place/38015': 'Migliarino', 'http://dati.isprambiente.it/id/place/35042': 'Vetto', 'http://dati.isprambiente.it/id/place/37059': 'Vergato', 'http://dati.isprambiente.it/id/place/99024': 'Pennabilli', 'http://dati.isprambiente.it/id/place/33013': 'Castel San Giovanni', 'http://dati.isprambiente.it/id/place/39010': 'Faenza', 'http://dati.isprambiente.it/id/place/33043': 'Travo', 'http://dati.isprambiente.it/id/place/99019': 'Torriana', 'http://dati.isprambiente.it/id/place/34018': 'Langhirano', 'http://dati.isprambiente.it/id/place/33025': 'Gropparello', 'http://dati.isprambiente.it/id/place/36002': 'Bomporto', 'http://dati.isprambiente.it/id/place/37031': 'Grizzana Morandi', 'http://dati.isprambiente.it/id/place/38014': 'Mesola', 'http://dati.isprambiente.it/id/place/37027': 'Gaggio Montano', 'http://dati.isprambiente.it/id/place/33030': 'Ottone', 'http://dati.isprambiente.it/id/place/35033': \"Reggio nell'Emilia\", 'http://dati.isprambiente.it/id/place/35040': 'Scandiano', 'http://dati.isprambiente.it/id/place/99003': 'Coriano', 'http://dati.isprambiente.it/id/place/34009': 'Collecchio', 'http://dati.isprambiente.it/id/place/35041': 'Toano', 'http://dati.isprambiente.it/id/place/33026': \"Lugagnano Val d'Arda\", 'http://dati.isprambiente.it/id/place/39006': 'Castel Bolognese', 'http://dati.isprambiente.it/id/place/34014': 'Fidenza', 'http://dati.isprambiente.it/id/place/40004': 'Borghi', 'http://dati.isprambiente.it/id/place/39004': 'Brisighella', 'http://dati.isprambiente.it/id/place/99020': 'Verucchio', 'http://dati.isprambiente.it/id/place/34040': 'Tornolo', 'http://dati.isprambiente.it/id/place/34019': \"Lesignano de' Bagni\", 'http://dati.isprambiente.it/id/place/38017': 'Ostellato', 'http://dati.isprambiente.it/id/place/34038': 'Terenzo', 'http://dati.isprambiente.it/id/place/36023': 'Modena', 'http://dati.isprambiente.it/id/place/40044': 'Sarsina', 'http://dati.isprambiente.it/id/place/37001': \"Anzola dell'Emilia\", 'http://dati.isprambiente.it/id/place/34025': 'Noceto', 'http://dati.isprambiente.it/id/place/99021': 'Casteldelci', 'http://dati.isprambiente.it/id/place/39002': 'Bagnacavallo', 'http://dati.isprambiente.it/id/place/38006': 'Comacchio', 'http://dati.isprambiente.it/id/place/35043': 'Vezzano sul Crostolo', 'http://dati.isprambiente.it/id/place/40043': 'Santa Sofia', 'http://dati.isprambiente.it/id/place/36047': 'Zocca', 'http://dati.isprambiente.it/id/place/37011': 'Casalecchio di Reno', 'http://dati.isprambiente.it/id/place/99018': 'Santarcangelo di Romagna', 'http://dati.isprambiente.it/id/place/33019': 'Farini', 'http://dati.isprambiente.it/id/place/34022': 'Monchio delle Corti', 'http://dati.isprambiente.it/id/place/36011': 'Fanano', 'http://dati.isprambiente.it/id/place/37028': 'Galliera', 'http://dati.isprambiente.it/id/place/36016': 'Frassinoro', 'http://dati.isprambiente.it/id/place/40003': 'Bertinoro', 'http://dati.isprambiente.it/id/place/40022': 'Modigliana', 'http://dati.isprambiente.it/id/place/37033': 'Lizzano in Belvedere', 'http://dati.isprambiente.it/id/place/38004': 'Cento', 'http://dati.isprambiente.it/id/place/33029': 'Nibbiano', 'http://dati.isprambiente.it/id/place/34037': 'Sorbolo', 'http://dati.isprambiente.it/id/place/37053': 'San Giovanni in Persiceto', 'http://dati.isprambiente.it/id/place/37034': 'Loiano', 'http://dati.isprambiente.it/id/place/37019': 'Castel Maggiore', 'http://dati.isprambiente.it/id/place/35031': 'Ramiseto', 'http://dati.isprambiente.it/id/place/35019': 'Collagna', 'http://dati.isprambiente.it/id/place/34027': 'Parma', 'http://dati.isprambiente.it/id/place/36031': 'Pievepelago', 'http://dati.isprambiente.it/id/place/33048': 'Ziano Piacentino', 'http://dati.isprambiente.it/id/place/35018': 'Canossa', 'http://dati.isprambiente.it/id/place/35006': 'Brescello', 'http://dati.isprambiente.it/id/place/33046': \"Villanova sull'Arda\", 'http://dati.isprambiente.it/id/place/34004': 'Berceto', 'http://dati.isprambiente.it/id/place/99025': 'San Leo', 'http://dati.isprambiente.it/id/place/33044': 'Vernasca', 'http://dati.isprambiente.it/id/place/36035': 'Riolunato', 'http://dati.isprambiente.it/id/place/34013': 'Felino', 'http://dati.isprambiente.it/id/place/36025': 'Montefiorino', 'http://dati.isprambiente.it/id/place/34003': 'Bedonia', 'http://dati.isprambiente.it/id/place/37010': 'Camugnano', 'http://dati.isprambiente.it/id/place/36033': 'Prignano sulla Secchia', 'http://dati.isprambiente.it/id/place/33028': 'Morfasso', 'http://dati.isprambiente.it/id/place/34039': 'Tizzano Val Parma', 'http://dati.isprambiente.it/id/place/37042': 'Monte San Pietro', 'http://dati.isprambiente.it/id/place/34032': 'Salsomaggiore Terme', 'http://dati.isprambiente.it/id/place/34035': 'Solignano', 'http://dati.isprambiente.it/id/place/39011': 'Fusignano', 'http://dati.isprambiente.it/id/place/39015': 'Riolo Terme', 'http://dati.isprambiente.it/id/place/37020': 'Castel San Pietro Terme', 'http://dati.isprambiente.it/id/place/37032': 'Imola', 'http://dati.isprambiente.it/id/place/37007': 'Borgo Tossignano', 'http://dati.isprambiente.it/id/place/36045': 'Spilamberto', 'http://dati.isprambiente.it/id/place/40009': 'Civitella di Romagna', 'http://dati.isprambiente.it/id/place/36018': 'Lama Mocogno', 'http://dati.isprambiente.it/id/place/99008': 'Montefiore Conca', 'http://dati.isprambiente.it/id/place/34002': 'Bardi', 'http://dati.isprambiente.it/id/place/33033': 'Pianello Val Tidone', 'http://dati.isprambiente.it/id/place/33004': 'Bettola', 'http://dati.isprambiente.it/id/place/36043': 'Sestola', 'http://dati.isprambiente.it/id/place/40018': 'Longiano', 'http://dati.isprambiente.it/id/place/99014': 'Rimini', 'http://dati.isprambiente.it/id/place/33017': 'Corte Brugnatella', 'http://dati.isprambiente.it/id/place/40007': 'Cesena', 'http://dati.isprambiente.it/id/place/35036': 'Rubiera', 'http://dati.isprambiente.it/id/place/34006': 'Borgo Val di Taro', 'http://dati.isprambiente.it/id/place/36007': 'Castelnuovo Rangone', 'http://dati.isprambiente.it/id/place/37015': 'Castel di Casio', 'http://dati.isprambiente.it/id/place/34017': 'Fornovo di Taro', 'http://dati.isprambiente.it/id/place/36013': 'Fiorano Modenese', 'http://dati.isprambiente.it/id/place/35005': 'Boretto', 'http://dati.isprambiente.it/id/place/34011': 'Compiano', 'http://dati.isprambiente.it/id/place/39007': 'Cervia', 'http://dati.isprambiente.it/id/place/33021': \"Fiorenzuola d'Arda\", 'http://dati.isprambiente.it/id/place/40008': 'Cesenatico', 'http://dati.isprambiente.it/id/place/34023': 'Montechiarugolo', 'http://dati.isprambiente.it/id/place/99010': 'Montescudo', 'http://dati.isprambiente.it/id/place/33032': 'Piacenza', 'http://dati.isprambiente.it/id/place/37006': 'Bologna', 'http://dati.isprambiente.it/id/place/99001': 'Bellaria-Igea Marina', 'http://dati.isprambiente.it/id/place/33031': 'Pecorara', 'http://dati.isprambiente.it/id/place/35001': 'Albinea', 'http://dati.isprambiente.it/id/place/37029': 'Granaglione', 'http://dati.isprambiente.it/id/place/39017': \"Sant'Agata sul Santerno\", 'http://dati.isprambiente.it/id/place/99026': \"Sant'Agata Feltria\", 'http://dati.isprambiente.it/id/place/33010': 'Caorso', 'http://dati.isprambiente.it/id/place/35007': 'Busana', 'http://dati.isprambiente.it/id/place/35025': 'Ligonchio', 'http://dati.isprambiente.it/id/place/37036': 'Marzabotto', 'http://dati.isprambiente.it/id/place/35012': 'Casalgrande', 'http://dati.isprambiente.it/id/place/34007': 'Busseto', 'http://dati.isprambiente.it/id/place/38008': 'Ferrara', 'http://dati.isprambiente.it/id/place/33020': 'Ferriere', 'http://dati.isprambiente.it/id/place/34010': 'Colorno', 'http://dati.isprambiente.it/id/place/38025': 'Goro', 'http://dati.isprambiente.it/id/place/37050': 'Sala Bolognese', 'http://dati.isprambiente.it/id/place/40001': 'Bagno di Romagna', 'http://dati.isprambiente.it/id/place/40037': 'Roncofreddo', 'http://dati.isprambiente.it/id/place/99023': 'Novafeltria', 'http://dati.isprambiente.it/id/place/36014': 'Fiumalbo', 'http://dati.isprambiente.it/id/place/33016': 'Coli', 'http://dati.isprambiente.it/id/place/40016': 'Gatteo', 'http://dati.isprambiente.it/id/place/33012': \"Castell'Arquato\", 'http://dati.isprambiente.it/id/place/34021': 'Mezzani', 'http://dati.isprambiente.it/id/place/37051': 'San Benedetto Val di Sambro', 'http://dati.isprambiente.it/id/place/34031': 'Sala Baganza', 'http://dati.isprambiente.it/id/place/37039': 'Molinella', 'http://dati.isprambiente.it/id/place/35003': 'Baiso', 'http://dati.isprambiente.it/id/place/34005': 'Bore', 'http://dati.isprambiente.it/id/place/37060': 'Zola Predosa', 'http://dati.isprambiente.it/id/place/33015': 'Cerignale', 'http://dati.isprambiente.it/id/place/35014': 'Castellarano', 'http://dati.isprambiente.it/id/place/99011': 'Morciano di Romagna', 'http://dati.isprambiente.it/id/place/35045': 'Villa Minozzo', 'http://dati.isprambiente.it/id/place/37054': 'San Lazzaro di Savena', 'http://dati.isprambiente.it/id/place/37035': 'Malalbergo', 'http://dati.isprambiente.it/id/place/99022': 'Maiolo', 'http://dati.isprambiente.it/id/place/33034': 'Piozzano', 'http://dati.isprambiente.it/id/place/38021': \"Sant'Agostino\", 'http://dati.isprambiente.it/id/place/34012': 'Corniglio', 'http://dati.isprambiente.it/id/place/37012': 'Casalfiumanese', 'http://dati.isprambiente.it/id/place/99027': 'Talamello'}\n"
     ]
    }
   ],
   "source": [
    "names_places = dict()\n",
    "label = URIRef('http://www.w3.org/2000/01/rdf-schema#label')\n",
    "for urls in intervention_locations:\n",
    "    place = URIRef(urls)\n",
    "    for s, p, o in result_places.triples((place, label, None)):\n",
    "        this_label = str(o)\n",
    "\n",
    "        names_places[urls]=this_label\n",
    "\n",
    "print(names_places)"
   ]
  },
  {
   "cell_type": "markdown",
   "metadata": {},
   "source": [
    "Right now we have the dictionary name_places containing key(place uri):value(rdfs label), we also decided to add latitude and longitude as we will need them fo maps visualizations and province code"
   ]
  },
  {
   "cell_type": "code",
   "execution_count": 97,
   "metadata": {},
   "outputs": [],
   "source": [
    "cod_prov = {'Piacenza':'PC', 'Ferrara':'FE', 'Ravenna':'RA', 'Parma':'PR', 'Bologna':'BO', 'Rimini':'RN', \"Forli'-Cesena\":'FC', \"Reggio nell'Emilia\":'RE', 'Modena':'MO'}"
   ]
  },
  {
   "cell_type": "code",
   "execution_count": 101,
   "metadata": {},
   "outputs": [
    {
     "name": "stdout",
     "output_type": "stream",
     "text": [
      "Predappio FC\n",
      "Monghidoro BO\n",
      "Medicina BO\n",
      "Viano RE\n",
      "Sarmato PC\n",
      "Castel d'Aiano BO\n",
      "Sissa PR\n",
      "Palagano MO\n",
      "Pianoro BO\n",
      "Forlì FC\n",
      "Riccione RN\n",
      "Varsi PR\n",
      "Castrocaro Terme e Terra del Sole FC\n",
      "San Giovanni in Marignano RN\n",
      "Pieve di Cento BO\n",
      "Bobbio PC\n",
      "Fontanelice BO\n",
      "Castello d'Argile BO\n",
      "San Clemente RN\n",
      "San Felice sul Panaro MO\n",
      "Lugo RA\n",
      "Monterenzio BO\n",
      "Vigolzone PC\n",
      "Budrio BO\n",
      "Vignola MO\n",
      "Ravenna RA\n",
      "Polinago MO\n",
      "Alseno PC\n",
      "Sasso Marconi BO\n",
      "Montese MO\n",
      "Maranello MO\n",
      "Bondeno FE\n",
      "Verghereto FC\n",
      "Casola Valsenio RA\n",
      "Castiglione dei Pepoli BO\n",
      "Cortemaggiore PC\n",
      "Calendasco PC\n",
      "Medesano PR\n",
      "Bentivoglio BO\n",
      "Migliarino FE\n",
      "Vetto RE\n",
      "Vergato BO\n",
      "Pennabilli RN\n",
      "Castel San Giovanni PC\n",
      "Faenza RA\n",
      "Travo PC\n",
      "Torriana RN\n",
      "Langhirano PR\n",
      "Gropparello PC\n",
      "Bomporto MO\n",
      "Grizzana Morandi BO\n",
      "Mesola FE\n",
      "Gaggio Montano BO\n",
      "Ottone PC\n",
      "Reggio nell'Emilia RE\n",
      "Scandiano RE\n",
      "Coriano RN\n",
      "Collecchio PR\n",
      "Toano RE\n",
      "Lugagnano Val d'Arda PC\n",
      "Castel Bolognese RA\n",
      "Fidenza PR\n",
      "Borghi FC\n",
      "Brisighella RA\n",
      "Verucchio RN\n",
      "Tornolo PR\n",
      "Lesignano de' Bagni PR\n",
      "Ostellato FE\n",
      "Terenzo PR\n",
      "Modena MO\n",
      "Sarsina FC\n",
      "Anzola dell'Emilia BO\n",
      "Noceto PR\n",
      "Casteldelci RN\n",
      "Bagnacavallo RA\n",
      "Comacchio FE\n",
      "Vezzano sul Crostolo RE\n",
      "Santa Sofia FC\n",
      "Zocca MO\n",
      "Casalecchio di Reno BO\n",
      "Santarcangelo di Romagna RN\n",
      "Farini PC\n",
      "Monchio delle Corti PR\n",
      "Fanano MO\n",
      "Galliera BO\n",
      "Frassinoro MO\n",
      "Bertinoro FC\n",
      "Modigliana FC\n",
      "Lizzano in Belvedere BO\n",
      "Cento FE\n",
      "Nibbiano PC\n",
      "Sorbolo PR\n",
      "San Giovanni in Persiceto BO\n",
      "Loiano BO\n",
      "Castel Maggiore BO\n",
      "Ramiseto RE\n",
      "Collagna RE\n",
      "Parma PR\n",
      "Pievepelago MO\n",
      "Ziano Piacentino PC\n",
      "Canossa RE\n",
      "Brescello RE\n",
      "Villanova sull'Arda PC\n",
      "Berceto PR\n",
      "San Leo RN\n",
      "Vernasca PC\n",
      "Riolunato MO\n",
      "Felino PR\n",
      "Montefiorino MO\n",
      "Bedonia PR\n",
      "Camugnano BO\n",
      "Prignano sulla Secchia MO\n",
      "Morfasso PC\n",
      "Tizzano Val Parma PR\n",
      "Monte San Pietro BO\n",
      "Salsomaggiore Terme PR\n",
      "Solignano PR\n",
      "Fusignano RA\n",
      "Riolo Terme RA\n",
      "Castel San Pietro Terme BO\n",
      "Imola BO\n",
      "Borgo Tossignano BO\n",
      "Spilamberto MO\n",
      "Civitella di Romagna FC\n",
      "Lama Mocogno MO\n",
      "Montefiore Conca RN\n",
      "Bardi PR\n",
      "Pianello Val Tidone PC\n",
      "Bettola PC\n",
      "Sestola MO\n",
      "Longiano FC\n",
      "Rimini RN\n",
      "Corte Brugnatella PC\n",
      "Cesena FC\n",
      "Rubiera RE\n",
      "Borgo Val di Taro PR\n",
      "Castelnuovo Rangone MO\n",
      "Castel di Casio BO\n",
      "Fornovo di Taro PR\n",
      "Fiorano Modenese MO\n",
      "Boretto RE\n",
      "Compiano PR\n",
      "Cervia RA\n",
      "Fiorenzuola d'Arda PC\n",
      "Cesenatico FC\n",
      "Montechiarugolo PR\n",
      "Montescudo RN\n",
      "Piacenza PC\n",
      "Bologna BO\n",
      "Bellaria-Igea Marina RN\n",
      "Pecorara PC\n",
      "Albinea RE\n",
      "Granaglione BO\n",
      "Sant'Agata sul Santerno RA\n",
      "Sant'Agata Feltria RN\n",
      "Caorso PC\n",
      "Busana RE\n",
      "Ligonchio RE\n",
      "Marzabotto BO\n",
      "Casalgrande RE\n",
      "Busseto PR\n",
      "Ferrara FE\n",
      "Ferriere PC\n",
      "Colorno PR\n",
      "Goro FE\n",
      "Sala Bolognese BO\n",
      "Bagno di Romagna FC\n",
      "Roncofreddo FC\n",
      "Novafeltria RN\n",
      "Fiumalbo MO\n",
      "Coli PC\n",
      "Gatteo FC\n",
      "Castell'Arquato PC\n",
      "Mezzani PR\n",
      "San Benedetto Val di Sambro BO\n",
      "Sala Baganza PR\n",
      "Molinella BO\n",
      "Baiso RE\n",
      "Bore PR\n",
      "Zola Predosa BO\n",
      "Cerignale PC\n",
      "Castellarano RE\n",
      "Morciano di Romagna RN\n",
      "Villa Minozzo RE\n",
      "San Lazzaro di Savena BO\n",
      "Malalbergo BO\n",
      "Maiolo RN\n",
      "Piozzano PC\n",
      "Sant'Agostino FE\n",
      "Corniglio PR\n",
      "Casalfiumanese BO\n",
      "Talamello RN\n",
      "{'http://dati.isprambiente.it/id/place/40032': ['Predappio', 'FC'], 'http://dati.isprambiente.it/id/place/37040': ['Monghidoro', 'BO'], 'http://dati.isprambiente.it/id/place/37037': ['Medicina', 'BO'], 'http://dati.isprambiente.it/id/place/35044': ['Viano', 'RE'], 'http://dati.isprambiente.it/id/place/33042': ['Sarmato', 'PC'], 'http://dati.isprambiente.it/id/place/37013': [\"Castel d'Aiano\", 'BO'], 'http://dati.isprambiente.it/id/place/34034': ['Sissa', 'PR'], 'http://dati.isprambiente.it/id/place/36029': ['Palagano', 'MO'], 'http://dati.isprambiente.it/id/place/37047': ['Pianoro', 'BO'], 'http://dati.isprambiente.it/id/place/40012': ['Forlì', 'FC'], 'http://dati.isprambiente.it/id/place/99013': ['Riccione', 'RN'], 'http://dati.isprambiente.it/id/place/34046': ['Varsi', 'PR'], 'http://dati.isprambiente.it/id/place/40005': ['Castrocaro Terme e Terra del Sole', 'FC'], 'http://dati.isprambiente.it/id/place/99017': ['San Giovanni in Marignano', 'RN'], 'http://dati.isprambiente.it/id/place/37048': ['Pieve di Cento', 'BO'], 'http://dati.isprambiente.it/id/place/33005': ['Bobbio', 'PC'], 'http://dati.isprambiente.it/id/place/37026': ['Fontanelice', 'BO'], 'http://dati.isprambiente.it/id/place/37017': [\"Castello d'Argile\", 'BO'], 'http://dati.isprambiente.it/id/place/99016': ['San Clemente', 'RN'], 'http://dati.isprambiente.it/id/place/36037': ['San Felice sul Panaro', 'MO'], 'http://dati.isprambiente.it/id/place/39012': ['Lugo', 'RA'], 'http://dati.isprambiente.it/id/place/37041': ['Monterenzio', 'BO'], 'http://dati.isprambiente.it/id/place/33045': ['Vigolzone', 'PC'], 'http://dati.isprambiente.it/id/place/37008': ['Budrio', 'BO'], 'http://dati.isprambiente.it/id/place/36046': ['Vignola', 'MO'], 'http://dati.isprambiente.it/id/place/39014': ['Ravenna', 'RA'], 'http://dati.isprambiente.it/id/place/36032': ['Polinago', 'MO'], 'http://dati.isprambiente.it/id/place/33002': ['Alseno', 'PC'], 'http://dati.isprambiente.it/id/place/37057': ['Sasso Marconi', 'BO'], 'http://dati.isprambiente.it/id/place/36026': ['Montese', 'MO'], 'http://dati.isprambiente.it/id/place/36019': ['Maranello', 'MO'], 'http://dati.isprambiente.it/id/place/38003': ['Bondeno', 'FE'], 'http://dati.isprambiente.it/id/place/40050': ['Verghereto', 'FC'], 'http://dati.isprambiente.it/id/place/39005': ['Casola Valsenio', 'RA'], 'http://dati.isprambiente.it/id/place/37022': ['Castiglione dei Pepoli', 'BO'], 'http://dati.isprambiente.it/id/place/33018': ['Cortemaggiore', 'PC'], 'http://dati.isprambiente.it/id/place/33008': ['Calendasco', 'PC'], 'http://dati.isprambiente.it/id/place/34020': ['Medesano', 'PR'], 'http://dati.isprambiente.it/id/place/37005': ['Bentivoglio', 'BO'], 'http://dati.isprambiente.it/id/place/38015': ['Migliarino', 'FE'], 'http://dati.isprambiente.it/id/place/35042': ['Vetto', 'RE'], 'http://dati.isprambiente.it/id/place/37059': ['Vergato', 'BO'], 'http://dati.isprambiente.it/id/place/99024': ['Pennabilli', 'RN'], 'http://dati.isprambiente.it/id/place/33013': ['Castel San Giovanni', 'PC'], 'http://dati.isprambiente.it/id/place/39010': ['Faenza', 'RA'], 'http://dati.isprambiente.it/id/place/33043': ['Travo', 'PC'], 'http://dati.isprambiente.it/id/place/99019': ['Torriana', 'RN'], 'http://dati.isprambiente.it/id/place/34018': ['Langhirano', 'PR'], 'http://dati.isprambiente.it/id/place/33025': ['Gropparello', 'PC'], 'http://dati.isprambiente.it/id/place/36002': ['Bomporto', 'MO'], 'http://dati.isprambiente.it/id/place/37031': ['Grizzana Morandi', 'BO'], 'http://dati.isprambiente.it/id/place/38014': ['Mesola', 'FE'], 'http://dati.isprambiente.it/id/place/37027': ['Gaggio Montano', 'BO'], 'http://dati.isprambiente.it/id/place/33030': ['Ottone', 'PC'], 'http://dati.isprambiente.it/id/place/35033': [\"Reggio nell'Emilia\", 'RE'], 'http://dati.isprambiente.it/id/place/35040': ['Scandiano', 'RE'], 'http://dati.isprambiente.it/id/place/99003': ['Coriano', 'RN'], 'http://dati.isprambiente.it/id/place/34009': ['Collecchio', 'PR'], 'http://dati.isprambiente.it/id/place/35041': ['Toano', 'RE'], 'http://dati.isprambiente.it/id/place/33026': [\"Lugagnano Val d'Arda\", 'PC'], 'http://dati.isprambiente.it/id/place/39006': ['Castel Bolognese', 'RA'], 'http://dati.isprambiente.it/id/place/34014': ['Fidenza', 'PR'], 'http://dati.isprambiente.it/id/place/40004': ['Borghi', 'FC'], 'http://dati.isprambiente.it/id/place/39004': ['Brisighella', 'RA'], 'http://dati.isprambiente.it/id/place/99020': ['Verucchio', 'RN'], 'http://dati.isprambiente.it/id/place/34040': ['Tornolo', 'PR'], 'http://dati.isprambiente.it/id/place/34019': [\"Lesignano de' Bagni\", 'PR'], 'http://dati.isprambiente.it/id/place/38017': ['Ostellato', 'FE'], 'http://dati.isprambiente.it/id/place/34038': ['Terenzo', 'PR'], 'http://dati.isprambiente.it/id/place/36023': ['Modena', 'MO'], 'http://dati.isprambiente.it/id/place/40044': ['Sarsina', 'FC'], 'http://dati.isprambiente.it/id/place/37001': [\"Anzola dell'Emilia\", 'BO'], 'http://dati.isprambiente.it/id/place/34025': ['Noceto', 'PR'], 'http://dati.isprambiente.it/id/place/99021': ['Casteldelci', 'RN'], 'http://dati.isprambiente.it/id/place/39002': ['Bagnacavallo', 'RA'], 'http://dati.isprambiente.it/id/place/38006': ['Comacchio', 'FE'], 'http://dati.isprambiente.it/id/place/35043': ['Vezzano sul Crostolo', 'RE'], 'http://dati.isprambiente.it/id/place/40043': ['Santa Sofia', 'FC'], 'http://dati.isprambiente.it/id/place/36047': ['Zocca', 'MO'], 'http://dati.isprambiente.it/id/place/37011': ['Casalecchio di Reno', 'BO'], 'http://dati.isprambiente.it/id/place/99018': ['Santarcangelo di Romagna', 'RN'], 'http://dati.isprambiente.it/id/place/33019': ['Farini', 'PC'], 'http://dati.isprambiente.it/id/place/34022': ['Monchio delle Corti', 'PR'], 'http://dati.isprambiente.it/id/place/36011': ['Fanano', 'MO'], 'http://dati.isprambiente.it/id/place/37028': ['Galliera', 'BO'], 'http://dati.isprambiente.it/id/place/36016': ['Frassinoro', 'MO'], 'http://dati.isprambiente.it/id/place/40003': ['Bertinoro', 'FC'], 'http://dati.isprambiente.it/id/place/40022': ['Modigliana', 'FC'], 'http://dati.isprambiente.it/id/place/37033': ['Lizzano in Belvedere', 'BO'], 'http://dati.isprambiente.it/id/place/38004': ['Cento', 'FE'], 'http://dati.isprambiente.it/id/place/33029': ['Nibbiano', 'PC'], 'http://dati.isprambiente.it/id/place/34037': ['Sorbolo', 'PR'], 'http://dati.isprambiente.it/id/place/37053': ['San Giovanni in Persiceto', 'BO'], 'http://dati.isprambiente.it/id/place/37034': ['Loiano', 'BO'], 'http://dati.isprambiente.it/id/place/37019': ['Castel Maggiore', 'BO'], 'http://dati.isprambiente.it/id/place/35031': ['Ramiseto', 'RE'], 'http://dati.isprambiente.it/id/place/35019': ['Collagna', 'RE'], 'http://dati.isprambiente.it/id/place/34027': ['Parma', 'PR'], 'http://dati.isprambiente.it/id/place/36031': ['Pievepelago', 'MO'], 'http://dati.isprambiente.it/id/place/33048': ['Ziano Piacentino', 'PC'], 'http://dati.isprambiente.it/id/place/35018': ['Canossa', 'RE'], 'http://dati.isprambiente.it/id/place/35006': ['Brescello', 'RE'], 'http://dati.isprambiente.it/id/place/33046': [\"Villanova sull'Arda\", 'PC'], 'http://dati.isprambiente.it/id/place/34004': ['Berceto', 'PR'], 'http://dati.isprambiente.it/id/place/99025': ['San Leo', 'RN'], 'http://dati.isprambiente.it/id/place/33044': ['Vernasca', 'PC'], 'http://dati.isprambiente.it/id/place/36035': ['Riolunato', 'MO'], 'http://dati.isprambiente.it/id/place/34013': ['Felino', 'PR'], 'http://dati.isprambiente.it/id/place/36025': ['Montefiorino', 'MO'], 'http://dati.isprambiente.it/id/place/34003': ['Bedonia', 'PR'], 'http://dati.isprambiente.it/id/place/37010': ['Camugnano', 'BO'], 'http://dati.isprambiente.it/id/place/36033': ['Prignano sulla Secchia', 'MO'], 'http://dati.isprambiente.it/id/place/33028': ['Morfasso', 'PC'], 'http://dati.isprambiente.it/id/place/34039': ['Tizzano Val Parma', 'PR'], 'http://dati.isprambiente.it/id/place/37042': ['Monte San Pietro', 'BO'], 'http://dati.isprambiente.it/id/place/34032': ['Salsomaggiore Terme', 'PR'], 'http://dati.isprambiente.it/id/place/34035': ['Solignano', 'PR'], 'http://dati.isprambiente.it/id/place/39011': ['Fusignano', 'RA'], 'http://dati.isprambiente.it/id/place/39015': ['Riolo Terme', 'RA'], 'http://dati.isprambiente.it/id/place/37020': ['Castel San Pietro Terme', 'BO'], 'http://dati.isprambiente.it/id/place/37032': ['Imola', 'BO'], 'http://dati.isprambiente.it/id/place/37007': ['Borgo Tossignano', 'BO'], 'http://dati.isprambiente.it/id/place/36045': ['Spilamberto', 'MO'], 'http://dati.isprambiente.it/id/place/40009': ['Civitella di Romagna', 'FC'], 'http://dati.isprambiente.it/id/place/36018': ['Lama Mocogno', 'MO'], 'http://dati.isprambiente.it/id/place/99008': ['Montefiore Conca', 'RN'], 'http://dati.isprambiente.it/id/place/34002': ['Bardi', 'PR'], 'http://dati.isprambiente.it/id/place/33033': ['Pianello Val Tidone', 'PC'], 'http://dati.isprambiente.it/id/place/33004': ['Bettola', 'PC'], 'http://dati.isprambiente.it/id/place/36043': ['Sestola', 'MO'], 'http://dati.isprambiente.it/id/place/40018': ['Longiano', 'FC'], 'http://dati.isprambiente.it/id/place/99014': ['Rimini', 'RN'], 'http://dati.isprambiente.it/id/place/33017': ['Corte Brugnatella', 'PC'], 'http://dati.isprambiente.it/id/place/40007': ['Cesena', 'FC'], 'http://dati.isprambiente.it/id/place/35036': ['Rubiera', 'RE'], 'http://dati.isprambiente.it/id/place/34006': ['Borgo Val di Taro', 'PR'], 'http://dati.isprambiente.it/id/place/36007': ['Castelnuovo Rangone', 'MO'], 'http://dati.isprambiente.it/id/place/37015': ['Castel di Casio', 'BO'], 'http://dati.isprambiente.it/id/place/34017': ['Fornovo di Taro', 'PR'], 'http://dati.isprambiente.it/id/place/36013': ['Fiorano Modenese', 'MO'], 'http://dati.isprambiente.it/id/place/35005': ['Boretto', 'RE'], 'http://dati.isprambiente.it/id/place/34011': ['Compiano', 'PR'], 'http://dati.isprambiente.it/id/place/39007': ['Cervia', 'RA'], 'http://dati.isprambiente.it/id/place/33021': [\"Fiorenzuola d'Arda\", 'PC'], 'http://dati.isprambiente.it/id/place/40008': ['Cesenatico', 'FC'], 'http://dati.isprambiente.it/id/place/34023': ['Montechiarugolo', 'PR'], 'http://dati.isprambiente.it/id/place/99010': ['Montescudo', 'RN'], 'http://dati.isprambiente.it/id/place/33032': ['Piacenza', 'PC'], 'http://dati.isprambiente.it/id/place/37006': ['Bologna', 'BO'], 'http://dati.isprambiente.it/id/place/99001': ['Bellaria-Igea Marina', 'RN'], 'http://dati.isprambiente.it/id/place/33031': ['Pecorara', 'PC'], 'http://dati.isprambiente.it/id/place/35001': ['Albinea', 'RE'], 'http://dati.isprambiente.it/id/place/37029': ['Granaglione', 'BO'], 'http://dati.isprambiente.it/id/place/39017': [\"Sant'Agata sul Santerno\", 'RA'], 'http://dati.isprambiente.it/id/place/99026': [\"Sant'Agata Feltria\", 'RN'], 'http://dati.isprambiente.it/id/place/33010': ['Caorso', 'PC'], 'http://dati.isprambiente.it/id/place/35007': ['Busana', 'RE'], 'http://dati.isprambiente.it/id/place/35025': ['Ligonchio', 'RE'], 'http://dati.isprambiente.it/id/place/37036': ['Marzabotto', 'BO'], 'http://dati.isprambiente.it/id/place/35012': ['Casalgrande', 'RE'], 'http://dati.isprambiente.it/id/place/34007': ['Busseto', 'PR'], 'http://dati.isprambiente.it/id/place/38008': ['Ferrara', 'FE'], 'http://dati.isprambiente.it/id/place/33020': ['Ferriere', 'PC'], 'http://dati.isprambiente.it/id/place/34010': ['Colorno', 'PR'], 'http://dati.isprambiente.it/id/place/38025': ['Goro', 'FE'], 'http://dati.isprambiente.it/id/place/37050': ['Sala Bolognese', 'BO'], 'http://dati.isprambiente.it/id/place/40001': ['Bagno di Romagna', 'FC'], 'http://dati.isprambiente.it/id/place/40037': ['Roncofreddo', 'FC'], 'http://dati.isprambiente.it/id/place/99023': ['Novafeltria', 'RN'], 'http://dati.isprambiente.it/id/place/36014': ['Fiumalbo', 'MO'], 'http://dati.isprambiente.it/id/place/33016': ['Coli', 'PC'], 'http://dati.isprambiente.it/id/place/40016': ['Gatteo', 'FC'], 'http://dati.isprambiente.it/id/place/33012': [\"Castell'Arquato\", 'PC'], 'http://dati.isprambiente.it/id/place/34021': ['Mezzani', 'PR'], 'http://dati.isprambiente.it/id/place/37051': ['San Benedetto Val di Sambro', 'BO'], 'http://dati.isprambiente.it/id/place/34031': ['Sala Baganza', 'PR'], 'http://dati.isprambiente.it/id/place/37039': ['Molinella', 'BO'], 'http://dati.isprambiente.it/id/place/35003': ['Baiso', 'RE'], 'http://dati.isprambiente.it/id/place/34005': ['Bore', 'PR'], 'http://dati.isprambiente.it/id/place/37060': ['Zola Predosa', 'BO'], 'http://dati.isprambiente.it/id/place/33015': ['Cerignale', 'PC'], 'http://dati.isprambiente.it/id/place/35014': ['Castellarano', 'RE'], 'http://dati.isprambiente.it/id/place/99011': ['Morciano di Romagna', 'RN'], 'http://dati.isprambiente.it/id/place/35045': ['Villa Minozzo', 'RE'], 'http://dati.isprambiente.it/id/place/37054': ['San Lazzaro di Savena', 'BO'], 'http://dati.isprambiente.it/id/place/37035': ['Malalbergo', 'BO'], 'http://dati.isprambiente.it/id/place/99022': ['Maiolo', 'RN'], 'http://dati.isprambiente.it/id/place/33034': ['Piozzano', 'PC'], 'http://dati.isprambiente.it/id/place/38021': [\"Sant'Agostino\", 'FE'], 'http://dati.isprambiente.it/id/place/34012': ['Corniglio', 'PR'], 'http://dati.isprambiente.it/id/place/37012': ['Casalfiumanese', 'BO'], 'http://dati.isprambiente.it/id/place/99027': ['Talamello', 'RN']}\n"
     ]
    }
   ],
   "source": [
    "x = set()\n",
    "y = set()\n",
    "province = URIRef('http://www.geonames.org/ontology#parentADM2')\n",
    "for urls, place in names_places.items():\n",
    "    # print(urls)\n",
    "    url = URIRef(urls)\n",
    "    \n",
    "    for s, p, o in result_places.triples((url, province, None)):\n",
    "        x.add(o)\n",
    "        pred = URIRef('http://www.geonames.org/ontology#name')\n",
    "        for s2, p2, o2 in result_places.triples((o,pred, None)):\n",
    "            code = cod_prov[str(o2)]\n",
    "            print(place, code)\n",
    "            new_value = [place, code]\n",
    "            names_places[urls]=new_value\n",
    "print(names_places)\n",
    "\n",
    "\n",
    "\n"
   ]
  },
  {
   "cell_type": "markdown",
   "metadata": {},
   "source": [
    "\n",
    " rdflib.term.URIRef('http://www.w3.org/2003/01/geo/wgs84_pos#long'), \n",
    " rdflib.term.URIRef('http://www.w3.org/1999/02/22-rdf-syntax-ns#type'),\n",
    "  rdflib.term.URIRef('http://www.w3.org/2003/01/geo/wgs84_pos#lat'), \n",
    "\n",
    "    rdflib.term.URIRef('http://www.geonames.org/ontology#name')"
   ]
  },
  {
   "cell_type": "code",
   "execution_count": null,
   "metadata": {},
   "outputs": [],
   "source": []
  }
 ],
 "metadata": {
  "kernelspec": {
   "display_name": "Python 3.9.4 64-bit",
   "language": "python",
   "name": "python3"
  },
  "language_info": {
   "codemirror_mode": {
    "name": "ipython",
    "version": 3
   },
   "file_extension": ".py",
   "mimetype": "text/x-python",
   "name": "python",
   "nbconvert_exporter": "python",
   "pygments_lexer": "ipython3",
   "version": "3.9.4"
  },
  "orig_nbformat": 4,
  "vscode": {
   "interpreter": {
    "hash": "aee8b7b246df8f9039afb4144a1f6fd8d2ca17a180786b69acc140d282b71a49"
   }
  }
 },
 "nbformat": 4,
 "nbformat_minor": 2
}
