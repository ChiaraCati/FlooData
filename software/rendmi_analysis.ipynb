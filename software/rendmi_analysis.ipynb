{
 "cells": [
  {
   "cell_type": "markdown",
   "metadata": {},
   "source": [
    "# Rendmi\n",
    "\n",
    "Datadump used updated untl 06/07/2022\n",
    "\n",
    "Source: http://dati.isprambiente.it/accesso-ai-dati/download/\n",
    "\n",
    "In order to analyze tyhe dataset, gather all the data needed and turn it into a .json file we will use rdflib to query the graph."
   ]
  },
  {
   "cell_type": "code",
   "execution_count": 3,
   "metadata": {},
   "outputs": [],
   "source": [
    "# all imports\n",
    "import pprint\n",
    "import rdflib\n",
    "from rdflib import URIRef, Literal, Namespace\n",
    "from rdflib.namespace import XSD, RDFS, DCTERMS\n",
    "from rdflib import Literal"
   ]
  },
  {
   "cell_type": "markdown",
   "metadata": {},
   "source": [
    "Data had some errors that needed to be manualy corrected in order to maake the parser work.\n",
    "\n",
    "**Specifically**:\n",
    "\n",
    "Invalid lines sucH as *-schema#label>\"[ sometext ]\".*  were changed into *-schema#label> \"[ sometext ]\".* "
   ]
  },
  {
   "cell_type": "code",
   "execution_count": 4,
   "metadata": {},
   "outputs": [],
   "source": [
    " # create an empty Graph for the rendmi dataset\n",
    "g = rdflib.Graph()\n",
    "\n",
    "# parse a local RDF file by specifying the format into the graph\n",
    "result = g.parse(\"../datasets/originals/dissesto_07_06_2022.nt\", format='nt')"
   ]
  },
  {
   "cell_type": "markdown",
   "metadata": {},
   "source": [
    "WEe also downloaded the locations graph made available by ispra in order to get the region of provenance of each intervention and selecto only those happening in Emilia Romagna."
   ]
  },
  {
   "cell_type": "code",
   "execution_count": 5,
   "metadata": {},
   "outputs": [],
   "source": [
    " # create an empty Graph for places dataset\n",
    "places_data = rdflib.Graph()\n",
    "\n",
    "# parse a local RDF file by specifying the format into the graph\n",
    "result_places = places_data.parse(\"../datasets/originals/luoghi.nt\", format='nt')"
   ]
  },
  {
   "cell_type": "markdown",
   "metadata": {},
   "source": [
    "Looks abit weird as 50 entries are missing w.r.t. the original .nt file"
   ]
  },
  {
   "cell_type": "markdown",
   "metadata": {},
   "source": [
    "## General Analysis\n",
    "\n",
    "The first thing we wanna do is to undersatand the types of entries contained in this dataset.\n",
    "\n",
    "\n",
    "Thus we previously gathered a [list](http://dati.isprambiente.it/sparql?default-graph-uri=&query=select+distinct+%3Fp+%3Fplabel%0D%0Awhere+%7B%0D%0A%3Fs+%3Fp+%3Fo.%0D%0A%3Fp+rdfs%3Alabel+%3Fplabel.%0D%0Afilter%28lang%28%3Fplabel%29+%3D+%27en%27%29%7D%0D%0A&format=text%2Fhtml&timeout=0&debug=on) of all predicates in the dataset and individuated http://www.w3.org/1999/02/22-rdf-syntax-ns#type as a startng point, as it is the predicate referring to the type of an entry"
   ]
  },
  {
   "cell_type": "code",
   "execution_count": 6,
   "metadata": {},
   "outputs": [
    {
     "name": "stdout",
     "output_type": "stream",
     "text": [
      "{rdflib.term.URIRef('http://purl.org/goodrelations/v1#BusinessEntity'), rdflib.term.URIRef('http://dati.isprambiente.it/ontology/core#LotStep'), rdflib.term.URIRef('http://dati.isprambiente.it/ontology/core#EconomicIndicator'), rdflib.term.URIRef('http://dati.isprambiente.it/ontology/core#Repair'), rdflib.term.URIRef('http://purl.org/procurement/public-contracts#FrameworkAgreement'), rdflib.term.URIRef('http://dati.isprambiente.it/ontology/core#Instability'), rdflib.term.URIRef('http://dati.isprambiente.it/ontology/core#AuthorityKind'), rdflib.term.URIRef('http://dati.isprambiente.it/ontology/core#Contract'), rdflib.term.URIRef('http://www.w3.org/2004/02/skos/core#ConceptScheme'), rdflib.term.URIRef('http://dati.isprambiente.it/ontology/core#Lithology'), rdflib.term.URIRef('http://www.w3.org/2004/02/skos/core#Concept'), rdflib.term.URIRef('http://dati.isprambiente.it/ontology/core#Intervention')}\n"
     ]
    }
   ],
   "source": [
    "#look for types\n",
    "\n",
    "types = set()\n",
    "\n",
    "type = URIRef('http://www.w3.org/1999/02/22-rdf-syntax-ns#type') \n",
    "instability = '<http://dati.isprambiente.it/ontology/core#Instability>'\n",
    "\n",
    "for s, p, o in result.triples((None, type, None)):\n",
    "    types.add(o)\n",
    "\n",
    "print(types)"
   ]
  },
  {
   "cell_type": "markdown",
   "metadata": {},
   "source": [
    "The result shows the main types of entities recorded in the graph.\n",
    "At the moment the interesting fieldsfor us are Intervention, Instability and repair  interesting for us here. \n",
    "\n",
    "Lets see which predicateds are used with each one of them, keeping in mind weneed to find their geo loction, entity, etc. "
   ]
  },
  {
   "cell_type": "code",
   "execution_count": 7,
   "metadata": {},
   "outputs": [
    {
     "name": "stdout",
     "output_type": "stream",
     "text": [
      "http://dati.isprambiente.it/id/ihi/intervention/224/09\n"
     ]
    }
   ],
   "source": [
    "#Intervention\n",
    "\n",
    "interventions = set()\n",
    "type = URIRef('http://www.w3.org/1999/02/22-rdf-syntax-ns#type') \n",
    "intervention = URIRef('http://dati.isprambiente.it/ontology/core#Intervention') \n",
    "\n",
    "for s, p, o in result.triples((None, type, intervention)):\n",
    "    interventions.add(s)\n",
    "\n",
    "print(list(interventions)[0])"
   ]
  },
  {
   "cell_type": "code",
   "execution_count": 8,
   "metadata": {},
   "outputs": [
    {
     "name": "stdout",
     "output_type": "stream",
     "text": [
      "{rdflib.term.URIRef('http://purl.org/dc/terms/publisher'), rdflib.term.URIRef('http://purl.org/dc/terms/isPartOf'), rdflib.term.URIRef('http://dati.isprambiente.it/ontology/core#hasAgreement'), rdflib.term.URIRef('http://www.w3.org/1999/02/22-rdf-syntax-ns#type'), rdflib.term.URIRef('http://dati.isprambiente.it/ontology/core#primaryGeographicalFeature'), rdflib.term.URIRef('http://dati.isprambiente.it/ontology/core#officialInstabilityType'), rdflib.term.URIRef('http://purl.org/dc/terms/isReferencedBy'), rdflib.term.URIRef('http://www.w3.org/2000/01/rdf-schema#label'), rdflib.term.URIRef('http://www.w3.org/2003/01/geo/wgs84_pos#location'), rdflib.term.URIRef('http://dati.isprambiente.it/ontology/core#contractingAuthority'), rdflib.term.URIRef('http://dati.isprambiente.it/ontology/core#amountFinanced')}\n"
     ]
    }
   ],
   "source": [
    "#predicates\n",
    "preds_interventions = set()\n",
    "intervention = URIRef('http://dati.isprambiente.it/id/ihi/intervention/232/02') \n",
    "\n",
    "for s, p, o in result.triples((intervention, None, None)):\n",
    "    preds_interventions.add(p)\n",
    "\n",
    "print(preds_interventions)"
   ]
  },
  {
   "cell_type": "code",
   "execution_count": 9,
   "metadata": {},
   "outputs": [],
   "source": [
    "#test\n",
    "\n",
    "for intervention_uri in interventions:\n",
    "    intervention_this = URIRef(intervention_uri) \n",
    "    pred_this = set()\n",
    "\n",
    "    for s, p, o in result.triples((intervention, None, None)):\n",
    "        pred_this.add(p)\n",
    "    \n",
    "    if pred_this != preds_interventions:\n",
    "        print(intervention_this, 'has different predicates')"
   ]
  },
  {
   "cell_type": "code",
   "execution_count": 10,
   "metadata": {},
   "outputs": [
    {
     "name": "stdout",
     "output_type": "stream",
     "text": [
      "http://dati.isprambiente.it/id/ihi/instability/183/0823di-5\n"
     ]
    }
   ],
   "source": [
    "#Instability\n",
    "\n",
    "instabilities = set()\n",
    "type = URIRef('http://www.w3.org/1999/02/22-rdf-syntax-ns#type') \n",
    "instability = URIRef('http://dati.isprambiente.it/ontology/core#Instability') \n",
    "\n",
    "for s, p, o in result.triples((None, type, instability)):\n",
    "    instabilities.add(s)\n",
    "\n",
    "print(list(instabilities)[0])"
   ]
  },
  {
   "cell_type": "code",
   "execution_count": 11,
   "metadata": {},
   "outputs": [
    {
     "name": "stdout",
     "output_type": "stream",
     "text": [
      "{rdflib.term.URIRef('http://dati.isprambiente.it/ontology/core#instabilityRelatedTo'), rdflib.term.URIRef('http://www.w3.org/1999/02/22-rdf-syntax-ns#type'), rdflib.term.URIRef('http://www.w3.org/2000/01/rdf-schema#label'), rdflib.term.URIRef('http://dati.isprambiente.it/ontology/core#instabilityType'), rdflib.term.URIRef('http://dati.isprambiente.it/ontology/core#instabilityGroup')}\n"
     ]
    }
   ],
   "source": [
    "# predicates\n",
    "preds_instability = set()\n",
    "instability = URIRef('http://dati.isprambiente.it/id/ihi/instability/108/082di-6') \n",
    "\n",
    "for s, p, o in result.triples((instability, None, None)):\n",
    "    preds_instability.add(p)\n",
    "\n",
    "print(preds_instability)"
   ]
  },
  {
   "cell_type": "code",
   "execution_count": 12,
   "metadata": {},
   "outputs": [],
   "source": [
    "#test\n",
    "\n",
    "for intervention_uri in instabilities:\n",
    "    instability_this = URIRef(intervention_uri) \n",
    "    preds_this = set()\n",
    "\n",
    "    for s, p, o in result.triples((instability_this, None, None)):\n",
    "        preds_this.add(p)\n",
    "    \n",
    "    if preds_this != preds_instability:\n",
    "        print(instability_this, 'has different predicates')"
   ]
  },
  {
   "cell_type": "code",
   "execution_count": 13,
   "metadata": {},
   "outputs": [
    {
     "name": "stdout",
     "output_type": "stream",
     "text": [
      "http://dati.isprambiente.it/id/ihi/repair/108/082si-33\n"
     ]
    }
   ],
   "source": [
    "#Repair\n",
    "\n",
    "repairs = set()\n",
    "type = URIRef('http://www.w3.org/1999/02/22-rdf-syntax-ns#type') \n",
    "repair = URIRef('http://dati.isprambiente.it/ontology/core#Repair') \n",
    "\n",
    "for s, p, o in result.triples((None, type, repair)):\n",
    "    repairs.add(s)\n",
    "\n",
    "print(list(repairs)[0])"
   ]
  },
  {
   "cell_type": "code",
   "execution_count": 14,
   "metadata": {},
   "outputs": [
    {
     "name": "stdout",
     "output_type": "stream",
     "text": [
      "{rdflib.term.URIRef('http://www.w3.org/1999/02/22-rdf-syntax-ns#type'), rdflib.term.URIRef('http://www.w3.org/2000/01/rdf-schema#label'), rdflib.term.URIRef('http://dati.isprambiente.it/ontology/core#repairType'), rdflib.term.URIRef('http://dati.isprambiente.it/ontology/core#repairRelatedTo')}\n"
     ]
    }
   ],
   "source": [
    " # predicates\n",
    "preds_repairs = set()\n",
    "repair = URIRef('http://dati.isprambiente.it/id/ihi/repair/036/061sf-32') \n",
    "\n",
    "for s, p, o in result.triples((repair, None, None)):\n",
    "    preds_repairs.add(p)\n",
    "\n",
    "print(preds_repairs)"
   ]
  },
  {
   "cell_type": "code",
   "execution_count": 15,
   "metadata": {},
   "outputs": [
    {
     "name": "stdout",
     "output_type": "stream",
     "text": [
      "4447\n",
      "12600\n"
     ]
    }
   ],
   "source": [
    "#test\n",
    "x= 0\n",
    "for repair_uri in repairs:\n",
    "    repair_this = URIRef(repair_uri) \n",
    "    preds_thiss = set()\n",
    "\n",
    "    for s, p, o in result.triples((repair_this, None, None)):\n",
    "        preds_thiss.add(p)\n",
    "    \n",
    "    if preds_thiss != preds_repairs:\n",
    "        x +=1\n",
    "        # print(repair_this, 'has different predicates', preds_thiss)\n",
    "\n",
    "print(x)\n",
    "print(len(repairs))"
   ]
  },
  {
   "cell_type": "markdown",
   "metadata": {},
   "source": [
    "**Test Results:**\n",
    "4447 repair entries out of 12600 have an additional preposition, i.e., rdflib.term.URIRef('http://dati.isprambiente.it/ontology/core#repairCategory')}"
   ]
  },
  {
   "cell_type": "markdown",
   "metadata": {},
   "source": [
    "## Interventions analysis"
   ]
  },
  {
   "cell_type": "code",
   "execution_count": 16,
   "metadata": {},
   "outputs": [
    {
     "data": {
      "text/plain": [
       "{rdflib.term.URIRef('http://dati.isprambiente.it/ontology/core#amountFinanced'),\n",
       " rdflib.term.URIRef('http://dati.isprambiente.it/ontology/core#contractingAuthority'),\n",
       " rdflib.term.URIRef('http://dati.isprambiente.it/ontology/core#hasAgreement'),\n",
       " rdflib.term.URIRef('http://dati.isprambiente.it/ontology/core#officialInstabilityType'),\n",
       " rdflib.term.URIRef('http://dati.isprambiente.it/ontology/core#primaryGeographicalFeature'),\n",
       " rdflib.term.URIRef('http://purl.org/dc/terms/isPartOf'),\n",
       " rdflib.term.URIRef('http://purl.org/dc/terms/isReferencedBy'),\n",
       " rdflib.term.URIRef('http://purl.org/dc/terms/publisher'),\n",
       " rdflib.term.URIRef('http://www.w3.org/1999/02/22-rdf-syntax-ns#type'),\n",
       " rdflib.term.URIRef('http://www.w3.org/2000/01/rdf-schema#label'),\n",
       " rdflib.term.URIRef('http://www.w3.org/2003/01/geo/wgs84_pos#location')}"
      ]
     },
     "execution_count": 16,
     "metadata": {},
     "output_type": "execute_result"
    }
   ],
   "source": [
    "preds_interventions"
   ]
  },
  {
   "cell_type": "code",
   "execution_count": 17,
   "metadata": {},
   "outputs": [
    {
     "name": "stdout",
     "output_type": "stream",
     "text": [
      "508\n"
     ]
    }
   ],
   "source": [
    "#find locality of interventions and \n",
    "er_interventions = set()\n",
    "geo_feature = URIRef('http://dati.isprambiente.it/ontology/core#primaryGeographicalFeature')\n",
    "parent1 = URIRef('http://www.geonames.org/ontology#parentADM1')\n",
    "emro = URIRef('http://dati.isprambiente.it/id/place/emilia-romagna')\n",
    "\n",
    "for interv in interventions:\n",
    "    for s, p, o in result.triples((interv, geo_feature, None)):\n",
    "        for place, p2, o2 in result_places.triples((o, parent1, None)):\n",
    "          if o2 == emro:\n",
    "            er_interventions.add(str(s))\n",
    "\n",
    "print(len(er_interventions))\n",
    "\n"
   ]
  },
  {
   "cell_type": "markdown",
   "metadata": {},
   "source": [
    "Now that we got all 508 interventions happening in Emilia-Romagna, we want to gather theier labels to make it more comprehensive "
   ]
  },
  {
   "cell_type": "code",
   "execution_count": 32,
   "metadata": {},
   "outputs": [
    {
     "name": "stdout",
     "output_type": "stream",
     "text": [
      "508\n",
      "192\n"
     ]
    }
   ],
   "source": [
    "intervention_locations = list()\n",
    "location = URIRef('http://dati.isprambiente.it/ontology/core#primaryGeographicalFeature')\n",
    "for inter in er_interventions:\n",
    "    inter = URIRef(inter)\n",
    "    for s, p, o in result.triples((inter, location, None)):\n",
    "        this_label = str(o)\n",
    "\n",
    "        intervention_locations.append(this_label)\n",
    "\n",
    "print(len('tot interventions in Emilia_Romagna',intervention_locations))\n",
    "intervention_locations = set(intervention_locations)\n",
    "print(len('tot places in which interventions happen', intervention_locations))"
   ]
  },
  {
   "cell_type": "code",
   "execution_count": 132,
   "metadata": {},
   "outputs": [
    {
     "name": "stdout",
     "output_type": "stream",
     "text": [
      "{rdflib.term.URIRef('http://www.geonames.org/ontology#parentADM1'), rdflib.term.URIRef('http://www.w3.org/2002/07/owl#sameAs'), rdflib.term.URIRef('http://www.w3.org/2003/01/geo/wgs84_pos#long'), rdflib.term.URIRef('http://www.w3.org/1999/02/22-rdf-syntax-ns#type'), rdflib.term.URIRef('http://www.w3.org/2003/01/geo/wgs84_pos#lat'), rdflib.term.URIRef('http://www.geonames.org/ontology#featureCode'), rdflib.term.URIRef('http://datiopen.istat.it/odi/ontologia/territorio/haCodIstat'), rdflib.term.URIRef('http://www.w3.org/2000/01/rdf-schema#label'), rdflib.term.URIRef('http://www.geonames.org/ontology#featureClass'), rdflib.term.URIRef('http://www.geonames.org/ontology#name'), rdflib.term.URIRef('http://www.geonames.org/ontology#parentADM2'), rdflib.term.URIRef('http://www.opengis.net/ont/gml#polygon')}\n"
     ]
    }
   ],
   "source": [
    "luoghi_preds = set()\n",
    "\n",
    "\n",
    "for s, p, o in result_places.triples((None, None, None)):\n",
    "    luoghi_preds.add(p)\n",
    "\n",
    "print(luoghi_preds)"
   ]
  },
  {
   "cell_type": "code",
   "execution_count": 133,
   "metadata": {},
   "outputs": [
    {
     "name": "stdout",
     "output_type": "stream",
     "text": [
      "{'http://dati.isprambiente.it/id/place/40032': 'Predappio', 'http://dati.isprambiente.it/id/place/37040': 'Monghidoro', 'http://dati.isprambiente.it/id/place/37037': 'Medicina', 'http://dati.isprambiente.it/id/place/35044': 'Viano', 'http://dati.isprambiente.it/id/place/33042': 'Sarmato', 'http://dati.isprambiente.it/id/place/37013': \"Castel d'Aiano\", 'http://dati.isprambiente.it/id/place/34034': 'Sissa', 'http://dati.isprambiente.it/id/place/36029': 'Palagano', 'http://dati.isprambiente.it/id/place/37047': 'Pianoro', 'http://dati.isprambiente.it/id/place/40012': 'Forlì', 'http://dati.isprambiente.it/id/place/99013': 'Riccione', 'http://dati.isprambiente.it/id/place/34046': 'Varsi', 'http://dati.isprambiente.it/id/place/40005': 'Castrocaro Terme e Terra del Sole', 'http://dati.isprambiente.it/id/place/99017': 'San Giovanni in Marignano', 'http://dati.isprambiente.it/id/place/37048': 'Pieve di Cento', 'http://dati.isprambiente.it/id/place/33005': 'Bobbio', 'http://dati.isprambiente.it/id/place/37026': 'Fontanelice', 'http://dati.isprambiente.it/id/place/37017': \"Castello d'Argile\", 'http://dati.isprambiente.it/id/place/99016': 'San Clemente', 'http://dati.isprambiente.it/id/place/36037': 'San Felice sul Panaro', 'http://dati.isprambiente.it/id/place/39012': 'Lugo', 'http://dati.isprambiente.it/id/place/37041': 'Monterenzio', 'http://dati.isprambiente.it/id/place/33045': 'Vigolzone', 'http://dati.isprambiente.it/id/place/37008': 'Budrio', 'http://dati.isprambiente.it/id/place/36046': 'Vignola', 'http://dati.isprambiente.it/id/place/39014': 'Ravenna', 'http://dati.isprambiente.it/id/place/36032': 'Polinago', 'http://dati.isprambiente.it/id/place/33002': 'Alseno', 'http://dati.isprambiente.it/id/place/37057': 'Sasso Marconi', 'http://dati.isprambiente.it/id/place/36026': 'Montese', 'http://dati.isprambiente.it/id/place/36019': 'Maranello', 'http://dati.isprambiente.it/id/place/38003': 'Bondeno', 'http://dati.isprambiente.it/id/place/40050': 'Verghereto', 'http://dati.isprambiente.it/id/place/39005': 'Casola Valsenio', 'http://dati.isprambiente.it/id/place/37022': 'Castiglione dei Pepoli', 'http://dati.isprambiente.it/id/place/33018': 'Cortemaggiore', 'http://dati.isprambiente.it/id/place/33008': 'Calendasco', 'http://dati.isprambiente.it/id/place/34020': 'Medesano', 'http://dati.isprambiente.it/id/place/37005': 'Bentivoglio', 'http://dati.isprambiente.it/id/place/38015': 'Migliarino', 'http://dati.isprambiente.it/id/place/35042': 'Vetto', 'http://dati.isprambiente.it/id/place/37059': 'Vergato', 'http://dati.isprambiente.it/id/place/99024': 'Pennabilli', 'http://dati.isprambiente.it/id/place/33013': 'Castel San Giovanni', 'http://dati.isprambiente.it/id/place/39010': 'Faenza', 'http://dati.isprambiente.it/id/place/33043': 'Travo', 'http://dati.isprambiente.it/id/place/99019': 'Torriana', 'http://dati.isprambiente.it/id/place/34018': 'Langhirano', 'http://dati.isprambiente.it/id/place/33025': 'Gropparello', 'http://dati.isprambiente.it/id/place/36002': 'Bomporto', 'http://dati.isprambiente.it/id/place/37031': 'Grizzana Morandi', 'http://dati.isprambiente.it/id/place/38014': 'Mesola', 'http://dati.isprambiente.it/id/place/37027': 'Gaggio Montano', 'http://dati.isprambiente.it/id/place/33030': 'Ottone', 'http://dati.isprambiente.it/id/place/35033': \"Reggio nell'Emilia\", 'http://dati.isprambiente.it/id/place/35040': 'Scandiano', 'http://dati.isprambiente.it/id/place/99003': 'Coriano', 'http://dati.isprambiente.it/id/place/34009': 'Collecchio', 'http://dati.isprambiente.it/id/place/35041': 'Toano', 'http://dati.isprambiente.it/id/place/33026': \"Lugagnano Val d'Arda\", 'http://dati.isprambiente.it/id/place/39006': 'Castel Bolognese', 'http://dati.isprambiente.it/id/place/34014': 'Fidenza', 'http://dati.isprambiente.it/id/place/40004': 'Borghi', 'http://dati.isprambiente.it/id/place/39004': 'Brisighella', 'http://dati.isprambiente.it/id/place/99020': 'Verucchio', 'http://dati.isprambiente.it/id/place/34040': 'Tornolo', 'http://dati.isprambiente.it/id/place/34019': \"Lesignano de' Bagni\", 'http://dati.isprambiente.it/id/place/38017': 'Ostellato', 'http://dati.isprambiente.it/id/place/34038': 'Terenzo', 'http://dati.isprambiente.it/id/place/36023': 'Modena', 'http://dati.isprambiente.it/id/place/40044': 'Sarsina', 'http://dati.isprambiente.it/id/place/37001': \"Anzola dell'Emilia\", 'http://dati.isprambiente.it/id/place/34025': 'Noceto', 'http://dati.isprambiente.it/id/place/99021': 'Casteldelci', 'http://dati.isprambiente.it/id/place/39002': 'Bagnacavallo', 'http://dati.isprambiente.it/id/place/38006': 'Comacchio', 'http://dati.isprambiente.it/id/place/35043': 'Vezzano sul Crostolo', 'http://dati.isprambiente.it/id/place/40043': 'Santa Sofia', 'http://dati.isprambiente.it/id/place/36047': 'Zocca', 'http://dati.isprambiente.it/id/place/37011': 'Casalecchio di Reno', 'http://dati.isprambiente.it/id/place/99018': 'Santarcangelo di Romagna', 'http://dati.isprambiente.it/id/place/33019': 'Farini', 'http://dati.isprambiente.it/id/place/34022': 'Monchio delle Corti', 'http://dati.isprambiente.it/id/place/36011': 'Fanano', 'http://dati.isprambiente.it/id/place/37028': 'Galliera', 'http://dati.isprambiente.it/id/place/36016': 'Frassinoro', 'http://dati.isprambiente.it/id/place/40003': 'Bertinoro', 'http://dati.isprambiente.it/id/place/40022': 'Modigliana', 'http://dati.isprambiente.it/id/place/37033': 'Lizzano in Belvedere', 'http://dati.isprambiente.it/id/place/38004': 'Cento', 'http://dati.isprambiente.it/id/place/33029': 'Nibbiano', 'http://dati.isprambiente.it/id/place/34037': 'Sorbolo', 'http://dati.isprambiente.it/id/place/37053': 'San Giovanni in Persiceto', 'http://dati.isprambiente.it/id/place/37034': 'Loiano', 'http://dati.isprambiente.it/id/place/37019': 'Castel Maggiore', 'http://dati.isprambiente.it/id/place/35031': 'Ramiseto', 'http://dati.isprambiente.it/id/place/35019': 'Collagna', 'http://dati.isprambiente.it/id/place/34027': 'Parma', 'http://dati.isprambiente.it/id/place/36031': 'Pievepelago', 'http://dati.isprambiente.it/id/place/33048': 'Ziano Piacentino', 'http://dati.isprambiente.it/id/place/35018': 'Canossa', 'http://dati.isprambiente.it/id/place/35006': 'Brescello', 'http://dati.isprambiente.it/id/place/33046': \"Villanova sull'Arda\", 'http://dati.isprambiente.it/id/place/34004': 'Berceto', 'http://dati.isprambiente.it/id/place/99025': 'San Leo', 'http://dati.isprambiente.it/id/place/33044': 'Vernasca', 'http://dati.isprambiente.it/id/place/36035': 'Riolunato', 'http://dati.isprambiente.it/id/place/34013': 'Felino', 'http://dati.isprambiente.it/id/place/36025': 'Montefiorino', 'http://dati.isprambiente.it/id/place/34003': 'Bedonia', 'http://dati.isprambiente.it/id/place/37010': 'Camugnano', 'http://dati.isprambiente.it/id/place/36033': 'Prignano sulla Secchia', 'http://dati.isprambiente.it/id/place/33028': 'Morfasso', 'http://dati.isprambiente.it/id/place/34039': 'Tizzano Val Parma', 'http://dati.isprambiente.it/id/place/37042': 'Monte San Pietro', 'http://dati.isprambiente.it/id/place/34032': 'Salsomaggiore Terme', 'http://dati.isprambiente.it/id/place/34035': 'Solignano', 'http://dati.isprambiente.it/id/place/39011': 'Fusignano', 'http://dati.isprambiente.it/id/place/39015': 'Riolo Terme', 'http://dati.isprambiente.it/id/place/37020': 'Castel San Pietro Terme', 'http://dati.isprambiente.it/id/place/37032': 'Imola', 'http://dati.isprambiente.it/id/place/37007': 'Borgo Tossignano', 'http://dati.isprambiente.it/id/place/36045': 'Spilamberto', 'http://dati.isprambiente.it/id/place/40009': 'Civitella di Romagna', 'http://dati.isprambiente.it/id/place/36018': 'Lama Mocogno', 'http://dati.isprambiente.it/id/place/99008': 'Montefiore Conca', 'http://dati.isprambiente.it/id/place/34002': 'Bardi', 'http://dati.isprambiente.it/id/place/33033': 'Pianello Val Tidone', 'http://dati.isprambiente.it/id/place/33004': 'Bettola', 'http://dati.isprambiente.it/id/place/36043': 'Sestola', 'http://dati.isprambiente.it/id/place/40018': 'Longiano', 'http://dati.isprambiente.it/id/place/99014': 'Rimini', 'http://dati.isprambiente.it/id/place/33017': 'Corte Brugnatella', 'http://dati.isprambiente.it/id/place/40007': 'Cesena', 'http://dati.isprambiente.it/id/place/35036': 'Rubiera', 'http://dati.isprambiente.it/id/place/34006': 'Borgo Val di Taro', 'http://dati.isprambiente.it/id/place/36007': 'Castelnuovo Rangone', 'http://dati.isprambiente.it/id/place/37015': 'Castel di Casio', 'http://dati.isprambiente.it/id/place/34017': 'Fornovo di Taro', 'http://dati.isprambiente.it/id/place/36013': 'Fiorano Modenese', 'http://dati.isprambiente.it/id/place/35005': 'Boretto', 'http://dati.isprambiente.it/id/place/34011': 'Compiano', 'http://dati.isprambiente.it/id/place/39007': 'Cervia', 'http://dati.isprambiente.it/id/place/33021': \"Fiorenzuola d'Arda\", 'http://dati.isprambiente.it/id/place/40008': 'Cesenatico', 'http://dati.isprambiente.it/id/place/34023': 'Montechiarugolo', 'http://dati.isprambiente.it/id/place/99010': 'Montescudo', 'http://dati.isprambiente.it/id/place/33032': 'Piacenza', 'http://dati.isprambiente.it/id/place/37006': 'Bologna', 'http://dati.isprambiente.it/id/place/99001': 'Bellaria-Igea Marina', 'http://dati.isprambiente.it/id/place/33031': 'Pecorara', 'http://dati.isprambiente.it/id/place/35001': 'Albinea', 'http://dati.isprambiente.it/id/place/37029': 'Granaglione', 'http://dati.isprambiente.it/id/place/39017': \"Sant'Agata sul Santerno\", 'http://dati.isprambiente.it/id/place/99026': \"Sant'Agata Feltria\", 'http://dati.isprambiente.it/id/place/33010': 'Caorso', 'http://dati.isprambiente.it/id/place/35007': 'Busana', 'http://dati.isprambiente.it/id/place/35025': 'Ligonchio', 'http://dati.isprambiente.it/id/place/37036': 'Marzabotto', 'http://dati.isprambiente.it/id/place/35012': 'Casalgrande', 'http://dati.isprambiente.it/id/place/34007': 'Busseto', 'http://dati.isprambiente.it/id/place/38008': 'Ferrara', 'http://dati.isprambiente.it/id/place/33020': 'Ferriere', 'http://dati.isprambiente.it/id/place/34010': 'Colorno', 'http://dati.isprambiente.it/id/place/38025': 'Goro', 'http://dati.isprambiente.it/id/place/37050': 'Sala Bolognese', 'http://dati.isprambiente.it/id/place/40001': 'Bagno di Romagna', 'http://dati.isprambiente.it/id/place/40037': 'Roncofreddo', 'http://dati.isprambiente.it/id/place/99023': 'Novafeltria', 'http://dati.isprambiente.it/id/place/36014': 'Fiumalbo', 'http://dati.isprambiente.it/id/place/33016': 'Coli', 'http://dati.isprambiente.it/id/place/40016': 'Gatteo', 'http://dati.isprambiente.it/id/place/33012': \"Castell'Arquato\", 'http://dati.isprambiente.it/id/place/34021': 'Mezzani', 'http://dati.isprambiente.it/id/place/37051': 'San Benedetto Val di Sambro', 'http://dati.isprambiente.it/id/place/34031': 'Sala Baganza', 'http://dati.isprambiente.it/id/place/37039': 'Molinella', 'http://dati.isprambiente.it/id/place/35003': 'Baiso', 'http://dati.isprambiente.it/id/place/34005': 'Bore', 'http://dati.isprambiente.it/id/place/37060': 'Zola Predosa', 'http://dati.isprambiente.it/id/place/33015': 'Cerignale', 'http://dati.isprambiente.it/id/place/35014': 'Castellarano', 'http://dati.isprambiente.it/id/place/99011': 'Morciano di Romagna', 'http://dati.isprambiente.it/id/place/35045': 'Villa Minozzo', 'http://dati.isprambiente.it/id/place/37054': 'San Lazzaro di Savena', 'http://dati.isprambiente.it/id/place/37035': 'Malalbergo', 'http://dati.isprambiente.it/id/place/99022': 'Maiolo', 'http://dati.isprambiente.it/id/place/33034': 'Piozzano', 'http://dati.isprambiente.it/id/place/38021': \"Sant'Agostino\", 'http://dati.isprambiente.it/id/place/34012': 'Corniglio', 'http://dati.isprambiente.it/id/place/37012': 'Casalfiumanese', 'http://dati.isprambiente.it/id/place/99027': 'Talamello'}\n"
     ]
    }
   ],
   "source": [
    "names_places = dict()\n",
    "label = URIRef('http://www.w3.org/2000/01/rdf-schema#label')\n",
    "for urls in intervention_locations:\n",
    "    place = URIRef(urls)\n",
    "    for s, p, o in result_places.triples((place, label, None)):\n",
    "        this_label = str(o)\n",
    "\n",
    "        names_places[urls]=this_label\n",
    "\n",
    "print(names_places)"
   ]
  },
  {
   "cell_type": "markdown",
   "metadata": {},
   "source": [
    "Right now we have the dictionary name_places containing key(place uri):value(rdfs label), we also decided to add latitude and longitude as we will need them fo maps visualizations and province code"
   ]
  },
  {
   "cell_type": "code",
   "execution_count": 134,
   "metadata": {},
   "outputs": [],
   "source": [
    "cod_prov = {'Piacenza':'PC', 'Ferrara':'FE', 'Ravenna':'RA', 'Parma':'PR', 'Bologna':'BO', 'Rimini':'RN', \"Forli'-Cesena\":'FC', \"Reggio nell'Emilia\":'RE', 'Modena':'MO'}"
   ]
  },
  {
   "cell_type": "code",
   "execution_count": 135,
   "metadata": {},
   "outputs": [
    {
     "name": "stdout",
     "output_type": "stream",
     "text": [
      "{'http://dati.isprambiente.it/id/place/40032': ['Predappio', 'FC'], 'http://dati.isprambiente.it/id/place/37040': ['Monghidoro', 'BO'], 'http://dati.isprambiente.it/id/place/37037': ['Medicina', 'BO'], 'http://dati.isprambiente.it/id/place/35044': ['Viano', 'RE'], 'http://dati.isprambiente.it/id/place/33042': ['Sarmato', 'PC'], 'http://dati.isprambiente.it/id/place/37013': [\"Castel d'Aiano\", 'BO'], 'http://dati.isprambiente.it/id/place/34034': ['Sissa', 'PR'], 'http://dati.isprambiente.it/id/place/36029': ['Palagano', 'MO'], 'http://dati.isprambiente.it/id/place/37047': ['Pianoro', 'BO'], 'http://dati.isprambiente.it/id/place/40012': ['Forlì', 'FC'], 'http://dati.isprambiente.it/id/place/99013': ['Riccione', 'RN'], 'http://dati.isprambiente.it/id/place/34046': ['Varsi', 'PR'], 'http://dati.isprambiente.it/id/place/40005': ['Castrocaro Terme e Terra del Sole', 'FC'], 'http://dati.isprambiente.it/id/place/99017': ['San Giovanni in Marignano', 'RN'], 'http://dati.isprambiente.it/id/place/37048': ['Pieve di Cento', 'BO'], 'http://dati.isprambiente.it/id/place/33005': ['Bobbio', 'PC'], 'http://dati.isprambiente.it/id/place/37026': ['Fontanelice', 'BO'], 'http://dati.isprambiente.it/id/place/37017': [\"Castello d'Argile\", 'BO'], 'http://dati.isprambiente.it/id/place/99016': ['San Clemente', 'RN'], 'http://dati.isprambiente.it/id/place/36037': ['San Felice sul Panaro', 'MO'], 'http://dati.isprambiente.it/id/place/39012': ['Lugo', 'RA'], 'http://dati.isprambiente.it/id/place/37041': ['Monterenzio', 'BO'], 'http://dati.isprambiente.it/id/place/33045': ['Vigolzone', 'PC'], 'http://dati.isprambiente.it/id/place/37008': ['Budrio', 'BO'], 'http://dati.isprambiente.it/id/place/36046': ['Vignola', 'MO'], 'http://dati.isprambiente.it/id/place/39014': ['Ravenna', 'RA'], 'http://dati.isprambiente.it/id/place/36032': ['Polinago', 'MO'], 'http://dati.isprambiente.it/id/place/33002': ['Alseno', 'PC'], 'http://dati.isprambiente.it/id/place/37057': ['Sasso Marconi', 'BO'], 'http://dati.isprambiente.it/id/place/36026': ['Montese', 'MO'], 'http://dati.isprambiente.it/id/place/36019': ['Maranello', 'MO'], 'http://dati.isprambiente.it/id/place/38003': ['Bondeno', 'FE'], 'http://dati.isprambiente.it/id/place/40050': ['Verghereto', 'FC'], 'http://dati.isprambiente.it/id/place/39005': ['Casola Valsenio', 'RA'], 'http://dati.isprambiente.it/id/place/37022': ['Castiglione dei Pepoli', 'BO'], 'http://dati.isprambiente.it/id/place/33018': ['Cortemaggiore', 'PC'], 'http://dati.isprambiente.it/id/place/33008': ['Calendasco', 'PC'], 'http://dati.isprambiente.it/id/place/34020': ['Medesano', 'PR'], 'http://dati.isprambiente.it/id/place/37005': ['Bentivoglio', 'BO'], 'http://dati.isprambiente.it/id/place/38015': ['Migliarino', 'FE'], 'http://dati.isprambiente.it/id/place/35042': ['Vetto', 'RE'], 'http://dati.isprambiente.it/id/place/37059': ['Vergato', 'BO'], 'http://dati.isprambiente.it/id/place/99024': ['Pennabilli', 'RN'], 'http://dati.isprambiente.it/id/place/33013': ['Castel San Giovanni', 'PC'], 'http://dati.isprambiente.it/id/place/39010': ['Faenza', 'RA'], 'http://dati.isprambiente.it/id/place/33043': ['Travo', 'PC'], 'http://dati.isprambiente.it/id/place/99019': ['Torriana', 'RN'], 'http://dati.isprambiente.it/id/place/34018': ['Langhirano', 'PR'], 'http://dati.isprambiente.it/id/place/33025': ['Gropparello', 'PC'], 'http://dati.isprambiente.it/id/place/36002': ['Bomporto', 'MO'], 'http://dati.isprambiente.it/id/place/37031': ['Grizzana Morandi', 'BO'], 'http://dati.isprambiente.it/id/place/38014': ['Mesola', 'FE'], 'http://dati.isprambiente.it/id/place/37027': ['Gaggio Montano', 'BO'], 'http://dati.isprambiente.it/id/place/33030': ['Ottone', 'PC'], 'http://dati.isprambiente.it/id/place/35033': [\"Reggio nell'Emilia\", 'RE'], 'http://dati.isprambiente.it/id/place/35040': ['Scandiano', 'RE'], 'http://dati.isprambiente.it/id/place/99003': ['Coriano', 'RN'], 'http://dati.isprambiente.it/id/place/34009': ['Collecchio', 'PR'], 'http://dati.isprambiente.it/id/place/35041': ['Toano', 'RE'], 'http://dati.isprambiente.it/id/place/33026': [\"Lugagnano Val d'Arda\", 'PC'], 'http://dati.isprambiente.it/id/place/39006': ['Castel Bolognese', 'RA'], 'http://dati.isprambiente.it/id/place/34014': ['Fidenza', 'PR'], 'http://dati.isprambiente.it/id/place/40004': ['Borghi', 'FC'], 'http://dati.isprambiente.it/id/place/39004': ['Brisighella', 'RA'], 'http://dati.isprambiente.it/id/place/99020': ['Verucchio', 'RN'], 'http://dati.isprambiente.it/id/place/34040': ['Tornolo', 'PR'], 'http://dati.isprambiente.it/id/place/34019': [\"Lesignano de' Bagni\", 'PR'], 'http://dati.isprambiente.it/id/place/38017': ['Ostellato', 'FE'], 'http://dati.isprambiente.it/id/place/34038': ['Terenzo', 'PR'], 'http://dati.isprambiente.it/id/place/36023': ['Modena', 'MO'], 'http://dati.isprambiente.it/id/place/40044': ['Sarsina', 'FC'], 'http://dati.isprambiente.it/id/place/37001': [\"Anzola dell'Emilia\", 'BO'], 'http://dati.isprambiente.it/id/place/34025': ['Noceto', 'PR'], 'http://dati.isprambiente.it/id/place/99021': ['Casteldelci', 'RN'], 'http://dati.isprambiente.it/id/place/39002': ['Bagnacavallo', 'RA'], 'http://dati.isprambiente.it/id/place/38006': ['Comacchio', 'FE'], 'http://dati.isprambiente.it/id/place/35043': ['Vezzano sul Crostolo', 'RE'], 'http://dati.isprambiente.it/id/place/40043': ['Santa Sofia', 'FC'], 'http://dati.isprambiente.it/id/place/36047': ['Zocca', 'MO'], 'http://dati.isprambiente.it/id/place/37011': ['Casalecchio di Reno', 'BO'], 'http://dati.isprambiente.it/id/place/99018': ['Santarcangelo di Romagna', 'RN'], 'http://dati.isprambiente.it/id/place/33019': ['Farini', 'PC'], 'http://dati.isprambiente.it/id/place/34022': ['Monchio delle Corti', 'PR'], 'http://dati.isprambiente.it/id/place/36011': ['Fanano', 'MO'], 'http://dati.isprambiente.it/id/place/37028': ['Galliera', 'BO'], 'http://dati.isprambiente.it/id/place/36016': ['Frassinoro', 'MO'], 'http://dati.isprambiente.it/id/place/40003': ['Bertinoro', 'FC'], 'http://dati.isprambiente.it/id/place/40022': ['Modigliana', 'FC'], 'http://dati.isprambiente.it/id/place/37033': ['Lizzano in Belvedere', 'BO'], 'http://dati.isprambiente.it/id/place/38004': ['Cento', 'FE'], 'http://dati.isprambiente.it/id/place/33029': ['Nibbiano', 'PC'], 'http://dati.isprambiente.it/id/place/34037': ['Sorbolo', 'PR'], 'http://dati.isprambiente.it/id/place/37053': ['San Giovanni in Persiceto', 'BO'], 'http://dati.isprambiente.it/id/place/37034': ['Loiano', 'BO'], 'http://dati.isprambiente.it/id/place/37019': ['Castel Maggiore', 'BO'], 'http://dati.isprambiente.it/id/place/35031': ['Ramiseto', 'RE'], 'http://dati.isprambiente.it/id/place/35019': ['Collagna', 'RE'], 'http://dati.isprambiente.it/id/place/34027': ['Parma', 'PR'], 'http://dati.isprambiente.it/id/place/36031': ['Pievepelago', 'MO'], 'http://dati.isprambiente.it/id/place/33048': ['Ziano Piacentino', 'PC'], 'http://dati.isprambiente.it/id/place/35018': ['Canossa', 'RE'], 'http://dati.isprambiente.it/id/place/35006': ['Brescello', 'RE'], 'http://dati.isprambiente.it/id/place/33046': [\"Villanova sull'Arda\", 'PC'], 'http://dati.isprambiente.it/id/place/34004': ['Berceto', 'PR'], 'http://dati.isprambiente.it/id/place/99025': ['San Leo', 'RN'], 'http://dati.isprambiente.it/id/place/33044': ['Vernasca', 'PC'], 'http://dati.isprambiente.it/id/place/36035': ['Riolunato', 'MO'], 'http://dati.isprambiente.it/id/place/34013': ['Felino', 'PR'], 'http://dati.isprambiente.it/id/place/36025': ['Montefiorino', 'MO'], 'http://dati.isprambiente.it/id/place/34003': ['Bedonia', 'PR'], 'http://dati.isprambiente.it/id/place/37010': ['Camugnano', 'BO'], 'http://dati.isprambiente.it/id/place/36033': ['Prignano sulla Secchia', 'MO'], 'http://dati.isprambiente.it/id/place/33028': ['Morfasso', 'PC'], 'http://dati.isprambiente.it/id/place/34039': ['Tizzano Val Parma', 'PR'], 'http://dati.isprambiente.it/id/place/37042': ['Monte San Pietro', 'BO'], 'http://dati.isprambiente.it/id/place/34032': ['Salsomaggiore Terme', 'PR'], 'http://dati.isprambiente.it/id/place/34035': ['Solignano', 'PR'], 'http://dati.isprambiente.it/id/place/39011': ['Fusignano', 'RA'], 'http://dati.isprambiente.it/id/place/39015': ['Riolo Terme', 'RA'], 'http://dati.isprambiente.it/id/place/37020': ['Castel San Pietro Terme', 'BO'], 'http://dati.isprambiente.it/id/place/37032': ['Imola', 'BO'], 'http://dati.isprambiente.it/id/place/37007': ['Borgo Tossignano', 'BO'], 'http://dati.isprambiente.it/id/place/36045': ['Spilamberto', 'MO'], 'http://dati.isprambiente.it/id/place/40009': ['Civitella di Romagna', 'FC'], 'http://dati.isprambiente.it/id/place/36018': ['Lama Mocogno', 'MO'], 'http://dati.isprambiente.it/id/place/99008': ['Montefiore Conca', 'RN'], 'http://dati.isprambiente.it/id/place/34002': ['Bardi', 'PR'], 'http://dati.isprambiente.it/id/place/33033': ['Pianello Val Tidone', 'PC'], 'http://dati.isprambiente.it/id/place/33004': ['Bettola', 'PC'], 'http://dati.isprambiente.it/id/place/36043': ['Sestola', 'MO'], 'http://dati.isprambiente.it/id/place/40018': ['Longiano', 'FC'], 'http://dati.isprambiente.it/id/place/99014': ['Rimini', 'RN'], 'http://dati.isprambiente.it/id/place/33017': ['Corte Brugnatella', 'PC'], 'http://dati.isprambiente.it/id/place/40007': ['Cesena', 'FC'], 'http://dati.isprambiente.it/id/place/35036': ['Rubiera', 'RE'], 'http://dati.isprambiente.it/id/place/34006': ['Borgo Val di Taro', 'PR'], 'http://dati.isprambiente.it/id/place/36007': ['Castelnuovo Rangone', 'MO'], 'http://dati.isprambiente.it/id/place/37015': ['Castel di Casio', 'BO'], 'http://dati.isprambiente.it/id/place/34017': ['Fornovo di Taro', 'PR'], 'http://dati.isprambiente.it/id/place/36013': ['Fiorano Modenese', 'MO'], 'http://dati.isprambiente.it/id/place/35005': ['Boretto', 'RE'], 'http://dati.isprambiente.it/id/place/34011': ['Compiano', 'PR'], 'http://dati.isprambiente.it/id/place/39007': ['Cervia', 'RA'], 'http://dati.isprambiente.it/id/place/33021': [\"Fiorenzuola d'Arda\", 'PC'], 'http://dati.isprambiente.it/id/place/40008': ['Cesenatico', 'FC'], 'http://dati.isprambiente.it/id/place/34023': ['Montechiarugolo', 'PR'], 'http://dati.isprambiente.it/id/place/99010': ['Montescudo', 'RN'], 'http://dati.isprambiente.it/id/place/33032': ['Piacenza', 'PC'], 'http://dati.isprambiente.it/id/place/37006': ['Bologna', 'BO'], 'http://dati.isprambiente.it/id/place/99001': ['Bellaria-Igea Marina', 'RN'], 'http://dati.isprambiente.it/id/place/33031': ['Pecorara', 'PC'], 'http://dati.isprambiente.it/id/place/35001': ['Albinea', 'RE'], 'http://dati.isprambiente.it/id/place/37029': ['Granaglione', 'BO'], 'http://dati.isprambiente.it/id/place/39017': [\"Sant'Agata sul Santerno\", 'RA'], 'http://dati.isprambiente.it/id/place/99026': [\"Sant'Agata Feltria\", 'RN'], 'http://dati.isprambiente.it/id/place/33010': ['Caorso', 'PC'], 'http://dati.isprambiente.it/id/place/35007': ['Busana', 'RE'], 'http://dati.isprambiente.it/id/place/35025': ['Ligonchio', 'RE'], 'http://dati.isprambiente.it/id/place/37036': ['Marzabotto', 'BO'], 'http://dati.isprambiente.it/id/place/35012': ['Casalgrande', 'RE'], 'http://dati.isprambiente.it/id/place/34007': ['Busseto', 'PR'], 'http://dati.isprambiente.it/id/place/38008': ['Ferrara', 'FE'], 'http://dati.isprambiente.it/id/place/33020': ['Ferriere', 'PC'], 'http://dati.isprambiente.it/id/place/34010': ['Colorno', 'PR'], 'http://dati.isprambiente.it/id/place/38025': ['Goro', 'FE'], 'http://dati.isprambiente.it/id/place/37050': ['Sala Bolognese', 'BO'], 'http://dati.isprambiente.it/id/place/40001': ['Bagno di Romagna', 'FC'], 'http://dati.isprambiente.it/id/place/40037': ['Roncofreddo', 'FC'], 'http://dati.isprambiente.it/id/place/99023': ['Novafeltria', 'RN'], 'http://dati.isprambiente.it/id/place/36014': ['Fiumalbo', 'MO'], 'http://dati.isprambiente.it/id/place/33016': ['Coli', 'PC'], 'http://dati.isprambiente.it/id/place/40016': ['Gatteo', 'FC'], 'http://dati.isprambiente.it/id/place/33012': [\"Castell'Arquato\", 'PC'], 'http://dati.isprambiente.it/id/place/34021': ['Mezzani', 'PR'], 'http://dati.isprambiente.it/id/place/37051': ['San Benedetto Val di Sambro', 'BO'], 'http://dati.isprambiente.it/id/place/34031': ['Sala Baganza', 'PR'], 'http://dati.isprambiente.it/id/place/37039': ['Molinella', 'BO'], 'http://dati.isprambiente.it/id/place/35003': ['Baiso', 'RE'], 'http://dati.isprambiente.it/id/place/34005': ['Bore', 'PR'], 'http://dati.isprambiente.it/id/place/37060': ['Zola Predosa', 'BO'], 'http://dati.isprambiente.it/id/place/33015': ['Cerignale', 'PC'], 'http://dati.isprambiente.it/id/place/35014': ['Castellarano', 'RE'], 'http://dati.isprambiente.it/id/place/99011': ['Morciano di Romagna', 'RN'], 'http://dati.isprambiente.it/id/place/35045': ['Villa Minozzo', 'RE'], 'http://dati.isprambiente.it/id/place/37054': ['San Lazzaro di Savena', 'BO'], 'http://dati.isprambiente.it/id/place/37035': ['Malalbergo', 'BO'], 'http://dati.isprambiente.it/id/place/99022': ['Maiolo', 'RN'], 'http://dati.isprambiente.it/id/place/33034': ['Piozzano', 'PC'], 'http://dati.isprambiente.it/id/place/38021': [\"Sant'Agostino\", 'FE'], 'http://dati.isprambiente.it/id/place/34012': ['Corniglio', 'PR'], 'http://dati.isprambiente.it/id/place/37012': ['Casalfiumanese', 'BO'], 'http://dati.isprambiente.it/id/place/99027': ['Talamello', 'RN']}\n"
     ]
    }
   ],
   "source": [
    "province = URIRef('http://www.geonames.org/ontology#parentADM2')\n",
    "for urls, place in names_places.items():\n",
    "    # print(urls)\n",
    "    url = URIRef(urls)\n",
    "    \n",
    "    for s, p, o in result_places.triples((url, province, None)):\n",
    "        pred = URIRef('http://www.geonames.org/ontology#name')\n",
    "        for s2, p2, o2 in result_places.triples((o,pred, None)):\n",
    "            code = cod_prov[str(o2)]\n",
    "            new_value = [place, code]\n",
    "            names_places[urls]=new_value\n",
    "print(names_places)\n",
    "\n",
    "\n",
    "\n"
   ]
  },
  {
   "cell_type": "markdown",
   "metadata": {},
   "source": [
    "Nex step consists in reitarating the same function, but on predicates linking the place with latitude and longitude"
   ]
  },
  {
   "cell_type": "code",
   "execution_count": 136,
   "metadata": {},
   "outputs": [
    {
     "name": "stdout",
     "output_type": "stream",
     "text": [
      "['Predappio', 'FC', '44.0922084956989']\n",
      "['Monghidoro', 'BO', '44.2168500107027']\n",
      "['Medicina', 'BO', '44.5065377118493']\n",
      "['Viano', 'RE', '44.5497789915038']\n",
      "['Sarmato', 'PC', '45.0722241833859']\n",
      "[\"Castel d'Aiano\", 'BO', '44.2756727867302']\n",
      "['Sissa', 'PR', '44.9706036766297']\n",
      "['Palagano', 'MO', '44.2801625738394']\n",
      "['Pianoro', 'BO', '44.3766389462232']\n",
      "['Forlì', 'FC', '44.2274378075878']\n",
      "['Riccione', 'RN', '43.9987884203605']\n",
      "['Varsi', 'PR', '44.642900194818']\n",
      "['Castrocaro Terme e Terra del Sole', 'FC', '44.1721578286473']\n",
      "['San Giovanni in Marignano', 'RN', '43.9360407185259']\n",
      "['Pieve di Cento', 'BO', '44.7674706763495']\n",
      "['Bobbio', 'PC', '44.7920262766593']\n",
      "['Fontanelice', 'BO', '44.2497462045666']\n",
      "[\"Castello d'Argile\", 'BO', '44.6862834581668']\n",
      "['San Clemente', 'RN', '43.9312917337782']\n",
      "['San Felice sul Panaro', 'MO', '44.845188534406']\n",
      "['Lugo', 'RA', '44.4773344376502']\n",
      "['Monterenzio', 'BO', '44.3033018081764']\n",
      "['Vigolzone', 'PC', '44.9213414451175']\n",
      "['Budrio', 'BO', '44.5515223609743']\n",
      "['Vignola', 'MO', '44.4908352175022']\n",
      "['Ravenna', 'RA', '44.4161097613965']\n",
      "['Polinago', 'MO', '44.3616898465417']\n",
      "['Alseno', 'PC', '44.8873116882708']\n",
      "['Sasso Marconi', 'BO', '44.4065900914958']\n",
      "['Montese', 'MO', '44.2673512399754']\n",
      "['Maranello', 'MO', '44.5081368999013']\n",
      "['Bondeno', 'FE', '44.9020643370578']\n",
      "['Verghereto', 'FC', '43.8076432417394']\n",
      "['Casola Valsenio', 'RA', '44.2020305217197']\n",
      "['Castiglione dei Pepoli', 'BO', '44.1233583432008']\n",
      "['Cortemaggiore', 'PC', '45.0002814724449']\n",
      "['Calendasco', 'PC', '45.091248339875']\n",
      "['Medesano', 'PR', '44.7274862649565']\n",
      "['Bentivoglio', 'BO', '44.6347693610772']\n",
      "['Migliarino', 'FE', '44.7746035136604']\n",
      "['Vetto', 'RE', '44.4814867278215']\n",
      "['Vergato', 'BO', '44.2451312231063']\n",
      "['Pennabilli', 'RN', '43.8279485240717']\n",
      "['Castel San Giovanni', 'PC', '45.057871304891']\n",
      "['Faenza', 'RA', '44.3102389416828']\n",
      "['Travo', 'PC', '44.8576900716299']\n",
      "['Torriana', 'RN', '43.9788193285456']\n",
      "['Langhirano', 'PR', '44.6146115356']\n",
      "['Gropparello', 'PC', '44.8251650943555']\n",
      "['Bomporto', 'MO', '44.7580126859088']\n",
      "['Grizzana Morandi', 'BO', '44.2488964349191']\n",
      "['Mesola', 'FE', '44.8852640258951']\n",
      "['Gaggio Montano', 'BO', '44.2014296487467']\n",
      "['Ottone', 'PC', '44.6256119569628']\n",
      "[\"Reggio nell'Emilia\", 'RE', '44.6974331549397']\n",
      "['Scandiano', 'RE', '44.598800337671']\n",
      "['Coriano', 'RN', '43.972080065031']\n",
      "['Collecchio', 'PR', '44.7624468109962']\n",
      "['Toano', 'RE', '44.3851236478973']\n",
      "[\"Lugagnano Val d'Arda\", 'PC', '44.8118010261305']\n",
      "['Castel Bolognese', 'RA', '44.3207541826802']\n",
      "['Fidenza', 'PR', '44.855474438381']\n",
      "['Borghi', 'FC', '44.0193185896965']\n",
      "['Brisighella', 'RA', '44.159934504768']\n",
      "['Verucchio', 'RN', '43.9927439494671']\n",
      "['Tornolo', 'PR', '44.4527697054718']\n",
      "[\"Lesignano de' Bagni\", 'PR', '44.617916729033']\n",
      "['Ostellato', 'FE', '44.7119418477398']\n",
      "['Terenzo', 'PR', '44.6143222334945']\n",
      "['Modena', 'MO', '44.6438970183065']\n",
      "['Sarsina', 'FC', '43.9006189178128']\n",
      "[\"Anzola dell'Emilia\", 'BO', '44.5651602939912']\n",
      "['Noceto', 'PR', '44.8067872211886']\n",
      "['Casteldelci', 'RN', '43.7934699135451']\n",
      "['Bagnacavallo', 'RA', '44.4392578265822']\n",
      "['Comacchio', 'FE', '44.7014548923959']\n",
      "['Vezzano sul Crostolo', 'RE', '44.5870378687016']\n",
      "['Santa Sofia', 'FC', '43.9007722781334']\n",
      "['Zocca', 'MO', '44.3609656448932']\n",
      "['Casalecchio di Reno', 'BO', '44.4709580144848']\n",
      "['Santarcangelo di Romagna', 'RN', '44.0585162498093']\n",
      "['Farini', 'PC', '44.7166837833602']\n",
      "['Monchio delle Corti', 'PR', '44.3964392140054']\n",
      "['Fanano', 'MO', '44.1887892982588']\n",
      "['Galliera', 'BO', '44.7565595083047']\n",
      "['Frassinoro', 'MO', '44.2635843965076']\n",
      "['Bertinoro', 'FC', '44.1429319387015']\n",
      "['Modigliana', 'FC', '44.1491359347075']\n",
      "['Lizzano in Belvedere', 'BO', '44.1640465771771']\n",
      "['Cento', 'FE', '44.77571228775']\n",
      "['Nibbiano', 'PC', '44.9405197743336']\n",
      "['Sorbolo', 'PR', '44.8629492239688']\n",
      "['San Giovanni in Persiceto', 'BO', '44.6443505108545']\n",
      "['Loiano', 'BO', '44.2821004284501']\n",
      "['Castel Maggiore', 'BO', '44.5687096629379']\n",
      "['Ramiseto', 'RE', '44.3999558597279']\n",
      "['Collagna', 'RE', '44.3251763640087']\n",
      "['Parma', 'PR', '44.7792325478157']\n",
      "['Pievepelago', 'MO', '44.1824193246375']\n",
      "['Ziano Piacentino', 'PC', '44.9907028551843']\n",
      "['Canossa', 'RE', '44.5246372005171']\n",
      "['Brescello', 'RE', '44.8987983807966']\n",
      "[\"Villanova sull'Arda\", 'PC', '45.0301590667274']\n",
      "['Berceto', 'PR', '44.5301645853507']\n",
      "['San Leo', 'RN', '43.9198657036645']\n",
      "['Vernasca', 'PC', '44.795701663081']\n",
      "['Riolunato', 'MO', '44.2305279239986']\n",
      "['Felino', 'PR', '44.6795157896056']\n",
      "['Montefiorino', 'MO', '44.3427450184958']\n",
      "['Bedonia', 'PR', '44.5253575474622']\n",
      "['Camugnano', 'BO', '44.1554815854831']\n",
      "['Prignano sulla Secchia', 'MO', '44.4556892359501']\n",
      "['Morfasso', 'PC', '44.7226637447044']\n",
      "['Tizzano Val Parma', 'PR', '44.5083110403874']\n",
      "['Monte San Pietro', 'BO', '44.4261334569962']\n",
      "['Salsomaggiore Terme', 'PR', '44.8110448774357']\n",
      "['Solignano', 'PR', '44.6371957692295']\n",
      "['Fusignano', 'RA', '44.481947522945']\n",
      "['Riolo Terme', 'RA', '44.2700313195263']\n",
      "['Castel San Pietro Terme', 'BO', '44.3962123749741']\n",
      "['Imola', 'BO', '44.3877798730496']\n",
      "['Borgo Tossignano', 'BO', '44.272093475643']\n",
      "['Spilamberto', 'MO', '44.5369595045105']\n",
      "['Civitella di Romagna', 'FC', '44.0032550692916']\n",
      "['Lama Mocogno', 'MO', '44.3030545736765']\n",
      "['Montefiore Conca', 'RN', '43.8786094487979']\n",
      "['Bardi', 'PR', '44.5812653966787']\n",
      "['Pianello Val Tidone', 'PC', '44.93438391812']\n",
      "['Bettola', 'PC', '44.7786269824878']\n",
      "['Sestola', 'MO', '44.2349695801993']\n",
      "['Longiano', 'FC', '44.0803058141132']\n",
      "['Rimini', 'RN', '44.0260492354315']\n",
      "['Corte Brugnatella', 'PC', '44.7154804770958']\n",
      "['Cesena', 'FC', '44.1569217022985']\n",
      "['Rubiera', 'RE', '44.6676930872807']\n",
      "['Borgo Val di Taro', 'PR', '44.5011572514532']\n",
      "['Castelnuovo Rangone', 'MO', '44.5577442466715']\n",
      "['Castel di Casio', 'BO', '44.1540944586591']\n",
      "['Fornovo di Taro', 'PR', '44.6689861483704']\n",
      "['Fiorano Modenese', 'MO', '44.5304668917869']\n",
      "['Boretto', 'RE', '44.8951411674914']\n",
      "['Compiano', 'PR', '44.5315694602687']\n",
      "['Cervia', 'RA', '44.2511978440706']\n",
      "[\"Fiorenzuola d'Arda\", 'PC', '44.9342408326053']\n",
      "['Cesenatico', 'FC', '44.1758423081881']\n",
      "['Montechiarugolo', 'PR', '44.7043185649266']\n",
      "['Montescudo', 'RN', '43.9241241772046']\n",
      "['Piacenza', 'PC', '45.0342599204124']\n",
      "['Bologna', 'BO', '44.4979958900926']\n",
      "['Bellaria-Igea Marina', 'RN', '44.1317132196122']\n",
      "['Pecorara', 'PC', '44.8712025624287']\n",
      "['Albinea', 'RE', '44.6072971928036']\n",
      "['Granaglione', 'BO', '44.1060362491154']\n",
      "[\"Sant'Agata sul Santerno\", 'RA', '44.4509255778894']\n",
      "[\"Sant'Agata Feltria\", 'RN', '43.8593185978932']\n",
      "['Caorso', 'PC', '45.059828079381']\n",
      "['Busana', 'RE', '44.379405244983']\n",
      "['Ligonchio', 'RE', '44.3052971033538']\n",
      "['Marzabotto', 'BO', '44.3287066701004']\n",
      "['Casalgrande', 'RE', '44.5786920026738']\n",
      "['Busseto', 'PR', '44.9587588666215']\n",
      "['Ferrara', 'FE', '44.8228610600696']\n",
      "['Ferriere', 'PC', '44.6169545533']\n",
      "['Colorno', 'PR', '44.9418099079643']\n",
      "['Goro', 'FE', '44.8015323355569']\n",
      "['Sala Bolognese', 'BO', '44.6105131327312']\n",
      "['Bagno di Romagna', 'FC', '43.8660571078466']\n",
      "['Roncofreddo', 'FC', '44.0439879520357']\n",
      "['Novafeltria', 'RN', '43.8828386143298']\n",
      "['Fiumalbo', 'MO', '44.1788255815864']\n",
      "['Coli', 'PC', '44.7368218490708']\n",
      "['Gatteo', 'FC', '44.1311431482055']\n",
      "[\"Castell'Arquato\", 'PC', '44.8663065105586']\n",
      "['Mezzani', 'PR', '44.9256357049726']\n",
      "['San Benedetto Val di Sambro', 'BO', '44.1980312849519']\n",
      "['Sala Baganza', 'PR', '44.7018435602696']\n",
      "['Molinella', 'BO', '44.6152430422574']\n",
      "['Baiso', 'RE', '44.4813359975262']\n",
      "['Bore', 'PR', '44.7112020849659']\n",
      "['Zola Predosa', 'BO', '44.4949287226617']\n",
      "['Cerignale', 'PC', '44.6736901227251']\n",
      "['Castellarano', 'RE', '44.5283193852891']\n",
      "['Morciano di Romagna', 'RN', '43.9134086335386']\n",
      "['Villa Minozzo', 'RE', '44.3183407975257']\n",
      "['San Lazzaro di Savena', 'BO', '44.4507143682859']\n",
      "['Malalbergo', 'BO', '44.6874701083213']\n",
      "['Maiolo', 'RN', '43.8869094938628']\n",
      "['Piozzano', 'PC', '44.9078620561275']\n",
      "[\"Sant'Agostino\", 'FE', '44.8001544714433']\n",
      "['Corniglio', 'PR', '44.4757776052991']\n",
      "['Casalfiumanese', 'BO', '44.2706904094921']\n",
      "['Talamello', 'RN', '43.9134251303116']\n",
      "['Predappio', 'FC', '44.0922084956989', '11.9515345177325']\n",
      "['Monghidoro', 'BO', '44.2168500107027', '11.3297693970571']\n",
      "['Medicina', 'BO', '44.5065377118493', '11.6531589231081']\n",
      "['Viano', 'RE', '44.5497789915038', '10.5944534889928']\n",
      "['Sarmato', 'PC', '45.0722241833859', '9.49613042054165']\n",
      "[\"Castel d'Aiano\", 'BO', '44.2756727867302', '11.0180186539359']\n",
      "['Sissa', 'PR', '44.9706036766297', '10.2834822406359']\n",
      "['Palagano', 'MO', '44.2801625738394', '10.6119205338592']\n",
      "['Pianoro', 'BO', '44.3766389462232', '11.3566515028008']\n",
      "['Forlì', 'FC', '44.2274378075878', '12.0498105083093']\n",
      "['Riccione', 'RN', '43.9987884203605', '12.6448362144615']\n",
      "['Varsi', 'PR', '44.642900194818', '9.8493601552521']\n",
      "['Castrocaro Terme e Terra del Sole', 'FC', '44.1721578286473', '11.933909551785']\n",
      "['San Giovanni in Marignano', 'RN', '43.9360407185259', '12.7064283454884']\n",
      "['Pieve di Cento', 'BO', '44.7674706763495', '11.3606178784333']\n",
      "['Bobbio', 'PC', '44.7920262766593', '9.3858685825511']\n",
      "['Fontanelice', 'BO', '44.2497462045666', '11.547275354148']\n",
      "[\"Castello d'Argile\", 'BO', '44.6862834581668', '11.3025837943229']\n",
      "['San Clemente', 'RN', '43.9312917337782', '12.6320621536893']\n",
      "['San Felice sul Panaro', 'MO', '44.845188534406', '11.1506283987188']\n",
      "['Lugo', 'RA', '44.4773344376502', '11.9066018484468']\n",
      "['Monterenzio', 'BO', '44.3033018081764', '11.4264692347464']\n",
      "['Vigolzone', 'PC', '44.9213414451175', '9.67852337686145']\n",
      "['Budrio', 'BO', '44.5515223609743', '11.5449423859963']\n",
      "['Vignola', 'MO', '44.4908352175022', '11.0164115251075']\n",
      "['Ravenna', 'RA', '44.4161097613965', '12.1879414998409']\n",
      "['Polinago', 'MO', '44.3616898465417', '10.7441754750072']\n",
      "['Alseno', 'PC', '44.8873116882708', '9.96246577776708']\n",
      "['Sasso Marconi', 'BO', '44.4065900914958', '11.2421410673134']\n",
      "['Montese', 'MO', '44.2673512399754', '10.9239933742402']\n",
      "['Maranello', 'MO', '44.5081368999013', '10.8700897429153']\n",
      "['Bondeno', 'FE', '44.9020643370578', '11.3645617558736']\n",
      "['Verghereto', 'FC', '43.8076432417394', '12.0510496209187']\n",
      "['Casola Valsenio', 'RA', '44.2020305217197', '11.6106035296694']\n",
      "['Castiglione dei Pepoli', 'BO', '44.1233583432008', '11.1956079463872']\n",
      "['Cortemaggiore', 'PC', '45.0002814724449', '9.92064558607387']\n",
      "['Calendasco', 'PC', '45.091248339875', '9.60826117996152']\n",
      "['Medesano', 'PR', '44.7274862649565', '10.0825066499502']\n",
      "['Bentivoglio', 'BO', '44.6347693610772', '11.4273664877783']\n",
      "['Migliarino', 'FE', '44.7746035136604', '11.9280960946842']\n",
      "['Vetto', 'RE', '44.4814867278215', '10.3532048749381']\n",
      "['Vergato', 'BO', '44.2451312231063', '11.0638289550979']\n",
      "['Pennabilli', 'RN', '43.8279485240717', '12.309438032308']\n",
      "['Castel San Giovanni', 'PC', '45.057871304891', '9.4281830418783']\n",
      "['Faenza', 'RA', '44.3102389416828', '11.9632347470895']\n",
      "['Travo', 'PC', '44.8576900716299', '9.52595285216489']\n",
      "['Torriana', 'RN', '43.9788193285456', '12.3761938225946']\n",
      "['Langhirano', 'PR', '44.6146115356', '10.2332073256037']\n",
      "['Gropparello', 'PC', '44.8251650943555', '9.7108715931405']\n",
      "['Bomporto', 'MO', '44.7580126859088', '11.0510342338281']\n",
      "['Grizzana Morandi', 'BO', '44.2488964349191', '11.1305661471355']\n",
      "['Mesola', 'FE', '44.8852640258951', '12.2459456712609']\n",
      "['Gaggio Montano', 'BO', '44.2014296487467', '10.9433658924431']\n",
      "['Ottone', 'PC', '44.6256119569628', '9.30188529836556']\n",
      "[\"Reggio nell'Emilia\", 'RE', '44.6974331549397', '10.6346640066187']\n",
      "['Scandiano', 'RE', '44.598800337671', '10.6899139471885']\n",
      "['Coriano', 'RN', '43.972080065031', '12.6090256004297']\n",
      "['Collecchio', 'PR', '44.7624468109962', '10.2036921712951']\n",
      "['Toano', 'RE', '44.3851236478973', '10.5455659716944']\n",
      "[\"Lugagnano Val d'Arda\", 'PC', '44.8118010261305', '9.77834271594048']\n",
      "['Castel Bolognese', 'RA', '44.3207541826802', '11.7870848263222']\n",
      "['Fidenza', 'PR', '44.855474438381', '10.0776806271517']\n",
      "['Borghi', 'FC', '44.0193185896965', '12.3545822890674']\n",
      "['Brisighella', 'RA', '44.159934504768', '11.6697138231696']\n",
      "['Verucchio', 'RN', '43.9927439494671', '12.4302494361974']\n",
      "['Tornolo', 'PR', '44.4527697054718', '9.49369794718291']\n",
      "[\"Lesignano de' Bagni\", 'PR', '44.617916729033', '10.2987316509423']\n",
      "['Ostellato', 'FE', '44.7119418477398', '12.0439854515882']\n",
      "['Terenzo', 'PR', '44.6143222334945', '10.0752779206209']\n",
      "['Modena', 'MO', '44.6438970183065', '10.9155350775428']\n",
      "['Sarsina', 'FC', '43.9006189178128', '12.122936817466']\n",
      "[\"Anzola dell'Emilia\", 'BO', '44.5651602939912', '11.1934188016153']\n",
      "['Noceto', 'PR', '44.8067872211886', '10.1311501168323']\n",
      "['Casteldelci', 'RN', '43.7934699135451', '12.148412351024']\n",
      "['Bagnacavallo', 'RA', '44.4392578265822', '12.0057234309854']\n",
      "['Comacchio', 'FE', '44.7014548923959', '12.2041662085282']\n",
      "['Vezzano sul Crostolo', 'RE', '44.5870378687016', '10.5205247183104']\n",
      "['Santa Sofia', 'FC', '43.9007722781334', '11.7941195608876']\n",
      "['Zocca', 'MO', '44.3609656448932', '10.994815317776']\n",
      "['Casalecchio di Reno', 'BO', '44.4709580144848', '11.2653473225479']\n",
      "['Santarcangelo di Romagna', 'RN', '44.0585162498093', '12.4297980032092']\n",
      "['Farini', 'PC', '44.7166837833602', '9.51506118353626']\n",
      "['Monchio delle Corti', 'PR', '44.3964392140054', '10.1129163015926']\n",
      "['Fanano', 'MO', '44.1887892982588', '10.7824847796429']\n",
      "['Galliera', 'BO', '44.7565595083047', '11.3919676322972']\n",
      "['Frassinoro', 'MO', '44.2635843965076', '10.5391237531516']\n",
      "['Bertinoro', 'FC', '44.1429319387015', '12.1468470888153']\n",
      "['Modigliana', 'FC', '44.1491359347075', '11.7979481253718']\n",
      "['Lizzano in Belvedere', 'BO', '44.1640465771771', '10.8700853689935']\n",
      "['Cento', 'FE', '44.77571228775', '11.3079022486946']\n",
      "['Nibbiano', 'PC', '44.9405197743336', '9.35513699631645']\n",
      "['Sorbolo', 'PR', '44.8629492239688', '10.437109617085']\n",
      "['San Giovanni in Persiceto', 'BO', '44.6443505108545', '11.1968627414522']\n",
      "['Loiano', 'BO', '44.2821004284501', '11.3266212624283']\n",
      "['Castel Maggiore', 'BO', '44.5687096629379', '11.3879675249422']\n",
      "['Ramiseto', 'RE', '44.3999558597279', '10.239000068107']\n",
      "['Collagna', 'RE', '44.3251763640087', '10.2563795010022']\n",
      "['Parma', 'PR', '44.7792325478157', '10.3280699931105']\n",
      "['Pievepelago', 'MO', '44.1824193246375', '10.5713532392909']\n",
      "['Ziano Piacentino', 'PC', '44.9907028551843', '9.38354332253249']\n",
      "['Canossa', 'RE', '44.5246372005171', '10.3828048954674']\n",
      "['Brescello', 'RE', '44.8987983807966', '10.5139199543272']\n",
      "[\"Villanova sull'Arda\", 'PC', '45.0301590667274', '10.0170182991447']\n",
      "['Berceto', 'PR', '44.5301645853507', '9.97599004163942']\n",
      "['San Leo', 'RN', '43.9198657036645', '12.3740691885464']\n",
      "['Vernasca', 'PC', '44.795701663081', '9.85408322896183']\n",
      "['Riolunato', 'MO', '44.2305279239986', '10.6520987266154']\n",
      "['Felino', 'PR', '44.6795157896056', '10.2387551809406']\n",
      "['Montefiorino', 'MO', '44.3427450184958', '10.557043680124']\n",
      "['Bedonia', 'PR', '44.5253575474622', '9.57899182126113']\n",
      "['Camugnano', 'BO', '44.1554815854831', '11.1040268488708']\n",
      "['Prignano sulla Secchia', 'MO', '44.4556892359501', '10.707537339729']\n",
      "['Morfasso', 'PC', '44.7226637447044', '9.72577741874846']\n",
      "['Tizzano Val Parma', 'PR', '44.5083110403874', '10.1977589213731']\n",
      "['Monte San Pietro', 'BO', '44.4261334569962', '11.1459563127657']\n",
      "['Salsomaggiore Terme', 'PR', '44.8110448774357', '10.01444189091']\n",
      "['Solignano', 'PR', '44.6371957692295', '9.93820123265488']\n",
      "['Fusignano', 'RA', '44.481947522945', '11.9558105328423']\n",
      "['Riolo Terme', 'RA', '44.2700313195263', '11.6985366138458']\n",
      "['Castel San Pietro Terme', 'BO', '44.3962123749741', '11.5481617341677']\n",
      "['Imola', 'BO', '44.3877798730496', '11.7159599685173']\n",
      "['Borgo Tossignano', 'BO', '44.272093475643', '11.6107577404867']\n",
      "['Spilamberto', 'MO', '44.5369595045105', '11.0004363443271']\n",
      "['Civitella di Romagna', 'FC', '44.0032550692916', '11.9646489566759']\n",
      "['Lama Mocogno', 'MO', '44.3030545736765', '10.7085385789905']\n",
      "['Montefiore Conca', 'RN', '43.8786094487979', '12.6055927950117']\n",
      "['Bardi', 'PR', '44.5812653966787', '9.76325166016625']\n",
      "['Pianello Val Tidone', 'PC', '44.93438391812', '9.43379457194283']\n",
      "['Bettola', 'PC', '44.7786269824878', '9.59654095016958']\n",
      "['Sestola', 'MO', '44.2349695801993', '10.7434939485654']\n",
      "['Longiano', 'FC', '44.0803058141132', '12.3413836947294']\n",
      "['Rimini', 'RN', '44.0260492354315', '12.5837985451325']\n",
      "['Corte Brugnatella', 'PC', '44.7154804770958', '9.34324131927883']\n",
      "['Cesena', 'FC', '44.1569217022985', '12.2952709200961']\n",
      "['Rubiera', 'RE', '44.6676930872807', '10.788189778545']\n",
      "['Borgo Val di Taro', 'PR', '44.5011572514532', '9.85641992182428']\n",
      "['Castelnuovo Rangone', 'MO', '44.5577442466715', '10.9506280266554']\n",
      "['Castel di Casio', 'BO', '44.1540944586591', '11.019965768731']\n",
      "['Fornovo di Taro', 'PR', '44.6689861483704', '10.1026312387909']\n",
      "['Fiorano Modenese', 'MO', '44.5304668917869', '10.8258763884848']\n",
      "['Boretto', 'RE', '44.8951411674914', '10.5611248270295']\n",
      "['Compiano', 'PR', '44.5315694602687', '9.67732010074531']\n",
      "['Cervia', 'RA', '44.2511978440706', '12.3149989397638']\n",
      "[\"Fiorenzuola d'Arda\", 'PC', '44.9342408326053', '9.91007997697454']\n",
      "['Cesenatico', 'FC', '44.1758423081881', '12.3800903795143']\n",
      "['Montechiarugolo', 'PR', '44.7043185649266', '10.392760907996']\n",
      "['Montescudo', 'RN', '43.9241241772046', '12.5327634899792']\n",
      "['Piacenza', 'PC', '45.0342599204124', '9.65575849510844']\n",
      "['Bologna', 'BO', '44.4979958900926', '11.3334199534071']\n",
      "['Bellaria-Igea Marina', 'RN', '44.1317132196122', '12.4636358294222']\n",
      "['Pecorara', 'PC', '44.8712025624287', '9.3751580329444']\n",
      "['Albinea', 'RE', '44.6072971928036', '10.6129819021811']\n",
      "['Granaglione', 'BO', '44.1060362491154', '10.9444517620746']\n",
      "[\"Sant'Agata sul Santerno\", 'RA', '44.4509255778894', '11.8611695127488']\n",
      "[\"Sant'Agata Feltria\", 'RN', '43.8593185978932', '12.1976328412331']\n",
      "['Caorso', 'PC', '45.059828079381', '9.8530915722925']\n",
      "['Busana', 'RE', '44.379405244983', '10.3242505014696']\n",
      "['Ligonchio', 'RE', '44.3052971033538', '10.3500845789904']\n",
      "['Marzabotto', 'BO', '44.3287066701004', '11.2029920104072']\n",
      "['Casalgrande', 'RE', '44.5786920026738', '10.7461743166012']\n",
      "['Busseto', 'PR', '44.9587588666215', '10.060249703101']\n",
      "['Ferrara', 'FE', '44.8228610600696', '11.6492201217974']\n",
      "['Ferriere', 'PC', '44.6169545533', '9.49363391730714']\n",
      "['Colorno', 'PR', '44.9418099079643', '10.3732069435401']\n",
      "['Goro', 'FE', '44.8015323355569', '12.3614283109952']\n",
      "['Sala Bolognese', 'BO', '44.6105131327312', '11.2484724595236']\n",
      "['Bagno di Romagna', 'FC', '43.8660571078466', '11.9453525550376']\n",
      "['Roncofreddo', 'FC', '44.0439879520357', '12.2659337503069']\n",
      "['Novafeltria', 'RN', '43.8828386143298', '12.2570241379105']\n",
      "['Fiumalbo', 'MO', '44.1788255815864', '10.6570373869575']\n",
      "['Coli', 'PC', '44.7368218490708', '9.42674034540374']\n",
      "['Gatteo', 'FC', '44.1311431482055', '12.391863407499']\n",
      "[\"Castell'Arquato\", 'PC', '44.8663065105586', '9.86840426543142']\n",
      "['Mezzani', 'PR', '44.9256357049726', '10.4457845312345']\n",
      "['San Benedetto Val di Sambro', 'BO', '44.1980312849519', '11.236160668127']\n",
      "['Sala Baganza', 'PR', '44.7018435602696', '10.2041291498662']\n",
      "['Molinella', 'BO', '44.6152430422574', '11.7503224429659']\n",
      "['Baiso', 'RE', '44.4813359975262', '10.6217438315146']\n",
      "['Bore', 'PR', '44.7112020849659', '9.8162089654096']\n",
      "['Zola Predosa', 'BO', '44.4949287226617', '11.2105248344915']\n",
      "['Cerignale', 'PC', '44.6736901227251', '9.35231273274968']\n",
      "['Castellarano', 'RE', '44.5283193852891', '10.7093416058536']\n",
      "['Morciano di Romagna', 'RN', '43.9134086335386', '12.6533545397537']\n",
      "['Villa Minozzo', 'RE', '44.3183407975257', '10.4413776854852']\n",
      "['San Lazzaro di Savena', 'BO', '44.4507143682859', '11.4261561565748']\n",
      "['Malalbergo', 'BO', '44.6874701083213', '11.5097936874856']\n",
      "['Maiolo', 'RN', '43.8869094938628', '12.3154759927908']\n",
      "['Piozzano', 'PC', '44.9078620561275', '9.46379738241149']\n",
      "[\"Sant'Agostino\", 'FE', '44.8001544714433', '11.3848385046708']\n",
      "['Corniglio', 'PR', '44.4757776052991', '10.0731654623355']\n",
      "['Casalfiumanese', 'BO', '44.2706904094921', '11.4830138230391']\n",
      "['Talamello', 'RN', '43.9134251303116', '12.2791559995824']\n",
      "{'http://dati.isprambiente.it/id/place/40032': ['Predappio', 'FC', '44.0922084956989', '11.9515345177325'], 'http://dati.isprambiente.it/id/place/37040': ['Monghidoro', 'BO', '44.2168500107027', '11.3297693970571'], 'http://dati.isprambiente.it/id/place/37037': ['Medicina', 'BO', '44.5065377118493', '11.6531589231081'], 'http://dati.isprambiente.it/id/place/35044': ['Viano', 'RE', '44.5497789915038', '10.5944534889928'], 'http://dati.isprambiente.it/id/place/33042': ['Sarmato', 'PC', '45.0722241833859', '9.49613042054165'], 'http://dati.isprambiente.it/id/place/37013': [\"Castel d'Aiano\", 'BO', '44.2756727867302', '11.0180186539359'], 'http://dati.isprambiente.it/id/place/34034': ['Sissa', 'PR', '44.9706036766297', '10.2834822406359'], 'http://dati.isprambiente.it/id/place/36029': ['Palagano', 'MO', '44.2801625738394', '10.6119205338592'], 'http://dati.isprambiente.it/id/place/37047': ['Pianoro', 'BO', '44.3766389462232', '11.3566515028008'], 'http://dati.isprambiente.it/id/place/40012': ['Forlì', 'FC', '44.2274378075878', '12.0498105083093'], 'http://dati.isprambiente.it/id/place/99013': ['Riccione', 'RN', '43.9987884203605', '12.6448362144615'], 'http://dati.isprambiente.it/id/place/34046': ['Varsi', 'PR', '44.642900194818', '9.8493601552521'], 'http://dati.isprambiente.it/id/place/40005': ['Castrocaro Terme e Terra del Sole', 'FC', '44.1721578286473', '11.933909551785'], 'http://dati.isprambiente.it/id/place/99017': ['San Giovanni in Marignano', 'RN', '43.9360407185259', '12.7064283454884'], 'http://dati.isprambiente.it/id/place/37048': ['Pieve di Cento', 'BO', '44.7674706763495', '11.3606178784333'], 'http://dati.isprambiente.it/id/place/33005': ['Bobbio', 'PC', '44.7920262766593', '9.3858685825511'], 'http://dati.isprambiente.it/id/place/37026': ['Fontanelice', 'BO', '44.2497462045666', '11.547275354148'], 'http://dati.isprambiente.it/id/place/37017': [\"Castello d'Argile\", 'BO', '44.6862834581668', '11.3025837943229'], 'http://dati.isprambiente.it/id/place/99016': ['San Clemente', 'RN', '43.9312917337782', '12.6320621536893'], 'http://dati.isprambiente.it/id/place/36037': ['San Felice sul Panaro', 'MO', '44.845188534406', '11.1506283987188'], 'http://dati.isprambiente.it/id/place/39012': ['Lugo', 'RA', '44.4773344376502', '11.9066018484468'], 'http://dati.isprambiente.it/id/place/37041': ['Monterenzio', 'BO', '44.3033018081764', '11.4264692347464'], 'http://dati.isprambiente.it/id/place/33045': ['Vigolzone', 'PC', '44.9213414451175', '9.67852337686145'], 'http://dati.isprambiente.it/id/place/37008': ['Budrio', 'BO', '44.5515223609743', '11.5449423859963'], 'http://dati.isprambiente.it/id/place/36046': ['Vignola', 'MO', '44.4908352175022', '11.0164115251075'], 'http://dati.isprambiente.it/id/place/39014': ['Ravenna', 'RA', '44.4161097613965', '12.1879414998409'], 'http://dati.isprambiente.it/id/place/36032': ['Polinago', 'MO', '44.3616898465417', '10.7441754750072'], 'http://dati.isprambiente.it/id/place/33002': ['Alseno', 'PC', '44.8873116882708', '9.96246577776708'], 'http://dati.isprambiente.it/id/place/37057': ['Sasso Marconi', 'BO', '44.4065900914958', '11.2421410673134'], 'http://dati.isprambiente.it/id/place/36026': ['Montese', 'MO', '44.2673512399754', '10.9239933742402'], 'http://dati.isprambiente.it/id/place/36019': ['Maranello', 'MO', '44.5081368999013', '10.8700897429153'], 'http://dati.isprambiente.it/id/place/38003': ['Bondeno', 'FE', '44.9020643370578', '11.3645617558736'], 'http://dati.isprambiente.it/id/place/40050': ['Verghereto', 'FC', '43.8076432417394', '12.0510496209187'], 'http://dati.isprambiente.it/id/place/39005': ['Casola Valsenio', 'RA', '44.2020305217197', '11.6106035296694'], 'http://dati.isprambiente.it/id/place/37022': ['Castiglione dei Pepoli', 'BO', '44.1233583432008', '11.1956079463872'], 'http://dati.isprambiente.it/id/place/33018': ['Cortemaggiore', 'PC', '45.0002814724449', '9.92064558607387'], 'http://dati.isprambiente.it/id/place/33008': ['Calendasco', 'PC', '45.091248339875', '9.60826117996152'], 'http://dati.isprambiente.it/id/place/34020': ['Medesano', 'PR', '44.7274862649565', '10.0825066499502'], 'http://dati.isprambiente.it/id/place/37005': ['Bentivoglio', 'BO', '44.6347693610772', '11.4273664877783'], 'http://dati.isprambiente.it/id/place/38015': ['Migliarino', 'FE', '44.7746035136604', '11.9280960946842'], 'http://dati.isprambiente.it/id/place/35042': ['Vetto', 'RE', '44.4814867278215', '10.3532048749381'], 'http://dati.isprambiente.it/id/place/37059': ['Vergato', 'BO', '44.2451312231063', '11.0638289550979'], 'http://dati.isprambiente.it/id/place/99024': ['Pennabilli', 'RN', '43.8279485240717', '12.309438032308'], 'http://dati.isprambiente.it/id/place/33013': ['Castel San Giovanni', 'PC', '45.057871304891', '9.4281830418783'], 'http://dati.isprambiente.it/id/place/39010': ['Faenza', 'RA', '44.3102389416828', '11.9632347470895'], 'http://dati.isprambiente.it/id/place/33043': ['Travo', 'PC', '44.8576900716299', '9.52595285216489'], 'http://dati.isprambiente.it/id/place/99019': ['Torriana', 'RN', '43.9788193285456', '12.3761938225946'], 'http://dati.isprambiente.it/id/place/34018': ['Langhirano', 'PR', '44.6146115356', '10.2332073256037'], 'http://dati.isprambiente.it/id/place/33025': ['Gropparello', 'PC', '44.8251650943555', '9.7108715931405'], 'http://dati.isprambiente.it/id/place/36002': ['Bomporto', 'MO', '44.7580126859088', '11.0510342338281'], 'http://dati.isprambiente.it/id/place/37031': ['Grizzana Morandi', 'BO', '44.2488964349191', '11.1305661471355'], 'http://dati.isprambiente.it/id/place/38014': ['Mesola', 'FE', '44.8852640258951', '12.2459456712609'], 'http://dati.isprambiente.it/id/place/37027': ['Gaggio Montano', 'BO', '44.2014296487467', '10.9433658924431'], 'http://dati.isprambiente.it/id/place/33030': ['Ottone', 'PC', '44.6256119569628', '9.30188529836556'], 'http://dati.isprambiente.it/id/place/35033': [\"Reggio nell'Emilia\", 'RE', '44.6974331549397', '10.6346640066187'], 'http://dati.isprambiente.it/id/place/35040': ['Scandiano', 'RE', '44.598800337671', '10.6899139471885'], 'http://dati.isprambiente.it/id/place/99003': ['Coriano', 'RN', '43.972080065031', '12.6090256004297'], 'http://dati.isprambiente.it/id/place/34009': ['Collecchio', 'PR', '44.7624468109962', '10.2036921712951'], 'http://dati.isprambiente.it/id/place/35041': ['Toano', 'RE', '44.3851236478973', '10.5455659716944'], 'http://dati.isprambiente.it/id/place/33026': [\"Lugagnano Val d'Arda\", 'PC', '44.8118010261305', '9.77834271594048'], 'http://dati.isprambiente.it/id/place/39006': ['Castel Bolognese', 'RA', '44.3207541826802', '11.7870848263222'], 'http://dati.isprambiente.it/id/place/34014': ['Fidenza', 'PR', '44.855474438381', '10.0776806271517'], 'http://dati.isprambiente.it/id/place/40004': ['Borghi', 'FC', '44.0193185896965', '12.3545822890674'], 'http://dati.isprambiente.it/id/place/39004': ['Brisighella', 'RA', '44.159934504768', '11.6697138231696'], 'http://dati.isprambiente.it/id/place/99020': ['Verucchio', 'RN', '43.9927439494671', '12.4302494361974'], 'http://dati.isprambiente.it/id/place/34040': ['Tornolo', 'PR', '44.4527697054718', '9.49369794718291'], 'http://dati.isprambiente.it/id/place/34019': [\"Lesignano de' Bagni\", 'PR', '44.617916729033', '10.2987316509423'], 'http://dati.isprambiente.it/id/place/38017': ['Ostellato', 'FE', '44.7119418477398', '12.0439854515882'], 'http://dati.isprambiente.it/id/place/34038': ['Terenzo', 'PR', '44.6143222334945', '10.0752779206209'], 'http://dati.isprambiente.it/id/place/36023': ['Modena', 'MO', '44.6438970183065', '10.9155350775428'], 'http://dati.isprambiente.it/id/place/40044': ['Sarsina', 'FC', '43.9006189178128', '12.122936817466'], 'http://dati.isprambiente.it/id/place/37001': [\"Anzola dell'Emilia\", 'BO', '44.5651602939912', '11.1934188016153'], 'http://dati.isprambiente.it/id/place/34025': ['Noceto', 'PR', '44.8067872211886', '10.1311501168323'], 'http://dati.isprambiente.it/id/place/99021': ['Casteldelci', 'RN', '43.7934699135451', '12.148412351024'], 'http://dati.isprambiente.it/id/place/39002': ['Bagnacavallo', 'RA', '44.4392578265822', '12.0057234309854'], 'http://dati.isprambiente.it/id/place/38006': ['Comacchio', 'FE', '44.7014548923959', '12.2041662085282'], 'http://dati.isprambiente.it/id/place/35043': ['Vezzano sul Crostolo', 'RE', '44.5870378687016', '10.5205247183104'], 'http://dati.isprambiente.it/id/place/40043': ['Santa Sofia', 'FC', '43.9007722781334', '11.7941195608876'], 'http://dati.isprambiente.it/id/place/36047': ['Zocca', 'MO', '44.3609656448932', '10.994815317776'], 'http://dati.isprambiente.it/id/place/37011': ['Casalecchio di Reno', 'BO', '44.4709580144848', '11.2653473225479'], 'http://dati.isprambiente.it/id/place/99018': ['Santarcangelo di Romagna', 'RN', '44.0585162498093', '12.4297980032092'], 'http://dati.isprambiente.it/id/place/33019': ['Farini', 'PC', '44.7166837833602', '9.51506118353626'], 'http://dati.isprambiente.it/id/place/34022': ['Monchio delle Corti', 'PR', '44.3964392140054', '10.1129163015926'], 'http://dati.isprambiente.it/id/place/36011': ['Fanano', 'MO', '44.1887892982588', '10.7824847796429'], 'http://dati.isprambiente.it/id/place/37028': ['Galliera', 'BO', '44.7565595083047', '11.3919676322972'], 'http://dati.isprambiente.it/id/place/36016': ['Frassinoro', 'MO', '44.2635843965076', '10.5391237531516'], 'http://dati.isprambiente.it/id/place/40003': ['Bertinoro', 'FC', '44.1429319387015', '12.1468470888153'], 'http://dati.isprambiente.it/id/place/40022': ['Modigliana', 'FC', '44.1491359347075', '11.7979481253718'], 'http://dati.isprambiente.it/id/place/37033': ['Lizzano in Belvedere', 'BO', '44.1640465771771', '10.8700853689935'], 'http://dati.isprambiente.it/id/place/38004': ['Cento', 'FE', '44.77571228775', '11.3079022486946'], 'http://dati.isprambiente.it/id/place/33029': ['Nibbiano', 'PC', '44.9405197743336', '9.35513699631645'], 'http://dati.isprambiente.it/id/place/34037': ['Sorbolo', 'PR', '44.8629492239688', '10.437109617085'], 'http://dati.isprambiente.it/id/place/37053': ['San Giovanni in Persiceto', 'BO', '44.6443505108545', '11.1968627414522'], 'http://dati.isprambiente.it/id/place/37034': ['Loiano', 'BO', '44.2821004284501', '11.3266212624283'], 'http://dati.isprambiente.it/id/place/37019': ['Castel Maggiore', 'BO', '44.5687096629379', '11.3879675249422'], 'http://dati.isprambiente.it/id/place/35031': ['Ramiseto', 'RE', '44.3999558597279', '10.239000068107'], 'http://dati.isprambiente.it/id/place/35019': ['Collagna', 'RE', '44.3251763640087', '10.2563795010022'], 'http://dati.isprambiente.it/id/place/34027': ['Parma', 'PR', '44.7792325478157', '10.3280699931105'], 'http://dati.isprambiente.it/id/place/36031': ['Pievepelago', 'MO', '44.1824193246375', '10.5713532392909'], 'http://dati.isprambiente.it/id/place/33048': ['Ziano Piacentino', 'PC', '44.9907028551843', '9.38354332253249'], 'http://dati.isprambiente.it/id/place/35018': ['Canossa', 'RE', '44.5246372005171', '10.3828048954674'], 'http://dati.isprambiente.it/id/place/35006': ['Brescello', 'RE', '44.8987983807966', '10.5139199543272'], 'http://dati.isprambiente.it/id/place/33046': [\"Villanova sull'Arda\", 'PC', '45.0301590667274', '10.0170182991447'], 'http://dati.isprambiente.it/id/place/34004': ['Berceto', 'PR', '44.5301645853507', '9.97599004163942'], 'http://dati.isprambiente.it/id/place/99025': ['San Leo', 'RN', '43.9198657036645', '12.3740691885464'], 'http://dati.isprambiente.it/id/place/33044': ['Vernasca', 'PC', '44.795701663081', '9.85408322896183'], 'http://dati.isprambiente.it/id/place/36035': ['Riolunato', 'MO', '44.2305279239986', '10.6520987266154'], 'http://dati.isprambiente.it/id/place/34013': ['Felino', 'PR', '44.6795157896056', '10.2387551809406'], 'http://dati.isprambiente.it/id/place/36025': ['Montefiorino', 'MO', '44.3427450184958', '10.557043680124'], 'http://dati.isprambiente.it/id/place/34003': ['Bedonia', 'PR', '44.5253575474622', '9.57899182126113'], 'http://dati.isprambiente.it/id/place/37010': ['Camugnano', 'BO', '44.1554815854831', '11.1040268488708'], 'http://dati.isprambiente.it/id/place/36033': ['Prignano sulla Secchia', 'MO', '44.4556892359501', '10.707537339729'], 'http://dati.isprambiente.it/id/place/33028': ['Morfasso', 'PC', '44.7226637447044', '9.72577741874846'], 'http://dati.isprambiente.it/id/place/34039': ['Tizzano Val Parma', 'PR', '44.5083110403874', '10.1977589213731'], 'http://dati.isprambiente.it/id/place/37042': ['Monte San Pietro', 'BO', '44.4261334569962', '11.1459563127657'], 'http://dati.isprambiente.it/id/place/34032': ['Salsomaggiore Terme', 'PR', '44.8110448774357', '10.01444189091'], 'http://dati.isprambiente.it/id/place/34035': ['Solignano', 'PR', '44.6371957692295', '9.93820123265488'], 'http://dati.isprambiente.it/id/place/39011': ['Fusignano', 'RA', '44.481947522945', '11.9558105328423'], 'http://dati.isprambiente.it/id/place/39015': ['Riolo Terme', 'RA', '44.2700313195263', '11.6985366138458'], 'http://dati.isprambiente.it/id/place/37020': ['Castel San Pietro Terme', 'BO', '44.3962123749741', '11.5481617341677'], 'http://dati.isprambiente.it/id/place/37032': ['Imola', 'BO', '44.3877798730496', '11.7159599685173'], 'http://dati.isprambiente.it/id/place/37007': ['Borgo Tossignano', 'BO', '44.272093475643', '11.6107577404867'], 'http://dati.isprambiente.it/id/place/36045': ['Spilamberto', 'MO', '44.5369595045105', '11.0004363443271'], 'http://dati.isprambiente.it/id/place/40009': ['Civitella di Romagna', 'FC', '44.0032550692916', '11.9646489566759'], 'http://dati.isprambiente.it/id/place/36018': ['Lama Mocogno', 'MO', '44.3030545736765', '10.7085385789905'], 'http://dati.isprambiente.it/id/place/99008': ['Montefiore Conca', 'RN', '43.8786094487979', '12.6055927950117'], 'http://dati.isprambiente.it/id/place/34002': ['Bardi', 'PR', '44.5812653966787', '9.76325166016625'], 'http://dati.isprambiente.it/id/place/33033': ['Pianello Val Tidone', 'PC', '44.93438391812', '9.43379457194283'], 'http://dati.isprambiente.it/id/place/33004': ['Bettola', 'PC', '44.7786269824878', '9.59654095016958'], 'http://dati.isprambiente.it/id/place/36043': ['Sestola', 'MO', '44.2349695801993', '10.7434939485654'], 'http://dati.isprambiente.it/id/place/40018': ['Longiano', 'FC', '44.0803058141132', '12.3413836947294'], 'http://dati.isprambiente.it/id/place/99014': ['Rimini', 'RN', '44.0260492354315', '12.5837985451325'], 'http://dati.isprambiente.it/id/place/33017': ['Corte Brugnatella', 'PC', '44.7154804770958', '9.34324131927883'], 'http://dati.isprambiente.it/id/place/40007': ['Cesena', 'FC', '44.1569217022985', '12.2952709200961'], 'http://dati.isprambiente.it/id/place/35036': ['Rubiera', 'RE', '44.6676930872807', '10.788189778545'], 'http://dati.isprambiente.it/id/place/34006': ['Borgo Val di Taro', 'PR', '44.5011572514532', '9.85641992182428'], 'http://dati.isprambiente.it/id/place/36007': ['Castelnuovo Rangone', 'MO', '44.5577442466715', '10.9506280266554'], 'http://dati.isprambiente.it/id/place/37015': ['Castel di Casio', 'BO', '44.1540944586591', '11.019965768731'], 'http://dati.isprambiente.it/id/place/34017': ['Fornovo di Taro', 'PR', '44.6689861483704', '10.1026312387909'], 'http://dati.isprambiente.it/id/place/36013': ['Fiorano Modenese', 'MO', '44.5304668917869', '10.8258763884848'], 'http://dati.isprambiente.it/id/place/35005': ['Boretto', 'RE', '44.8951411674914', '10.5611248270295'], 'http://dati.isprambiente.it/id/place/34011': ['Compiano', 'PR', '44.5315694602687', '9.67732010074531'], 'http://dati.isprambiente.it/id/place/39007': ['Cervia', 'RA', '44.2511978440706', '12.3149989397638'], 'http://dati.isprambiente.it/id/place/33021': [\"Fiorenzuola d'Arda\", 'PC', '44.9342408326053', '9.91007997697454'], 'http://dati.isprambiente.it/id/place/40008': ['Cesenatico', 'FC', '44.1758423081881', '12.3800903795143'], 'http://dati.isprambiente.it/id/place/34023': ['Montechiarugolo', 'PR', '44.7043185649266', '10.392760907996'], 'http://dati.isprambiente.it/id/place/99010': ['Montescudo', 'RN', '43.9241241772046', '12.5327634899792'], 'http://dati.isprambiente.it/id/place/33032': ['Piacenza', 'PC', '45.0342599204124', '9.65575849510844'], 'http://dati.isprambiente.it/id/place/37006': ['Bologna', 'BO', '44.4979958900926', '11.3334199534071'], 'http://dati.isprambiente.it/id/place/99001': ['Bellaria-Igea Marina', 'RN', '44.1317132196122', '12.4636358294222'], 'http://dati.isprambiente.it/id/place/33031': ['Pecorara', 'PC', '44.8712025624287', '9.3751580329444'], 'http://dati.isprambiente.it/id/place/35001': ['Albinea', 'RE', '44.6072971928036', '10.6129819021811'], 'http://dati.isprambiente.it/id/place/37029': ['Granaglione', 'BO', '44.1060362491154', '10.9444517620746'], 'http://dati.isprambiente.it/id/place/39017': [\"Sant'Agata sul Santerno\", 'RA', '44.4509255778894', '11.8611695127488'], 'http://dati.isprambiente.it/id/place/99026': [\"Sant'Agata Feltria\", 'RN', '43.8593185978932', '12.1976328412331'], 'http://dati.isprambiente.it/id/place/33010': ['Caorso', 'PC', '45.059828079381', '9.8530915722925'], 'http://dati.isprambiente.it/id/place/35007': ['Busana', 'RE', '44.379405244983', '10.3242505014696'], 'http://dati.isprambiente.it/id/place/35025': ['Ligonchio', 'RE', '44.3052971033538', '10.3500845789904'], 'http://dati.isprambiente.it/id/place/37036': ['Marzabotto', 'BO', '44.3287066701004', '11.2029920104072'], 'http://dati.isprambiente.it/id/place/35012': ['Casalgrande', 'RE', '44.5786920026738', '10.7461743166012'], 'http://dati.isprambiente.it/id/place/34007': ['Busseto', 'PR', '44.9587588666215', '10.060249703101'], 'http://dati.isprambiente.it/id/place/38008': ['Ferrara', 'FE', '44.8228610600696', '11.6492201217974'], 'http://dati.isprambiente.it/id/place/33020': ['Ferriere', 'PC', '44.6169545533', '9.49363391730714'], 'http://dati.isprambiente.it/id/place/34010': ['Colorno', 'PR', '44.9418099079643', '10.3732069435401'], 'http://dati.isprambiente.it/id/place/38025': ['Goro', 'FE', '44.8015323355569', '12.3614283109952'], 'http://dati.isprambiente.it/id/place/37050': ['Sala Bolognese', 'BO', '44.6105131327312', '11.2484724595236'], 'http://dati.isprambiente.it/id/place/40001': ['Bagno di Romagna', 'FC', '43.8660571078466', '11.9453525550376'], 'http://dati.isprambiente.it/id/place/40037': ['Roncofreddo', 'FC', '44.0439879520357', '12.2659337503069'], 'http://dati.isprambiente.it/id/place/99023': ['Novafeltria', 'RN', '43.8828386143298', '12.2570241379105'], 'http://dati.isprambiente.it/id/place/36014': ['Fiumalbo', 'MO', '44.1788255815864', '10.6570373869575'], 'http://dati.isprambiente.it/id/place/33016': ['Coli', 'PC', '44.7368218490708', '9.42674034540374'], 'http://dati.isprambiente.it/id/place/40016': ['Gatteo', 'FC', '44.1311431482055', '12.391863407499'], 'http://dati.isprambiente.it/id/place/33012': [\"Castell'Arquato\", 'PC', '44.8663065105586', '9.86840426543142'], 'http://dati.isprambiente.it/id/place/34021': ['Mezzani', 'PR', '44.9256357049726', '10.4457845312345'], 'http://dati.isprambiente.it/id/place/37051': ['San Benedetto Val di Sambro', 'BO', '44.1980312849519', '11.236160668127'], 'http://dati.isprambiente.it/id/place/34031': ['Sala Baganza', 'PR', '44.7018435602696', '10.2041291498662'], 'http://dati.isprambiente.it/id/place/37039': ['Molinella', 'BO', '44.6152430422574', '11.7503224429659'], 'http://dati.isprambiente.it/id/place/35003': ['Baiso', 'RE', '44.4813359975262', '10.6217438315146'], 'http://dati.isprambiente.it/id/place/34005': ['Bore', 'PR', '44.7112020849659', '9.8162089654096'], 'http://dati.isprambiente.it/id/place/37060': ['Zola Predosa', 'BO', '44.4949287226617', '11.2105248344915'], 'http://dati.isprambiente.it/id/place/33015': ['Cerignale', 'PC', '44.6736901227251', '9.35231273274968'], 'http://dati.isprambiente.it/id/place/35014': ['Castellarano', 'RE', '44.5283193852891', '10.7093416058536'], 'http://dati.isprambiente.it/id/place/99011': ['Morciano di Romagna', 'RN', '43.9134086335386', '12.6533545397537'], 'http://dati.isprambiente.it/id/place/35045': ['Villa Minozzo', 'RE', '44.3183407975257', '10.4413776854852'], 'http://dati.isprambiente.it/id/place/37054': ['San Lazzaro di Savena', 'BO', '44.4507143682859', '11.4261561565748'], 'http://dati.isprambiente.it/id/place/37035': ['Malalbergo', 'BO', '44.6874701083213', '11.5097936874856'], 'http://dati.isprambiente.it/id/place/99022': ['Maiolo', 'RN', '43.8869094938628', '12.3154759927908'], 'http://dati.isprambiente.it/id/place/33034': ['Piozzano', 'PC', '44.9078620561275', '9.46379738241149'], 'http://dati.isprambiente.it/id/place/38021': [\"Sant'Agostino\", 'FE', '44.8001544714433', '11.3848385046708'], 'http://dati.isprambiente.it/id/place/34012': ['Corniglio', 'PR', '44.4757776052991', '10.0731654623355'], 'http://dati.isprambiente.it/id/place/37012': ['Casalfiumanese', 'BO', '44.2706904094921', '11.4830138230391'], 'http://dati.isprambiente.it/id/place/99027': ['Talamello', 'RN', '43.9134251303116', '12.2791559995824']}\n"
     ]
    }
   ],
   "source": [
    "lat = URIRef('http://www.w3.org/2003/01/geo/wgs84_pos#lat')\n",
    "long = URIRef('http://www.w3.org/2003/01/geo/wgs84_pos#long')\n",
    "for urls, items in names_places.items():\n",
    "    # print('items:', items)\n",
    "    url = URIRef(urls)\n",
    "    \n",
    "    for s, p, o in result_places.triples((url, lat, None)):\n",
    "        \n",
    "        new_value = items\n",
    "        new_value.append(str(o))\n",
    "        print(new_value)\n",
    "        names_places[urls]=new_value\n",
    "\n",
    "for urls, items in names_places.items():\n",
    "    # print('items:', items)\n",
    "    url = URIRef(urls)\n",
    "    \n",
    "    for s, p, o in result_places.triples((url, long, None)):\n",
    "        \n",
    "        new_value = items\n",
    "        new_value.append(str(o))\n",
    "        print(new_value)\n",
    "        names_places[urls]=new_value\n",
    "\n",
    "       \n",
    "print(names_places)\n"
   ]
  },
  {
   "cell_type": "markdown",
   "metadata": {},
   "source": [
    "Now we \n"
   ]
  },
  {
   "cell_type": "code",
   "execution_count": null,
   "metadata": {},
   "outputs": [],
   "source": []
  }
 ],
 "metadata": {
  "kernelspec": {
   "display_name": "Python 3.9.4 64-bit",
   "language": "python",
   "name": "python3"
  },
  "language_info": {
   "codemirror_mode": {
    "name": "ipython",
    "version": 3
   },
   "file_extension": ".py",
   "mimetype": "text/x-python",
   "name": "python",
   "nbconvert_exporter": "python",
   "pygments_lexer": "ipython3",
   "version": "3.9.4"
  },
  "orig_nbformat": 4,
  "vscode": {
   "interpreter": {
    "hash": "aee8b7b246df8f9039afb4144a1f6fd8d2ca17a180786b69acc140d282b71a49"
   }
  }
 },
 "nbformat": 4,
 "nbformat_minor": 2
}
