{
 "cells": [
  {
   "cell_type": "markdown",
   "metadata": {},
   "source": [
    "# Rendmi\n",
    "\n",
    "Datadump used updated untl 06/07/2022\n",
    "\n",
    "Source: http://dati.isprambiente.it/accesso-ai-dati/download/\n",
    "\n",
    "In order to analyze tyhe dataset, gather all the data needed and turn it into a .json file we will use rdflib to query the graph."
   ]
  },
  {
   "cell_type": "code",
   "execution_count": 11,
   "metadata": {},
   "outputs": [],
   "source": [
    "# all imports\n",
    "import pprint\n",
    "import rdflib\n",
    "from rdflib import URIRef, Literal, Namespace\n",
    "from rdflib.namespace import XSD, RDFS, DCTERMS\n",
    "from rdflib import Literal"
   ]
  },
  {
   "cell_type": "markdown",
   "metadata": {},
   "source": [
    "Data had some errors that needed to be manualy corrected in order to maake the parser work.\n",
    "\n",
    "**Specifically**:\n",
    "\n",
    "Invalid lines sucH as *-schema#label>\"[ sometext ]\".*  were changed into *-schema#label> \"[ sometext ]\".* "
   ]
  },
  {
   "cell_type": "code",
   "execution_count": 12,
   "metadata": {},
   "outputs": [],
   "source": [
    "# create an empty Graph\n",
    "g = rdflib.Graph()\n",
    "\n",
    "# parse a local RDF file by specifying the format into the graph\n",
    "result = g.parse(\"../datasets/originals/dissesto_07_06_2022.nt\", format='nt')"
   ]
  },
  {
   "cell_type": "markdown",
   "metadata": {},
   "source": [
    "Looks abit weird as 50 entries are missing w.r.t. the original .nt file"
   ]
  },
  {
   "cell_type": "markdown",
   "metadata": {},
   "source": [
    "Next step consists in subsetting thedataset nd keeping oly facts relted to Emilia romagna.\n",
    "\n",
    "Thus we previously gathered a [list](http://dati.isprambiente.it/sparql?default-graph-uri=&query=select+distinct+%3Fp+%3Fplabel%0D%0Awhere+%7B%0D%0A%3Fs+%3Fp+%3Fo.%0D%0A%3Fp+rdfs%3Alabel+%3Fplabel.%0D%0Afilter%28lang%28%3Fplabel%29+%3D+%27en%27%29%7D%0D%0A&format=text%2Fhtml&timeout=0&debug=on) of all predicates in the dataset and individuated http://www.geonames.org/ontology#parentADM1 as a startng point, as it is the predicate referring to the italian region "
   ]
  },
  {
   "cell_type": "code",
   "execution_count": 23,
   "metadata": {},
   "outputs": [
    {
     "name": "stdout",
     "output_type": "stream",
     "text": [
      "{rdflib.term.URIRef('http://dati.isprambiente.it/ontology/core#EconomicIndicator'), rdflib.term.URIRef('http://purl.org/goodrelations/v1#BusinessEntity'), rdflib.term.URIRef('http://www.w3.org/2004/02/skos/core#Concept'), rdflib.term.URIRef('http://dati.isprambiente.it/ontology/core#LotStep'), rdflib.term.URIRef('http://purl.org/procurement/public-contracts#FrameworkAgreement'), rdflib.term.URIRef('http://dati.isprambiente.it/ontology/core#Contract'), rdflib.term.URIRef('http://www.w3.org/2004/02/skos/core#ConceptScheme'), rdflib.term.URIRef('http://dati.isprambiente.it/ontology/core#Lithology'), rdflib.term.URIRef('http://dati.isprambiente.it/ontology/core#Intervention'), rdflib.term.URIRef('http://dati.isprambiente.it/ontology/core#AuthorityKind'), rdflib.term.URIRef('http://dati.isprambiente.it/ontology/core#Instability'), rdflib.term.URIRef('http://dati.isprambiente.it/ontology/core#Repair')}\n"
     ]
    }
   ],
   "source": [
    "#look at regions\n",
    "\n",
    "types = set()\n",
    "\n",
    "type = URIRef('http://www.w3.org/1999/02/22-rdf-syntax-ns#type') \n",
    "instability = '<http://dati.isprambiente.it/ontology/core#Instability>'\n",
    "\n",
    "for s, p, o in result.triples((None, type, None)):\n",
    "    types.add(o)\n",
    "\n",
    "print(types)"
   ]
  },
  {
   "cell_type": "markdown",
   "metadata": {},
   "source": [
    "The result shows the main types of entities recorded in the graph.\n",
    "At the moment the interesting fieldsfor us are Intervention, Instability and repair  interesting for us here. \n",
    "\n",
    "Lets see which predicateds are used with each one of them, keeping in mind weneed to find their geo loction, entity, etc. "
   ]
  },
  {
   "cell_type": "code",
   "execution_count": 28,
   "metadata": {},
   "outputs": [
    {
     "name": "stdout",
     "output_type": "stream",
     "text": [
      "http://dati.isprambiente.it/id/ihi/intervention/232/02\n"
     ]
    }
   ],
   "source": [
    "#Intervention\n",
    "\n",
    "subjects = set()\n",
    "type = URIRef('http://www.w3.org/1999/02/22-rdf-syntax-ns#type') \n",
    "intervention = URIRef('http://dati.isprambiente.it/ontology/core#Intervention') \n",
    "\n",
    "for s, p, o in result.triples((None, type, intervention)):\n",
    "    subjects.add(s)\n",
    "\n",
    "print(list(subjects)[0])"
   ]
  },
  {
   "cell_type": "markdown",
   "metadata": {},
   "source": [
    "Now that we have gathered all regords having intervention as type, lets see with a random one the predicates related to it."
   ]
  },
  {
   "cell_type": "code",
   "execution_count": 29,
   "metadata": {},
   "outputs": [
    {
     "name": "stdout",
     "output_type": "stream",
     "text": [
      "{rdflib.term.URIRef('http://www.w3.org/2000/01/rdf-schema#label'), rdflib.term.URIRef('http://dati.isprambiente.it/ontology/core#amountFinanced'), rdflib.term.URIRef('http://dati.isprambiente.it/ontology/core#hasAgreement'), rdflib.term.URIRef('http://dati.isprambiente.it/ontology/core#contractingAuthority'), rdflib.term.URIRef('http://purl.org/dc/terms/isPartOf'), rdflib.term.URIRef('http://purl.org/dc/terms/publisher'), rdflib.term.URIRef('http://www.w3.org/2003/01/geo/wgs84_pos#location'), rdflib.term.URIRef('http://dati.isprambiente.it/ontology/core#primaryGeographicalFeature'), rdflib.term.URIRef('http://purl.org/dc/terms/isReferencedBy'), rdflib.term.URIRef('http://dati.isprambiente.it/ontology/core#officialInstabilityType'), rdflib.term.URIRef('http://www.w3.org/1999/02/22-rdf-syntax-ns#type')}\n"
     ]
    }
   ],
   "source": [
    "#predicates\n",
    "preds = set()\n",
    "intervention = URIRef('http://dati.isprambiente.it/id/ihi/intervention/232/02') \n",
    "\n",
    "for s, p, o in result.triples((intervention, None, None)):\n",
    "    preds.add(p)\n",
    "\n",
    "print(preds)"
   ]
  },
  {
   "cell_type": "code",
   "execution_count": 44,
   "metadata": {},
   "outputs": [],
   "source": [
    "#test\n",
    "\n",
    "for intervention_uri in subjects:\n",
    "    intervention = URIRef(intervention_uri) \n",
    "    preds_this = set()\n",
    "\n",
    "    for s, p, o in result.triples((intervention, None, None)):\n",
    "        preds_this.add(p)\n",
    "    \n",
    "    if preds_this != preds:\n",
    "        print(intervention, 'has different predicates')\n",
    "\n",
    "    # print(preds)\n"
   ]
  },
  {
   "cell_type": "code",
   "execution_count": 48,
   "metadata": {},
   "outputs": [
    {
     "name": "stdout",
     "output_type": "stream",
     "text": [
      "http://dati.isprambiente.it/id/ihi/instability/108/082di-6\n"
     ]
    }
   ],
   "source": [
    "#Instability\n",
    "\n",
    "subjects = set()\n",
    "type = URIRef('http://www.w3.org/1999/02/22-rdf-syntax-ns#type') \n",
    "instability = URIRef('http://dati.isprambiente.it/ontology/core#Instability') \n",
    "\n",
    "for s, p, o in result.triples((None, type, instability)):\n",
    "    subjects.add(s)\n",
    "\n",
    "print(list(subjects)[0])"
   ]
  },
  {
   "cell_type": "code",
   "execution_count": 50,
   "metadata": {},
   "outputs": [
    {
     "name": "stdout",
     "output_type": "stream",
     "text": [
      "{rdflib.term.URIRef('http://www.w3.org/2000/01/rdf-schema#label'), rdflib.term.URIRef('http://dati.isprambiente.it/ontology/core#instabilityGroup'), rdflib.term.URIRef('http://dati.isprambiente.it/ontology/core#instabilityRelatedTo'), rdflib.term.URIRef('http://www.w3.org/1999/02/22-rdf-syntax-ns#type'), rdflib.term.URIRef('http://dati.isprambiente.it/ontology/core#instabilityType')}\n"
     ]
    }
   ],
   "source": [
    "# predicates\n",
    "preds = set()\n",
    "instability = URIRef('http://dati.isprambiente.it/id/ihi/instability/108/082di-6') \n",
    "\n",
    "for s, p, o in result.triples((instability, None, None)):\n",
    "    preds.add(p)\n",
    "\n",
    "print(preds)"
   ]
  },
  {
   "cell_type": "code",
   "execution_count": 51,
   "metadata": {},
   "outputs": [],
   "source": [
    "#test\n",
    "\n",
    "for intervention_uri in subjects:\n",
    "    intervention = URIRef(intervention_uri) \n",
    "    preds_this = set()\n",
    "\n",
    "    for s, p, o in result.triples((intervention, None, None)):\n",
    "        preds_this.add(p)\n",
    "    \n",
    "    if preds_this != preds:\n",
    "        print(intervention, 'has different predicates')\n",
    "\n",
    "    # print(preds)"
   ]
  },
  {
   "cell_type": "code",
   "execution_count": null,
   "metadata": {},
   "outputs": [],
   "source": []
  }
 ],
 "metadata": {
  "kernelspec": {
   "display_name": "Python 3.9.4 64-bit",
   "language": "python",
   "name": "python3"
  },
  "language_info": {
   "codemirror_mode": {
    "name": "ipython",
    "version": 3
   },
   "file_extension": ".py",
   "mimetype": "text/x-python",
   "name": "python",
   "nbconvert_exporter": "python",
   "pygments_lexer": "ipython3",
   "version": "3.9.4"
  },
  "orig_nbformat": 4,
  "vscode": {
   "interpreter": {
    "hash": "aee8b7b246df8f9039afb4144a1f6fd8d2ca17a180786b69acc140d282b71a49"
   }
  }
 },
 "nbformat": 4,
 "nbformat_minor": 2
}
